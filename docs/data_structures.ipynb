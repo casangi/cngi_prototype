{
  "nbformat": 4,
  "nbformat_minor": 0,
  "metadata": {
    "colab": {
      "name": "Data Structures.ipynb",
      "provenance": [],
      "collapsed_sections": [],
      "toc_visible": true
    },
    "kernelspec": {
      "name": "python3",
      "display_name": "Python 3"
    }
  },
  "cells": [
    {
      "cell_type": "markdown",
      "metadata": {
        "id": "eWaNjKraaSCF"
      },
      "source": [
        "# Data Structures\n",
        "An overview of the new image and visibility data structures and how to convert from the casacore based file formats.\n"
      ]
    },
    {
      "cell_type": "code",
      "metadata": {
        "id": "IIr5sp0VgR2m",
        "colab": {
          "base_uri": "https://localhost:8080/"
        },
        "outputId": "970e585f-ed41-491a-d219-0322345de084"
      },
      "source": [
        "# Installation  \n",
        "import os\n",
        "print(\"installing casa6 + cngi (takes a minute or two)...\")\n",
        "os.system(\"apt-get install libgfortran3\")\n",
        "os.system(\"pip install --index-url https://casa-pip.nrao.edu/repository/pypi-casa-release/simple casatasks==6.1.0.118\")\n",
        "#os.system(\"pip install cngi-prototype==0.0.66\")\n",
        "os.system(\"pip install --extra-index-url https://test.pypi.org/simple/ cngi-prototype==0.0.68rc9\")\n",
        "\n",
        "# Retrieve and extract demonstration datasets\n",
        "print('retrieving MS tarfiles...')\n",
        "!gdown -q --id 15HfB4rJKqEH7df088Ge5YLrCTXBIax6R\n",
        "!gdown -q --id 1N9QSs2Hbhi-BrEHx5PA54WigXt8GGgx1\n",
        "print('extracting MS tarfiles...')\n",
        "!tar -xf M100.ms.tar\n",
        "!tar -xzf sis14_twhya_calibrated_flagged.ms.tar.gz\n",
        "\n",
        "print('complete')"
      ],
      "execution_count": 1,
      "outputs": [
        {
          "output_type": "stream",
          "text": [
            "installing casa6 + cngi (takes a minute or two)...\n",
            "retrieving MS tarfiles...\n",
            "extracting MS tarfiles...\n",
            "complete\n"
          ],
          "name": "stdout"
        }
      ]
    },
    {
      "cell_type": "markdown",
      "metadata": {
        "id": "WxuECb4D8su0"
      },
      "source": [
        "## MeasurementSet Conversion\n",
        "CNGI uses an [xarray](http://xarray.pydata.org/en/stable/data-structures.html#dataset) dataset and the zarr storage format to hold the contents of the MS.  This provides several advantages to the old MS structure including:\n",
        "1. Easier access and manipulation of data with numpy-like mathematics\n",
        "2. N-dim visibility cubes (time, baseline, chan, pol) instead of interlaced rows of variable shape\n",
        "3. Natively parallel and scalable operations\n"
      ]
    },
    {
      "cell_type": "markdown",
      "metadata": {
        "id": "0NCl8mY-3q1j"
      },
      "source": [
        "### Data Description IDs\n",
        "\n",
        "The conversion process will translate an MS directory on disk into one or more Xarray Datasets (xds) and (optionally) store them to a Zarr directory on disk.  To properly support dimension expansion from interlaced rows, each MS SPW/Pol combination, denoted by Data Description ID (**DDI**), must be processed and partitioned individually, along with the various subtables.\n",
        "\n",
        "We begin by inspecting the structure of the M100 MeasurementSet to determine how best to convert it"
      ]
    },
    {
      "cell_type": "code",
      "metadata": {
        "colab": {
          "base_uri": "https://localhost:8080/",
          "height": 204
        },
        "id": "qDNqy52H0o2M",
        "outputId": "6b3a4c23-d732-4502-c599-c6b803c18ff6"
      },
      "source": [
        "from cngi.conversion import describe_ms\n",
        "\n",
        "describe_ms('M100.ms')"
      ],
      "execution_count": 2,
      "outputs": [
        {
          "output_type": "stream",
          "text": [
            "reading SPECTRAL_WINDOW chunk 0 of 0, col MEAS_FREQ_REF...                    \rreading SPECTRAL_WINDOW chunk 0 of 0, col CHAN_FREQ...                    \rreading SPECTRAL_WINDOW chunk 0 of 0, col REF_FREQUENCY...                    \rreading SPECTRAL_WINDOW chunk 0 of 0, col CHAN_WIDTH...                    \rreading SPECTRAL_WINDOW chunk 0 of 0, col EFFECTIVE_BW...                    \rreading SPECTRAL_WINDOW chunk 0 of 0, col RESOLUTION...                    \rreading SPECTRAL_WINDOW chunk 0 of 0, col FREQ_GROUP...                    \rreading SPECTRAL_WINDOW chunk 0 of 0, col FREQ_GROUP_NAME...                    \rreading SPECTRAL_WINDOW chunk 0 of 0, col IF_CONV_CHAIN...                    \rreading SPECTRAL_WINDOW chunk 0 of 0, col NAME...                    \rreading SPECTRAL_WINDOW chunk 0 of 0, col NET_SIDEBAND...                    \rreading SPECTRAL_WINDOW chunk 0 of 0, col NUM_CHAN...                    \rreading SPECTRAL_WINDOW chunk 0 of 0, col TOTAL_BANDWIDTH...                    \rreading SPECTRAL_WINDOW chunk 0 of 0, col BBC_NO...                    \rreading SPECTRAL_WINDOW chunk 0 of 0, col ASSOC_SPW_ID...                    \rreading SPECTRAL_WINDOW chunk 0 of 0, col ASSOC_NATURE...                    \rreading POLARIZATION chunk 0 of 0, col CORR_TYPE...                    \rreading POLARIZATION chunk 0 of 0, col CORR_PRODUCT...                    \rreading POLARIZATION chunk 0 of 0, col NUM_CORR...                    \rreading DATA_DESCRIPTION chunk 0 of 0, col POLARIZATION_ID...                    \rreading DATA_DESCRIPTION chunk 0 of 0, col SPECTRAL_WINDOW_ID...                    \rprocessing ddi 1 of 4\rprocessing ddi 2 of 4\rprocessing ddi 3 of 4\rprocessing ddi 4 of 4\r                                                  \r"
          ],
          "name": "stdout"
        },
        {
          "output_type": "execute_result",
          "data": {
            "text/html": [
              "<div>\n",
              "<style scoped>\n",
              "    .dataframe tbody tr th:only-of-type {\n",
              "        vertical-align: middle;\n",
              "    }\n",
              "\n",
              "    .dataframe tbody tr th {\n",
              "        vertical-align: top;\n",
              "    }\n",
              "\n",
              "    .dataframe thead th {\n",
              "        text-align: right;\n",
              "    }\n",
              "</style>\n",
              "<table border=\"1\" class=\"dataframe\">\n",
              "  <thead>\n",
              "    <tr style=\"text-align: right;\">\n",
              "      <th></th>\n",
              "      <th>spw_id</th>\n",
              "      <th>pol_id</th>\n",
              "      <th>rows</th>\n",
              "      <th>times</th>\n",
              "      <th>baselines</th>\n",
              "      <th>chans</th>\n",
              "      <th>pols</th>\n",
              "      <th>size_MB</th>\n",
              "    </tr>\n",
              "    <tr>\n",
              "      <th>ddi</th>\n",
              "      <th></th>\n",
              "      <th></th>\n",
              "      <th></th>\n",
              "      <th></th>\n",
              "      <th></th>\n",
              "      <th></th>\n",
              "      <th></th>\n",
              "      <th></th>\n",
              "    </tr>\n",
              "  </thead>\n",
              "  <tbody>\n",
              "    <tr>\n",
              "      <th>0</th>\n",
              "      <td>0</td>\n",
              "      <td>0</td>\n",
              "      <td>32464</td>\n",
              "      <td>568</td>\n",
              "      <td>154</td>\n",
              "      <td>240</td>\n",
              "      <td>2</td>\n",
              "      <td>681</td>\n",
              "    </tr>\n",
              "    <tr>\n",
              "      <th>1</th>\n",
              "      <td>1</td>\n",
              "      <td>0</td>\n",
              "      <td>32464</td>\n",
              "      <td>568</td>\n",
              "      <td>154</td>\n",
              "      <td>240</td>\n",
              "      <td>2</td>\n",
              "      <td>681</td>\n",
              "    </tr>\n",
              "    <tr>\n",
              "      <th>2</th>\n",
              "      <td>2</td>\n",
              "      <td>0</td>\n",
              "      <td>32464</td>\n",
              "      <td>568</td>\n",
              "      <td>154</td>\n",
              "      <td>240</td>\n",
              "      <td>2</td>\n",
              "      <td>681</td>\n",
              "    </tr>\n",
              "    <tr>\n",
              "      <th>3</th>\n",
              "      <td>3</td>\n",
              "      <td>0</td>\n",
              "      <td>31408</td>\n",
              "      <td>568</td>\n",
              "      <td>142</td>\n",
              "      <td>240</td>\n",
              "      <td>2</td>\n",
              "      <td>628</td>\n",
              "    </tr>\n",
              "  </tbody>\n",
              "</table>\n",
              "</div>"
            ],
            "text/plain": [
              "     spw_id  pol_id   rows  times  baselines  chans  pols  size_MB\n",
              "ddi                                                               \n",
              "0         0       0  32464    568        154    240     2      681\n",
              "1         1       0  32464    568        154    240     2      681\n",
              "2         2       0  32464    568        154    240     2      681\n",
              "3         3       0  31408    568        142    240     2      628"
            ]
          },
          "metadata": {
            "tags": []
          },
          "execution_count": 2
        }
      ]
    },
    {
      "cell_type": "markdown",
      "metadata": {
        "id": "Qno9aMH_077y"
      },
      "source": [
        "This demonstration MS has four DDI's, corresponding to four different SPW's. In this case they are of similar modest size.\n",
        "\n",
        "Let's convert two of them now using the default settings"
      ]
    },
    {
      "cell_type": "code",
      "metadata": {
        "id": "S0B_KBb09ORJ",
        "colab": {
          "base_uri": "https://localhost:8080/"
        },
        "outputId": "db538335-6645-4f90-be95-a2c71c38b406"
      },
      "source": [
        "from cngi.conversion import convert_ms\n",
        "\n",
        "mxds = convert_ms('M100.ms', ddis=[0,2])"
      ],
      "execution_count": 3,
      "outputs": [
        {
          "output_type": "stream",
          "text": [
            "Completed ddi 0  process time 9.35 s\n",
            "Completed ddi 2  process time 8.87 s\n",
            "                                                  \n"
          ],
          "name": "stdout"
        }
      ]
    },
    {
      "cell_type": "markdown",
      "metadata": {
        "id": "3u2fsTdK2llT"
      },
      "source": [
        "Larger numbers of baselines and channels will consume more memory during conversion. If a particular DDI shape is too large for the host machine memory, a smaller chunk size along the time axis may be needed.\n",
        "\n",
        "Let's pretend this is the case for the other two DDI's and use a smaller chunk size for them, making sure to append and not overwrite our first two"
      ]
    },
    {
      "cell_type": "code",
      "metadata": {
        "colab": {
          "base_uri": "https://localhost:8080/"
        },
        "id": "rnrHZp1V29aR",
        "outputId": "4378a6d2-a086-4784-9631-fac7fa9e32da"
      },
      "source": [
        "mxds = convert_ms('M100.ms', ddis=[1,3], chunk_shape=(50,400,32,1), append=True)"
      ],
      "execution_count": 4,
      "outputs": [
        {
          "output_type": "stream",
          "text": [
            "Completed ddi 1  process time 11.14 s\n",
            "Completed ddi 3  process time 10.70 s\n",
            "                                                  \n"
          ],
          "name": "stdout"
        }
      ]
    },
    {
      "cell_type": "markdown",
      "metadata": {
        "id": "0Q57OMSVrfda"
      },
      "source": [
        "Finally, lets get the subtables within the original MS. They are now referred to as the \"global\" data in Zarr directory as their contents applies to all of the DDI partitions.\n",
        "\n",
        "Some subtable columns may give errors during conversion if the casacore table system cannot read them as numpy arrays. The resulting Xarray dataset will omit these columns.  *This is a known issue*"
      ]
    },
    {
      "cell_type": "code",
      "metadata": {
        "id": "wgRTg1yVr-lo",
        "colab": {
          "base_uri": "https://localhost:8080/"
        },
        "outputId": "e9ddb0fa-d8d5-4a9c-bc56-d13c6bb85f8e"
      },
      "source": [
        "mxds = convert_ms('M100.ms', ddis=['global'], append=True)"
      ],
      "execution_count": 5,
      "outputs": [
        {
          "output_type": "stream",
          "text": [
            "Completed subtables  process time 0.78 s\n",
            "                                                  \n"
          ],
          "name": "stdout"
        }
      ]
    },
    {
      "cell_type": "markdown",
      "metadata": {
        "id": "KZoGlbmZiYwz"
      },
      "source": [
        "If we are comfortable with leaving things at default, we can convert the entire contents of an MS at once. The TWHya MS is small and safe to convert without much worry, but we will give it a shorter output filename.\n"
      ]
    },
    {
      "cell_type": "code",
      "metadata": {
        "colab": {
          "base_uri": "https://localhost:8080/"
        },
        "id": "fwC-c5vniXbs",
        "outputId": "e3778569-4094-4982-8548-b837d17e0f92"
      },
      "source": [
        "from cngi.conversion import convert_ms\n",
        "\n",
        "mxds = convert_ms('sis14_twhya_calibrated_flagged.ms', outfile='twhya.vis.zarr')"
      ],
      "execution_count": 6,
      "outputs": [
        {
          "output_type": "stream",
          "text": [
            "Completed ddi 0  process time 20.72 s\n",
            "Completed subtables  process time 1.06 s\n",
            "                                                  \n"
          ],
          "name": "stdout"
        }
      ]
    },
    {
      "cell_type": "markdown",
      "metadata": {
        "id": "3cVNIw1L4-rm"
      },
      "source": [
        "### Xarray/Zarr Partitions\n",
        "\n",
        "After converting an MS to the new Xarray / Zarr based format, we have a ```<filename>.vis.zarr``` directory on disk.  We can inspect its contents to see if the conversion was successful. "
      ]
    },
    {
      "cell_type": "code",
      "metadata": {
        "colab": {
          "base_uri": "https://localhost:8080/",
          "height": 204
        },
        "id": "FmzLEf4C5jf7",
        "outputId": "520ee775-7c6d-47c3-f3c1-eebb5794450d"
      },
      "source": [
        "from cngi.dio import describe_vis\n",
        "\n",
        "describe_vis('M100.vis.zarr')"
      ],
      "execution_count": 7,
      "outputs": [
        {
          "output_type": "stream",
          "text": [
            ""
          ],
          "name": "stdout"
        },
        {
          "output_type": "execute_result",
          "data": {
            "text/html": [
              "<div>\n",
              "<style scoped>\n",
              "    .dataframe tbody tr th:only-of-type {\n",
              "        vertical-align: middle;\n",
              "    }\n",
              "\n",
              "    .dataframe tbody tr th {\n",
              "        vertical-align: top;\n",
              "    }\n",
              "\n",
              "    .dataframe thead th {\n",
              "        text-align: right;\n",
              "    }\n",
              "</style>\n",
              "<table border=\"1\" class=\"dataframe\">\n",
              "  <thead>\n",
              "    <tr style=\"text-align: right;\">\n",
              "      <th></th>\n",
              "      <th>spw_id</th>\n",
              "      <th>pol_id</th>\n",
              "      <th>times</th>\n",
              "      <th>baselines</th>\n",
              "      <th>chans</th>\n",
              "      <th>pols</th>\n",
              "      <th>size_MB</th>\n",
              "    </tr>\n",
              "    <tr>\n",
              "      <th>xds</th>\n",
              "      <th></th>\n",
              "      <th></th>\n",
              "      <th></th>\n",
              "      <th></th>\n",
              "      <th></th>\n",
              "      <th></th>\n",
              "      <th></th>\n",
              "    </tr>\n",
              "  </thead>\n",
              "  <tbody>\n",
              "    <tr>\n",
              "      <th>xds0</th>\n",
              "      <td>0</td>\n",
              "      <td>0</td>\n",
              "      <td>568</td>\n",
              "      <td>154</td>\n",
              "      <td>240</td>\n",
              "      <td>2</td>\n",
              "      <td>1009</td>\n",
              "    </tr>\n",
              "    <tr>\n",
              "      <th>xds1</th>\n",
              "      <td>1</td>\n",
              "      <td>0</td>\n",
              "      <td>568</td>\n",
              "      <td>154</td>\n",
              "      <td>240</td>\n",
              "      <td>2</td>\n",
              "      <td>1009</td>\n",
              "    </tr>\n",
              "    <tr>\n",
              "      <th>xds2</th>\n",
              "      <td>2</td>\n",
              "      <td>0</td>\n",
              "      <td>568</td>\n",
              "      <td>154</td>\n",
              "      <td>240</td>\n",
              "      <td>2</td>\n",
              "      <td>1009</td>\n",
              "    </tr>\n",
              "    <tr>\n",
              "      <th>xds3</th>\n",
              "      <td>3</td>\n",
              "      <td>0</td>\n",
              "      <td>568</td>\n",
              "      <td>142</td>\n",
              "      <td>240</td>\n",
              "      <td>2</td>\n",
              "      <td>930</td>\n",
              "    </tr>\n",
              "  </tbody>\n",
              "</table>\n",
              "</div>"
            ],
            "text/plain": [
              "      spw_id  pol_id  times  baselines  chans  pols  size_MB\n",
              "xds                                                         \n",
              "xds0       0       0    568        154    240     2     1009\n",
              "xds1       1       0    568        154    240     2     1009\n",
              "xds2       2       0    568        154    240     2     1009\n",
              "xds3       3       0    568        142    240     2      930"
            ]
          },
          "metadata": {
            "tags": []
          },
          "execution_count": 7
        }
      ]
    },
    {
      "cell_type": "markdown",
      "metadata": {
        "id": "1fmxmIe-6Pmq"
      },
      "source": [
        "The four SPW's are now contained in four separate partitions.  There are no more rows, only the four dimensions of (time, baseline, channel, polarization) to describe each field.\n",
        "\n",
        "When we go to open and use the new format for subsequent CNGI operations, we will refer to the specific visibility xarray dataset (**xds**) that we want to use."
      ]
    },
    {
      "cell_type": "markdown",
      "metadata": {
        "id": "edNHuvlX7OnU"
      },
      "source": [
        "### MeasurementSet v3 Schema\n",
        "\n",
        "The conversion process attempts to keep the same column names, definitions, and relationships from the original MS structure whenever possible.  This means that, for example, the DATA column of the main table in the MS is still called DATA in the Xarray Dataset, but it is now a data variable within the dataset.  Similarly the column names of the various subtables are reflected as data variable names in the new xarray datasets.\n",
        "\n",
        "As part of the evolution to new datastructures, the opportunity was taken to also update to the new MSv3 schema.  This means that when converting the current CASA MSv2 datasets, certain columns are translated or dropped per the MSv3 definition located [here](https://drive.google.com/file/d/10TZ4dsFw9CconBc-GFxSeb2caT6wkmza/view?usp=sharing).\n",
        "\n",
        "While CNGI typically only operates on a single visibility partition, we can open and inspect the entire zarr directory contents in a manner similar to how the entire MS could be opened and inspected previously.  This is done by constructing an xarray *dataset of datasets*, referred to as the master xarray dataset (**mxds**)."
      ]
    },
    {
      "cell_type": "code",
      "metadata": {
        "id": "R6KsW1NvgsQs",
        "colab": {
          "base_uri": "https://localhost:8080/"
        },
        "outputId": "5d2ead5f-2151-4efe-fb1a-addc0932907d"
      },
      "source": [
        "from cngi.dio import read_vis\n",
        "\n",
        "mxds = read_vis('M100.vis.zarr')\n",
        "\n",
        "print(mxds)"
      ],
      "execution_count": 8,
      "outputs": [
        {
          "output_type": "stream",
          "text": [
            "<xarray.Dataset>\n",
            "Dimensions:           (antenna_ids: 27, feed_ids: 108, field_ids: 48, observation_ids: 4, polarization_ids: 1, source_ids: 4, spw_ids: 4, state_ids: 24)\n",
            "Coordinates:\n",
            "  * antenna_ids       (antenna_ids) int64 0 1 2 3 4 5 6 ... 20 21 22 23 24 25 26\n",
            "    antennas          (antenna_ids) <U16 'CM01' 'DV01' 'DV03' ... 'PM01' 'PM03'\n",
            "  * field_ids         (field_ids) int64 0 1 2 3 4 5 6 7 ... 41 42 43 44 45 46 47\n",
            "    fields            (field_ids) <U16 'M100' 'M100' 'M100' ... 'M100' 'M100'\n",
            "  * feed_ids          (feed_ids) int32 0 0 0 0 0 0 0 0 0 0 ... 0 0 0 0 0 0 0 0 0\n",
            "  * observation_ids   (observation_ids) int64 0 1 2 3\n",
            "    observations      (observation_ids) <U16 'T.B.D.' 'T.B.D.' 'T.B.D.' 'T.B.D.'\n",
            "  * polarization_ids  (polarization_ids) int64 0\n",
            "  * source_ids        (source_ids) int32 0 0 0 0\n",
            "    sources           (source_ids) <U16 'M100' 'M100' 'M100' 'M100'\n",
            "  * spw_ids           (spw_ids) int64 0 1 2 3\n",
            "  * state_ids         (state_ids) int64 0 1 2 3 4 5 6 7 ... 17 18 19 20 21 22 23\n",
            "Data variables:\n",
            "    *empty*\n",
            "Attributes:\n",
            "    xds0:             <xarray.Dataset>\\nDimensions:         (baseline: 154, c...\n",
            "    xds1:             <xarray.Dataset>\\nDimensions:         (baseline: 154, c...\n",
            "    xds3:             <xarray.Dataset>\\nDimensions:         (baseline: 142, c...\n",
            "    xds2:             <xarray.Dataset>\\nDimensions:         (baseline: 154, c...\n",
            "    ANTENNA:          <xarray.Dataset>\\nDimensions:        (d0: 27, d1: 3)\\nC...\n",
            "    ASDM_ANTENNA:     <xarray.Dataset>\\nDimensions:         (d0: 13, d1: 3)\\n...\n",
            "    ASDM_STATION:     <xarray.Dataset>\\nDimensions:    (d0: 15, d1: 3)\\nDimen...\n",
            "    CALDEVICE:        <xarray.Dataset>\\nDimensions:             (d0: 2120, d1...\n",
            "    FEED:             <xarray.Dataset>\\nDimensions:             (d0: 108, d1:...\n",
            "    FIELD:            <xarray.Dataset>\\nDimensions:        (d0: 48, d1: 1, d2...\n",
            "    OBSERVATION:      <xarray.Dataset>\\nDimensions:         (d0: 4, d1: 2, d2...\n",
            "    POLARIZATION:     <xarray.Dataset>\\nDimensions:       (d0: 1, d1: 2, d2: ...\n",
            "    PROCESSOR:        <xarray.Dataset>\\nDimensions:   (d0: 3)\\nCoordinates:\\n...\n",
            "    SOURCE:           <xarray.Dataset>\\nDimensions:             (d0: 4, d1: 2...\n",
            "    SPECTRAL_WINDOW:  <xarray.Dataset>\\nDimensions:             (d0: 4, d1: 2...\n",
            "    STATE:            <xarray.Dataset>\\nDimensions:   (d0: 24)\\nCoordinates:\\...\n",
            "    WEATHER:          <xarray.Dataset>\\nDimensions:                 (d0: 409,...\n"
          ],
          "name": "stdout"
        }
      ]
    },
    {
      "cell_type": "markdown",
      "metadata": {
        "id": "-GMYzIk_tyR0"
      },
      "source": [
        "The mxds **coordinates** describe the principal keys to different tables in the MSv3 schema. The **attributes** section holds references to each individual xarray dataset visibility partition and subtable of global data.\n",
        "\n",
        "Inspecting the FIELD subtable shows fields matching the same columns as the MSv3 schema."
      ]
    },
    {
      "cell_type": "code",
      "metadata": {
        "colab": {
          "base_uri": "https://localhost:8080/"
        },
        "id": "LMtni8zTNPGe",
        "outputId": "44db447a-1d9b-4727-c89e-c69154f36f39"
      },
      "source": [
        "print(mxds.FIELD)"
      ],
      "execution_count": 9,
      "outputs": [
        {
          "output_type": "stream",
          "text": [
            "<xarray.Dataset>\n",
            "Dimensions:        (d0: 48, d1: 1, d2: 2)\n",
            "Coordinates:\n",
            "    field_id       (d0) int64 dask.array<chunksize=(48,), meta=np.ndarray>\n",
            "    source_id      (d0) int32 dask.array<chunksize=(48,), meta=np.ndarray>\n",
            "Dimensions without coordinates: d0, d1, d2\n",
            "Data variables:\n",
            "    CODE           (d0) <U16 dask.array<chunksize=(48,), meta=np.ndarray>\n",
            "    DELAYDIR_REF   (d0) int32 dask.array<chunksize=(48,), meta=np.ndarray>\n",
            "    DELAY_DIR      (d0, d1, d2) float64 dask.array<chunksize=(48, 1, 1), meta=np.ndarray>\n",
            "    NAME           (d0) <U16 dask.array<chunksize=(48,), meta=np.ndarray>\n",
            "    NUM_POLY       (d0) int32 dask.array<chunksize=(48,), meta=np.ndarray>\n",
            "    PHASEDIR_REF   (d0) int32 dask.array<chunksize=(48,), meta=np.ndarray>\n",
            "    PHASE_DIR      (d0, d1, d2) float64 dask.array<chunksize=(48, 1, 1), meta=np.ndarray>\n",
            "    REFDIR_REF     (d0) int32 dask.array<chunksize=(48,), meta=np.ndarray>\n",
            "    REFERENCE_DIR  (d0, d1, d2) float64 dask.array<chunksize=(48, 1, 1), meta=np.ndarray>\n",
            "    TIME           (d0) datetime64[ns] dask.array<chunksize=(48,), meta=np.ndarray>\n"
          ],
          "name": "stdout"
        }
      ]
    },
    {
      "cell_type": "markdown",
      "metadata": {
        "id": "mFtp8R0aPfS_"
      },
      "source": [
        "The main table of the MSv3 schema has been divided in to the four visibility xarray dataset (xds) partitions that CNGI functions operate on.  Inspecting an xds partition shows fields that correspond to the columns of the main table. A difference arises from the expansion of **time** and **baseline** dimensions from what used to be **rows**.\n",
        "\n",
        "Note that in cases where a different number of baselines exist at each time step within a single SPW of the originating MS, the resulting XDS will have the maximum number of baselines set in that dimension with NaN padding added as necessary. "
      ]
    },
    {
      "cell_type": "markdown",
      "metadata": {
        "id": "pN2DL-mwusgd"
      },
      "source": [
        "## Visibility Dataset Structure\n",
        "\n",
        "The visibility xarray dataset (xds) structure has four main components:\n",
        "1. dimensions\n",
        "2. coordinates\n",
        "3. data variables\n",
        "4. attributes\n",
        "\n",
        "**Dimensions** define the shape of the other components, and allow indexing into other components by integer location within each dimension (ie channel 5). Note that dimensions may be printed alphabetically by Jupyter, with the actual order being different in the data itself. Referring to a dimension by its name eliminates the need to remember what order things are in.\n",
        "\n",
        "**Coordinates** define the world values of dimensions and other indices within the dataset. This allows indexing into other components by actual value (ie channel 100 GHz). Note that in many cases the real world value is itself just an integer index (ie the baseline), but time and channel frequency are particularly useful.\n",
        "\n",
        "**Data variables** are the columns of the main table. They typically have the same data type and meaning as defined in the MSv3 schema. They are stored as Dask arrays which allow numpy-like operations that are parallel, scalable, and support larger than memory data sizes. Nan values are used to pad and flag areas with no valid data, and consequently all mathematics must be smart enough to properly ignore Nans in computations.\n",
        "\n",
        "**Attributes** are used to hold units, reference frames, and any other metadata associated with the dataset. They can be any python type or object when in memory, but only serializable types may be written to disk.\n",
        "\n",
        "Each xds comes from a separate zarr partition, and corresponds to a particular spw and polarization combination (as denoted by coordinate values).  Here we can see another of the four xds paritions from the previous conversion of the demonstration MS"
      ]
    },
    {
      "cell_type": "code",
      "metadata": {
        "id": "FP99wWJNveoT",
        "colab": {
          "base_uri": "https://localhost:8080/"
        },
        "outputId": "e68744fa-0647-4280-f1a2-13dc7531e1a0"
      },
      "source": [
        "print(mxds.xds0)"
      ],
      "execution_count": 10,
      "outputs": [
        {
          "output_type": "stream",
          "text": [
            "<xarray.Dataset>\n",
            "Dimensions:         (baseline: 154, chan: 240, pol: 2, pol_id: 1, spw_id: 1, time: 568, uvw_index: 3)\n",
            "Coordinates:\n",
            "  * baseline        (baseline) int64 0 1 2 3 4 5 6 ... 148 149 150 151 152 153\n",
            "  * chan            (chan) float64 1.137e+11 1.137e+11 ... 1.156e+11 1.156e+11\n",
            "    chan_width      (chan) float64 dask.array<chunksize=(240,), meta=np.ndarray>\n",
            "    effective_bw    (chan) float64 dask.array<chunksize=(240,), meta=np.ndarray>\n",
            "  * pol             (pol) int32 9 12\n",
            "  * pol_id          (pol_id) int32 0\n",
            "    resolution      (chan) float64 dask.array<chunksize=(240,), meta=np.ndarray>\n",
            "  * spw_id          (spw_id) int32 0\n",
            "  * time            (time) datetime64[ns] 2011-08-10T19:38:17.856000900 ... 2011-10-16T18:55:34.319999695\n",
            "Dimensions without coordinates: uvw_index\n",
            "Data variables:\n",
            "    ANTENNA1        (time, baseline) int32 dask.array<chunksize=(100, 154), meta=np.ndarray>\n",
            "    ANTENNA2        (time, baseline) int32 dask.array<chunksize=(100, 154), meta=np.ndarray>\n",
            "    ARRAY_ID        (time, baseline) int32 dask.array<chunksize=(100, 154), meta=np.ndarray>\n",
            "    DATA            (time, baseline, chan, pol) complex128 dask.array<chunksize=(100, 154, 32, 1), meta=np.ndarray>\n",
            "    EXPOSURE        (time, baseline) float64 dask.array<chunksize=(100, 154), meta=np.ndarray>\n",
            "    FEED1           (time, baseline) int32 dask.array<chunksize=(100, 154), meta=np.ndarray>\n",
            "    FEED2           (time, baseline) int32 dask.array<chunksize=(100, 154), meta=np.ndarray>\n",
            "    FIELD_ID        (time, baseline) int32 dask.array<chunksize=(100, 154), meta=np.ndarray>\n",
            "    FLAG            (time, baseline, chan, pol) bool dask.array<chunksize=(100, 154, 32, 1), meta=np.ndarray>\n",
            "    INTERVAL        (time, baseline) float64 dask.array<chunksize=(100, 154), meta=np.ndarray>\n",
            "    OBSERVATION_ID  (time, baseline) int32 dask.array<chunksize=(100, 154), meta=np.ndarray>\n",
            "    PROCESSOR_ID    (time, baseline) int32 dask.array<chunksize=(100, 154), meta=np.ndarray>\n",
            "    SCAN_NUMBER     (time, baseline) int32 dask.array<chunksize=(100, 154), meta=np.ndarray>\n",
            "    STATE_ID        (time, baseline) int32 dask.array<chunksize=(100, 154), meta=np.ndarray>\n",
            "    TIME_CENTROID   (time, baseline) float64 dask.array<chunksize=(100, 154), meta=np.ndarray>\n",
            "    UVW             (time, baseline, uvw_index) float64 dask.array<chunksize=(100, 154, 3), meta=np.ndarray>\n",
            "    WEIGHT          (time, baseline, chan, pol) float64 dask.array<chunksize=(100, 154, 32, 1), meta=np.ndarray>\n",
            "Attributes:\n",
            "    bbc_no:           1\n",
            "    corr_product:     [[0, 0], [1, 1]]\n",
            "    freq_group:       0\n",
            "    freq_group_name:  \n",
            "    if_conv_chain:    0\n",
            "    meas_freq_ref:    5\n",
            "    name:             \n",
            "    net_sideband:     2\n",
            "    num_chan:         240\n",
            "    num_corr:         2\n",
            "    ref_frequency:    113730081250.0\n",
            "    total_bandwidth:  1875000000.0\n"
          ],
          "name": "stdout"
        }
      ]
    },
    {
      "cell_type": "markdown",
      "metadata": {
        "id": "YHQK_OgZvwPF"
      },
      "source": [
        "The chunk size of the Dask array based Data variables affects the smallest unit of data on disk that may be loaded and processed by a worker. A larger number of smaller chunks provides more units of work to go around in a parallel processing environment, with less memory needed for each worker. However, an overhead cost of scheduling and managing each unit of work creates a point of diminishing returns. \n",
        "\n",
        "We converted partitions 0 and 2 differently than partitions 1 and 3, using a smaller chunksize on the time dimension for the latter two. We can see the effect of this on the dask structure"
      ]
    },
    {
      "cell_type": "code",
      "metadata": {
        "id": "_9SjBm8ovvTI",
        "colab": {
          "base_uri": "https://localhost:8080/"
        },
        "outputId": "5b1eb51f-2916-431e-a98f-96cbf89e933c"
      },
      "source": [
        "mxds.xds0.DATA.chunks"
      ],
      "execution_count": 11,
      "outputs": [
        {
          "output_type": "execute_result",
          "data": {
            "text/plain": [
              "((100, 100, 100, 100, 100, 68),\n",
              " (154,),\n",
              " (32, 32, 32, 32, 32, 32, 32, 16),\n",
              " (1, 1))"
            ]
          },
          "metadata": {
            "tags": []
          },
          "execution_count": 11
        }
      ]
    },
    {
      "cell_type": "code",
      "metadata": {
        "colab": {
          "base_uri": "https://localhost:8080/"
        },
        "id": "ejKKcdjSYZ0E",
        "outputId": "a0f06db3-3388-4daa-8646-e7b45265ca72"
      },
      "source": [
        "mxds.xds1.DATA.chunks"
      ],
      "execution_count": 12,
      "outputs": [
        {
          "output_type": "execute_result",
          "data": {
            "text/plain": [
              "((50, 50, 50, 50, 50, 50, 50, 50, 50, 50, 50, 18),\n",
              " (154,),\n",
              " (32, 32, 32, 32, 32, 32, 32, 16),\n",
              " (1, 1))"
            ]
          },
          "metadata": {
            "tags": []
          },
          "execution_count": 12
        }
      ]
    },
    {
      "cell_type": "markdown",
      "metadata": {
        "id": "wjlIUjytFudw"
      },
      "source": [
        "## Image Conversion\n",
        "\n",
        "Image data is converted and stored in a manner very similar to MeasurementSet data. The same xarray and zarr frameworks are used, with primary difference being the schema layout of contents within the xarray dataset structure.\n",
        "\n",
        "Images may have a number of supporting products (residual, pb, psf, taylor terms, masks, etc) in their own separate directories. The [xarray](http://xarray.pydata.org/en/stable/data-structures.html#dataset) dataset and the zarr storage format is capable of storing all image products (of the same shape) together. The resulting single CNGI data structure is more convenient to work with than the original disparate directories.\n",
        "\n",
        "As a convenience, the conversion routines return an xarray data structure (xds) object attached to the zarr directory holding the converted data. The same xds can be retrieved later using the ```read_image()``` function, so conversion is only necessary once.\n"
      ]
    },
    {
      "cell_type": "markdown",
      "metadata": {
        "id": "a4ZywEYHMrnA"
      },
      "source": [
        "### Create images with tclean\n",
        "\n",
        "First we need to create some images from the downloaded MeasurementSet using the CASA6 tclean task. We will create a cube image, a continuum image, and an MTMFS image with Taylor terms."
      ]
    },
    {
      "cell_type": "code",
      "metadata": {
        "id": "lqvf5nKOSnO1"
      },
      "source": [
        "!rm -fr twhya_*"
      ],
      "execution_count": 25,
      "outputs": []
    },
    {
      "cell_type": "code",
      "metadata": {
        "colab": {
          "base_uri": "https://localhost:8080/"
        },
        "id": "i3orMzxXLSIl",
        "outputId": "e6edbac1-6a50-4f4e-a276-555efc755790"
      },
      "source": [
        "from casatasks import tclean\n",
        "\n",
        "print('creating cube')\n",
        "tclean(vis='sis14_twhya_calibrated_flagged.ms', imagename='twhya_cube', field='5', spw='', specmode='cube', cell=1, \n",
        "       imsize=100, nchan=10, deconvolver='hogbom', niter=10, savemodel='modelcolumn', usemask='auto-multithresh')\n",
        "\n",
        "print('creating continuum')\n",
        "tclean(vis='sis14_twhya_calibrated_flagged.ms', imagename='twhya_cont', field='5', spw='', specmode='mfs', cell=1,\n",
        "       imsize=100, deconvolver='hogbom', niter=10, savemodel='modelcolumn', usemask='auto-multithresh')\n",
        "\n",
        "print('creating mtmfs')\n",
        "tclean(vis='sis14_twhya_calibrated_flagged.ms', imagename='twhya_mtmfs', field='5', spw='', specmode='mfs', cell=1,\n",
        "       imsize=100, deconvolver='mtmfs', nterms=5, niter=10, savemodel='modelcolumn', usemask='auto-multithresh')\n",
        "\n",
        "print('complete')"
      ],
      "execution_count": 26,
      "outputs": [
        {
          "output_type": "stream",
          "text": [
            "creating cube\n",
            "creating continuum\n",
            "creating mtmfs\n",
            "complete\n"
          ],
          "name": "stdout"
        }
      ]
    },
    {
      "cell_type": "markdown",
      "metadata": {
        "id": "p1LScw98LRGj"
      },
      "source": [
        "### Cube Images\n",
        "\n",
        "The previous tclean call produced a cube image with 10 channels along with a number of supporting image products (same filename with a different extension). Some of these image products have additional embedded masks."
      ]
    },
    {
      "cell_type": "code",
      "metadata": {
        "colab": {
          "base_uri": "https://localhost:8080/"
        },
        "id": "i941O32jVwl1",
        "outputId": "ac05149a-01be-48a3-afe0-4d271783e163"
      },
      "source": [
        "!ls -d twhya_cube.*"
      ],
      "execution_count": 31,
      "outputs": [
        {
          "output_type": "stream",
          "text": [
            "twhya_cube.image  twhya_cube.model  twhya_cube.psf\t twhya_cube.sumwt\n",
            "twhya_cube.mask   twhya_cube.pb     twhya_cube.residual\n"
          ],
          "name": "stdout"
        }
      ]
    },
    {
      "cell_type": "markdown",
      "metadata": {
        "id": "SLbS_nTwWw4e"
      },
      "source": [
        "The CNGI conversion function will merge these individual products and any embedded masks into a single xarray dataset stored in a single img.zarr directory.\n",
        "\n",
        "Note that the .mask image product will be renamed to 'automask' in the xarray dataset"
      ]
    },
    {
      "cell_type": "code",
      "metadata": {
        "colab": {
          "base_uri": "https://localhost:8080/"
        },
        "id": "Yy1rUNuoWVcV",
        "outputId": "5d8876c2-f883-4598-a4be-e100cc82cd5c"
      },
      "source": [
        "from cngi.conversion import convert_image\n",
        "\n",
        "xds = convert_image('twhya_cube.image')\n",
        "\n",
        "print(xds.dims)\n",
        "print(xds.data_vars)"
      ],
      "execution_count": 40,
      "outputs": [
        {
          "output_type": "stream",
          "text": [
            "converting Image...\n",
            "incompatible components:  []\n",
            "processed image in 0.7867036 seconds\n",
            "Frozen(SortedKeysDict({'l': 100, 'm': 100, 'time': 1, 'chan': 10, 'pol': 1}))\n",
            "Data variables:\n",
            "    AUTOMASK        (l, m, time, chan, pol) float64 dask.array<chunksize=(100, 100, 1, 1, 1), meta=np.ndarray>\n",
            "    IMAGE           (l, m, time, chan, pol) float64 dask.array<chunksize=(100, 100, 1, 1, 1), meta=np.ndarray>\n",
            "    IMAGE_MASK0     (l, m, time, chan, pol) bool dask.array<chunksize=(100, 100, 1, 1, 1), meta=np.ndarray>\n",
            "    MODEL           (l, m, time, chan, pol) float64 dask.array<chunksize=(100, 100, 1, 1, 1), meta=np.ndarray>\n",
            "    PB              (l, m, time, chan, pol) float64 dask.array<chunksize=(100, 100, 1, 1, 1), meta=np.ndarray>\n",
            "    PB_MASK0        (l, m, time, chan, pol) bool dask.array<chunksize=(100, 100, 1, 1, 1), meta=np.ndarray>\n",
            "    PSF             (l, m, time, chan, pol) float64 dask.array<chunksize=(100, 100, 1, 1, 1), meta=np.ndarray>\n",
            "    RESIDUAL        (l, m, time, chan, pol) float64 dask.array<chunksize=(100, 100, 1, 1, 1), meta=np.ndarray>\n",
            "    RESIDUAL_MASK0  (l, m, time, chan, pol) bool dask.array<chunksize=(100, 100, 1, 1, 1), meta=np.ndarray>\n",
            "    SUMWT           (time, chan, pol) float64 dask.array<chunksize=(1, 1, 1), meta=np.ndarray>\n"
          ],
          "name": "stdout"
        }
      ]
    },
    {
      "cell_type": "markdown",
      "metadata": {
        "id": "h8Q7fP0PYRoM"
      },
      "source": [
        "### Continuum Images\n",
        "\n",
        "As with cube images, the continuum image products are similar and merged in a similar manner.  The main difference in the output is of course the number of channels"
      ]
    },
    {
      "cell_type": "code",
      "metadata": {
        "colab": {
          "base_uri": "https://localhost:8080/"
        },
        "id": "emdIwJGFYh5u",
        "outputId": "50351fca-6adb-4b4b-8bad-08fe5c289e43"
      },
      "source": [
        "xds = convert_image('twhya_cont.image')\n",
        "\n",
        "print(xds.dims)\n",
        "print(xds.data_vars)"
      ],
      "execution_count": 41,
      "outputs": [
        {
          "output_type": "stream",
          "text": [
            "converting Image...\n",
            "incompatible components:  []\n",
            "processed image in 0.42371416 seconds\n",
            "Frozen(SortedKeysDict({'l': 100, 'm': 100, 'time': 1, 'chan': 1, 'pol': 1}))\n",
            "Data variables:\n",
            "    AUTOMASK        (l, m, time, chan, pol) float64 dask.array<chunksize=(100, 100, 1, 1, 1), meta=np.ndarray>\n",
            "    IMAGE           (l, m, time, chan, pol) float64 dask.array<chunksize=(100, 100, 1, 1, 1), meta=np.ndarray>\n",
            "    IMAGE_MASK0     (l, m, time, chan, pol) bool dask.array<chunksize=(100, 100, 1, 1, 1), meta=np.ndarray>\n",
            "    MODEL           (l, m, time, chan, pol) float64 dask.array<chunksize=(100, 100, 1, 1, 1), meta=np.ndarray>\n",
            "    PB              (l, m, time, chan, pol) float64 dask.array<chunksize=(100, 100, 1, 1, 1), meta=np.ndarray>\n",
            "    PB_MASK0        (l, m, time, chan, pol) bool dask.array<chunksize=(100, 100, 1, 1, 1), meta=np.ndarray>\n",
            "    PSF             (l, m, time, chan, pol) float64 dask.array<chunksize=(100, 100, 1, 1, 1), meta=np.ndarray>\n",
            "    RESIDUAL        (l, m, time, chan, pol) float64 dask.array<chunksize=(100, 100, 1, 1, 1), meta=np.ndarray>\n",
            "    RESIDUAL_MASK0  (l, m, time, chan, pol) bool dask.array<chunksize=(100, 100, 1, 1, 1), meta=np.ndarray>\n",
            "    SUMWT           (time, chan, pol) float64 dask.array<chunksize=(1, 1, 1), meta=np.ndarray>\n"
          ],
          "name": "stdout"
        }
      ]
    },
    {
      "cell_type": "markdown",
      "metadata": {
        "id": "q-kOAzEZYm-k"
      },
      "source": [
        "### MTMFS Images\n",
        "\n",
        "Multi-Term Multi-Freqeuency Synthesis images may contain taylor term expansions in place of the channel dimension. In CASA6 these are stored as a number of individual image directories with a .ttN extension.  "
      ]
    },
    {
      "cell_type": "code",
      "metadata": {
        "colab": {
          "base_uri": "https://localhost:8080/"
        },
        "id": "WSA4er2-ZIKV",
        "outputId": "941466cf-6188-4ffd-ffb4-73235b236fb5"
      },
      "source": [
        "!ls -d twhya_mtmfs.*"
      ],
      "execution_count": 42,
      "outputs": [
        {
          "output_type": "stream",
          "text": [
            "twhya_mtmfs.alpha\t twhya_mtmfs.model.tt4\t   twhya_mtmfs.residual.tt2\n",
            "twhya_mtmfs.alpha.error  twhya_mtmfs.pb.tt0\t   twhya_mtmfs.residual.tt3\n",
            "twhya_mtmfs.beta\t twhya_mtmfs.psf.tt0\t   twhya_mtmfs.residual.tt4\n",
            "twhya_mtmfs.image.tt0\t twhya_mtmfs.psf.tt1\t   twhya_mtmfs.sumwt.tt0\n",
            "twhya_mtmfs.image.tt1\t twhya_mtmfs.psf.tt2\t   twhya_mtmfs.sumwt.tt1\n",
            "twhya_mtmfs.image.tt2\t twhya_mtmfs.psf.tt3\t   twhya_mtmfs.sumwt.tt2\n",
            "twhya_mtmfs.image.tt3\t twhya_mtmfs.psf.tt4\t   twhya_mtmfs.sumwt.tt3\n",
            "twhya_mtmfs.image.tt4\t twhya_mtmfs.psf.tt5\t   twhya_mtmfs.sumwt.tt4\n",
            "twhya_mtmfs.mask\t twhya_mtmfs.psf.tt6\t   twhya_mtmfs.sumwt.tt5\n",
            "twhya_mtmfs.model.tt0\t twhya_mtmfs.psf.tt7\t   twhya_mtmfs.sumwt.tt6\n",
            "twhya_mtmfs.model.tt1\t twhya_mtmfs.psf.tt8\t   twhya_mtmfs.sumwt.tt7\n",
            "twhya_mtmfs.model.tt2\t twhya_mtmfs.residual.tt0  twhya_mtmfs.sumwt.tt8\n",
            "twhya_mtmfs.model.tt3\t twhya_mtmfs.residual.tt1\n"
          ],
          "name": "stdout"
        }
      ]
    },
    {
      "cell_type": "markdown",
      "metadata": {
        "id": "MzDwiZmDZQE0"
      },
      "source": [
        "The CNGI conversion will merged these individual .ttN directories in to the channel dimension of the corresponding image product."
      ]
    },
    {
      "cell_type": "code",
      "metadata": {
        "colab": {
          "base_uri": "https://localhost:8080/"
        },
        "id": "s40mqwggZQ9_",
        "outputId": "6001c7df-85d2-487f-d612-0aaa9d748d4d"
      },
      "source": [
        "xds = convert_image('twhya_mtmfs.image')\n",
        "\n",
        "print(xds.dims)\n",
        "print(xds.data_vars)"
      ],
      "execution_count": 43,
      "outputs": [
        {
          "output_type": "stream",
          "text": [
            "converting Image...\n",
            "incompatible components:  []\n",
            "processed image in 0.7067058 seconds\n",
            "Frozen(SortedKeysDict({'l': 100, 'm': 100, 'time': 1, 'chan': 5, 'pol': 1}))\n",
            "Data variables:\n",
            "    AUTOMASK        (l, m, time, chan, pol) float64 dask.array<chunksize=(100, 100, 1, 1, 1), meta=np.ndarray>\n",
            "    IMAGE           (l, m, time, chan, pol) float64 dask.array<chunksize=(100, 100, 1, 1, 1), meta=np.ndarray>\n",
            "    IMAGE_MASK0     (l, m, time, chan, pol) bool dask.array<chunksize=(100, 100, 1, 1, 1), meta=np.ndarray>\n",
            "    MODEL           (l, m, time, chan, pol) float64 dask.array<chunksize=(100, 100, 1, 1, 1), meta=np.ndarray>\n",
            "    PB              (l, m, time, chan, pol) float64 dask.array<chunksize=(100, 100, 1, 1, 1), meta=np.ndarray>\n",
            "    PB_MASK0        (l, m, time, chan, pol) bool dask.array<chunksize=(100, 100, 1, 1, 1), meta=np.ndarray>\n",
            "    PSF             (l, m, time, chan, pol) float64 dask.array<chunksize=(100, 100, 1, 1, 1), meta=np.ndarray>\n",
            "    RESIDUAL        (l, m, time, chan, pol) float64 dask.array<chunksize=(100, 100, 1, 1, 1), meta=np.ndarray>\n",
            "    RESIDUAL_MASK0  (l, m, time, chan, pol) bool dask.array<chunksize=(100, 100, 1, 1, 1), meta=np.ndarray>\n",
            "    SUMWT           (time, chan, pol) float64 dask.array<chunksize=(1, 1, 1), meta=np.ndarray>\n"
          ],
          "name": "stdout"
        }
      ]
    },
    {
      "cell_type": "markdown",
      "metadata": {
        "id": "GmgTx4SmWeyB"
      },
      "source": [
        "## Image Dataset Structure\n",
        "\n",
        "The image xarray dataset (xds) structure has four main components:\n",
        "1. dimensions\n",
        "2. coordinates\n",
        "3. data variables\n",
        "4. attributes\n",
        "\n",
        "**Dimensions** define the shape of the other components, and allow indexing into other components by integer location within each dimension (ie channel 5). Note that dimensions may be printed alphabetically by Jupyter, with the actual order being different in the data itself. Referring to a dimension by its name eliminates the need to remember what order things are in.\n",
        "\n",
        "**Coordinates** define the world values of dimensions and other indices within the dataset. This allows indexing into other components by actual value (ie channel 100 GHz). Note that coordinates may be multi-dimensional products of underlying dimensions. This allows the storage of spherical right-ascension / declination pairs for each cartesion pixel value in the image (l / m dimensions)\n",
        "\n",
        "**Data variables** are the image products and masks. They are stored as Dask arrays which allow numpy-like operations that are parallel, scalable, and support larger than memory data sizes. Nan values are used to mask areas with no valid data, and consequently all mathematics must be smart enough to properly ignore Nans in computations.\n",
        "\n",
        "**Attributes** are used to hold units, reference frames, and any other metadata associated with the dataset. They can be any python type or object when in memory, but only serializable types may be written to disk.\n",
        "\n",
        "<div class=\"alert alert-info\">\n",
        "A time dimension has been inserted in the converted image data. This is a placeholder for future time-domain image handling in CNGI. CASA6 does not currently produce these types of images.\n",
        "</div>\n",
        "\n",
        "Inspecting the cube xds shows 10 frequency channels of the original image shared by all the image products"
      ]
    },
    {
      "cell_type": "code",
      "metadata": {
        "colab": {
          "base_uri": "https://localhost:8080/"
        },
        "id": "9KFddT3Na2Dl",
        "outputId": "acd8cc23-381e-475d-f2fc-beb5ff583593"
      },
      "source": [
        "from cngi.dio import read_image\n",
        "\n",
        "xds = read_image('twhya_cube.img.zarr')\n",
        "\n",
        "print(xds)\n",
        "print('\\nChannel Frequencies: ', xds.chan.values)"
      ],
      "execution_count": 48,
      "outputs": [
        {
          "output_type": "stream",
          "text": [
            "<xarray.Dataset>\n",
            "Dimensions:          (chan: 10, l: 100, m: 100, pol: 1, time: 1)\n",
            "Coordinates:\n",
            "  * chan             (chan) float64 3.725e+11 3.725e+11 ... 3.725e+11 3.725e+11\n",
            "    declination      (l, m) float64 dask.array<chunksize=(100, 100), meta=np.ndarray>\n",
            "  * pol              (pol) float64 1.0\n",
            "    right_ascension  (l, m) float64 dask.array<chunksize=(100, 100), meta=np.ndarray>\n",
            "  * time             (time) datetime64[ns] 2012-11-19T07:56:26.544000626\n",
            "Dimensions without coordinates: l, m\n",
            "Data variables:\n",
            "    AUTOMASK         (l, m, time, chan, pol) float64 dask.array<chunksize=(100, 100, 1, 1, 1), meta=np.ndarray>\n",
            "    IMAGE            (l, m, time, chan, pol) float64 dask.array<chunksize=(100, 100, 1, 1, 1), meta=np.ndarray>\n",
            "    IMAGE_MASK0      (l, m, time, chan, pol) bool dask.array<chunksize=(100, 100, 1, 1, 1), meta=np.ndarray>\n",
            "    MODEL            (l, m, time, chan, pol) float64 dask.array<chunksize=(100, 100, 1, 1, 1), meta=np.ndarray>\n",
            "    PB               (l, m, time, chan, pol) float64 dask.array<chunksize=(100, 100, 1, 1, 1), meta=np.ndarray>\n",
            "    PB_MASK0         (l, m, time, chan, pol) bool dask.array<chunksize=(100, 100, 1, 1, 1), meta=np.ndarray>\n",
            "    PSF              (l, m, time, chan, pol) float64 dask.array<chunksize=(100, 100, 1, 1, 1), meta=np.ndarray>\n",
            "    RESIDUAL         (l, m, time, chan, pol) float64 dask.array<chunksize=(100, 100, 1, 1, 1), meta=np.ndarray>\n",
            "    RESIDUAL_MASK0   (l, m, time, chan, pol) bool dask.array<chunksize=(100, 100, 1, 1, 1), meta=np.ndarray>\n",
            "    SUMWT            (time, chan, pol) float64 dask.array<chunksize=(1, 1, 1), meta=np.ndarray>\n",
            "Attributes:\n",
            "    axisnames:            ['Right Ascension', 'Declination', 'Stokes', 'Frequ...\n",
            "    axisunits:            ['rad', 'rad', '', 'Hz']\n",
            "    commonbeam:           [2.5, 1.25, 57.295780181884766]\n",
            "    commonbeam_units:     ['arcsec', 'arcsec', 'deg']\n",
            "    date_observation:     2012/11/19/07\n",
            "    direction_reference:  j2000\n",
            "    imagetype:            Intensity\n",
            "    incr:                 [-4.84813681109536e-06, 4.84813681109536e-06, 1.0, ...\n",
            "    object_name:          tw hya\n",
            "    observer:             cqi\n",
            "    perplanebeams:        [[[2.5, 1.25, 57.295780181884766]], [[2.5, 1.25, 57...\n",
            "    pointing_center:      11\n",
            "    rest_frequency:       3.7265e+11 hz\n",
            "    restoringbeam:        [2.5, 1.25, 57.295780181884766]\n",
            "    spectral__reference:  lsrk\n",
            "    telescope:            alma\n",
            "    telescope_position:   [2.22514e+06m, -5.44031e+06m, -2.48103e+06m] (itrf)\n",
            "    unit:                 Jy/beam\n",
            "    velocity__type:       radio\n",
            "\n",
            "Channel Frequencies:  [3.72520023e+11 3.72520633e+11 3.72521243e+11 3.72521854e+11\n",
            " 3.72522464e+11 3.72523074e+11 3.72523685e+11 3.72524295e+11\n",
            " 3.72524905e+11 3.72525516e+11]\n"
          ],
          "name": "stdout"
        }
      ]
    },
    {
      "cell_type": "markdown",
      "metadata": {
        "id": "keG2wCrPbkCB"
      },
      "source": [
        "The MTMFS image is a continuum with each taylor term stored in the channel dimension. This means that the channel coordinate values will all be the same with the length/index position within the channel dimension corresponding to the taylor polynomial coefficient"
      ]
    },
    {
      "cell_type": "code",
      "metadata": {
        "colab": {
          "base_uri": "https://localhost:8080/"
        },
        "id": "FG2Yy8a0b22_",
        "outputId": "d05df9f1-889b-4ce5-e127-7b260bfbf99e"
      },
      "source": [
        "from cngi.dio import read_image\n",
        "\n",
        "xds = read_image('twhya_mtmfs.img.zarr')\n",
        "\n",
        "print(xds)\n",
        "print('\\nChannel Frequencies: ', xds.chan.values)"
      ],
      "execution_count": 49,
      "outputs": [
        {
          "output_type": "stream",
          "text": [
            "<xarray.Dataset>\n",
            "Dimensions:          (chan: 5, l: 100, m: 100, pol: 1, time: 1)\n",
            "Coordinates:\n",
            "  * chan             (chan) float64 3.726e+11 3.726e+11 ... 3.726e+11 3.726e+11\n",
            "    declination      (l, m) float64 dask.array<chunksize=(100, 100), meta=np.ndarray>\n",
            "  * pol              (pol) float64 1.0\n",
            "    right_ascension  (l, m) float64 dask.array<chunksize=(100, 100), meta=np.ndarray>\n",
            "  * time             (time) datetime64[ns] 2012-11-19T07:56:26.544000626\n",
            "Dimensions without coordinates: l, m\n",
            "Data variables:\n",
            "    AUTOMASK         (l, m, time, chan, pol) float64 dask.array<chunksize=(100, 100, 1, 1, 1), meta=np.ndarray>\n",
            "    IMAGE            (l, m, time, chan, pol) float64 dask.array<chunksize=(100, 100, 1, 1, 1), meta=np.ndarray>\n",
            "    IMAGE_MASK0      (l, m, time, chan, pol) bool dask.array<chunksize=(100, 100, 1, 1, 1), meta=np.ndarray>\n",
            "    MODEL            (l, m, time, chan, pol) float64 dask.array<chunksize=(100, 100, 1, 1, 1), meta=np.ndarray>\n",
            "    PB               (l, m, time, chan, pol) float64 dask.array<chunksize=(100, 100, 1, 1, 1), meta=np.ndarray>\n",
            "    PB_MASK0         (l, m, time, chan, pol) bool dask.array<chunksize=(100, 100, 1, 1, 1), meta=np.ndarray>\n",
            "    PSF              (l, m, time, chan, pol) float64 dask.array<chunksize=(100, 100, 1, 1, 1), meta=np.ndarray>\n",
            "    RESIDUAL         (l, m, time, chan, pol) float64 dask.array<chunksize=(100, 100, 1, 1, 1), meta=np.ndarray>\n",
            "    RESIDUAL_MASK0   (l, m, time, chan, pol) bool dask.array<chunksize=(100, 100, 1, 1, 1), meta=np.ndarray>\n",
            "    SUMWT            (time, chan, pol) float64 dask.array<chunksize=(1, 1, 1), meta=np.ndarray>\n",
            "Attributes:\n",
            "    axisnames:            ['Right Ascension', 'Declination', 'Stokes', 'Frequ...\n",
            "    axisunits:            ['rad', 'rad', '', 'Hz']\n",
            "    commonbeam:           [2.5, 1.25, 57.295780181884766]\n",
            "    commonbeam_units:     ['arcsec', 'arcsec', 'deg']\n",
            "    date_observation:     2012/11/19/07\n",
            "    direction_reference:  j2000\n",
            "    imagetype:            Intensity\n",
            "    incr:                 [-4.84813681109536e-06, 4.84813681109536e-06, 1.0, ...\n",
            "    object_name:          tw hya\n",
            "    observer:             cqi\n",
            "    pointing_center:      11\n",
            "    rest_frequency:       3.72637e+11 hz\n",
            "    restoring_beam:       2.5 arcsec, 1.25 arcsec, 57.2958 deg\n",
            "    restoringbeam:        [2.5, 1.25, 57.295780181884766]\n",
            "    spectral__reference:  lsrk\n",
            "    telescope:            alma\n",
            "    telescope_position:   [2.22514e+06m, -5.44031e+06m, -2.48103e+06m] (itrf)\n",
            "    unit:                 Jy/beam\n",
            "    velocity__type:       radio\n",
            "\n",
            "Channel Frequencies:  [3.7263694e+11 3.7263694e+11 3.7263694e+11 3.7263694e+11 3.7263694e+11]\n"
          ],
          "name": "stdout"
        }
      ]
    },
    {
      "cell_type": "markdown",
      "metadata": {
        "id": "jb8HtUJ8cTQl"
      },
      "source": [
        "The chunk size of the Dask array based Data variables affects the smallest unit of data on disk that may be loaded and processed by a worker. A larger number of smaller chunks provides more units of work to go around in a parallel processing environment, with less memory needed for each worker. However, an overhead cost of scheduling and managing each unit of work creates a point of diminishing returns. \n",
        "\n",
        "The CNGI conversion function allows for tailoring the chunk size beyond the default values used in this overview."
      ]
    },
    {
      "cell_type": "code",
      "metadata": {
        "colab": {
          "base_uri": "https://localhost:8080/"
        },
        "id": "Xn6nRhvddh07",
        "outputId": "1a73778c-7952-4716-dad1-7df7d87e700d"
      },
      "source": [
        "xds.IMAGE.chunks"
      ],
      "execution_count": 50,
      "outputs": [
        {
          "output_type": "execute_result",
          "data": {
            "text/plain": [
              "((100,), (100,), (1,), (1, 1, 1, 1, 1), (1,))"
            ]
          },
          "metadata": {
            "tags": []
          },
          "execution_count": 50
        }
      ]
    }
  ]
}