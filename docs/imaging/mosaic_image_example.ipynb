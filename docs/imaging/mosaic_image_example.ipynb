{
  "nbformat": 4,
  "nbformat_minor": 0,
  "metadata": {
    "colab": {
      "name": "mosaic_image_example.ipynb",
      "provenance": [],
      "collapsed_sections": [],
      "toc_visible": true
    },
    "kernelspec": {
      "display_name": "Python 3",
      "language": "python",
      "name": "python3"
    },
    "language_info": {
      "codemirror_mode": {
        "name": "ipython",
        "version": 3
      },
      "file_extension": ".py",
      "mimetype": "text/x-python",
      "name": "python",
      "nbconvert_exporter": "python",
      "pygments_lexer": "ipython3",
      "version": "3.7.3"
    },
    "widgets": {
      "application/vnd.jupyter.widget-state+json": {
        "d1fea9e511a44953918cdff9ebe97c85": {
          "model_module": "@jupyter-widgets/controls",
          "model_name": "VBoxModel",
          "state": {
            "_view_name": "VBoxView",
            "_dom_classes": [
              "widget-interact"
            ],
            "_model_name": "VBoxModel",
            "_view_module": "@jupyter-widgets/controls",
            "_model_module_version": "1.5.0",
            "_view_count": null,
            "_view_module_version": "1.5.0",
            "box_style": "",
            "layout": "IPY_MODEL_0fa5dbb5cc8141ec8f135726d1dd1c21",
            "_model_module": "@jupyter-widgets/controls",
            "children": [
              "IPY_MODEL_ce95d672c0f04629ba7defadefe0b17d",
              "IPY_MODEL_1fa119ada97643af894a1b2586df6b7b"
            ]
          }
        },
        "0fa5dbb5cc8141ec8f135726d1dd1c21": {
          "model_module": "@jupyter-widgets/base",
          "model_name": "LayoutModel",
          "state": {
            "_view_name": "LayoutView",
            "grid_template_rows": null,
            "right": null,
            "justify_content": null,
            "_view_module": "@jupyter-widgets/base",
            "overflow": null,
            "_model_module_version": "1.2.0",
            "_view_count": null,
            "flex_flow": null,
            "width": null,
            "min_width": null,
            "border": null,
            "align_items": null,
            "bottom": null,
            "_model_module": "@jupyter-widgets/base",
            "top": null,
            "grid_column": null,
            "overflow_y": null,
            "overflow_x": null,
            "grid_auto_flow": null,
            "grid_area": null,
            "grid_template_columns": null,
            "flex": null,
            "_model_name": "LayoutModel",
            "justify_items": null,
            "grid_row": null,
            "max_height": null,
            "align_content": null,
            "visibility": null,
            "align_self": null,
            "height": null,
            "min_height": null,
            "padding": null,
            "grid_auto_rows": null,
            "grid_gap": null,
            "max_width": null,
            "order": null,
            "_view_module_version": "1.2.0",
            "grid_template_areas": null,
            "object_position": null,
            "object_fit": null,
            "grid_auto_columns": null,
            "margin": null,
            "display": null,
            "left": null
          }
        },
        "ce95d672c0f04629ba7defadefe0b17d": {
          "model_module": "@jupyter-widgets/controls",
          "model_name": "IntSliderModel",
          "state": {
            "_view_name": "IntSliderView",
            "style": "IPY_MODEL_406003cd80ed42bcacb21f5ec0b4248d",
            "_dom_classes": [],
            "description": "chan",
            "step": 1,
            "_model_name": "IntSliderModel",
            "orientation": "horizontal",
            "max": 2,
            "_view_module": "@jupyter-widgets/controls",
            "_model_module_version": "1.5.0",
            "value": 1,
            "_view_count": null,
            "disabled": false,
            "_view_module_version": "1.5.0",
            "min": 0,
            "continuous_update": true,
            "readout_format": "d",
            "description_tooltip": null,
            "readout": true,
            "_model_module": "@jupyter-widgets/controls",
            "layout": "IPY_MODEL_f797c73ce00b481b9144106a606a0c7b"
          }
        },
        "1fa119ada97643af894a1b2586df6b7b": {
          "model_module": "@jupyter-widgets/output",
          "model_name": "OutputModel",
          "state": {
            "_view_name": "OutputView",
            "msg_id": "",
            "_dom_classes": [],
            "_model_name": "OutputModel",
            "outputs": [
              {
                "output_type": "stream",
                "metadata": {
                  "tags": []
                },
                "text": "Frequency 374.0 GHz\n",
                "stream": "stdout"
              },
              {
                "output_type": "display_data",
                "metadata": {
                  "tags": []
                },
                "application/vnd.jupyter.widget-view+json": {
                  "model_id": "2b9c004c304b4438a038109eae55ba2f",
                  "version_minor": 0,
                  "version_major": 2
                },
                "text/plain": "Canvas(toolbar=Toolbar(toolitems=[('Home', 'Reset original view', 'home', 'home'), ('Back', 'Back to previous …"
              },
              {
                "output_type": "display_data",
                "metadata": {
                  "tags": []
                },
                "application/vnd.jupyter.widget-view+json": {
                  "model_id": "eead12a9d64d46d580a2bb18a43dc065",
                  "version_minor": 0,
                  "version_major": 2
                },
                "text/plain": "Canvas(toolbar=Toolbar(toolitems=[('Home', 'Reset original view', 'home', 'home'), ('Back', 'Back to previous …"
              },
              {
                "output_type": "display_data",
                "metadata": {
                  "tags": []
                },
                "application/vnd.jupyter.widget-view+json": {
                  "model_id": "9eafa3724faf414aaadfa3f0ddfa2bac",
                  "version_minor": 0,
                  "version_major": 2
                },
                "text/plain": "Canvas(toolbar=Toolbar(toolitems=[('Home', 'Reset original view', 'home', 'home'), ('Back', 'Back to previous …"
              }
            ],
            "_view_module": "@jupyter-widgets/output",
            "_model_module_version": "1.0.0",
            "_view_count": null,
            "_view_module_version": "1.0.0",
            "layout": "IPY_MODEL_e7c84e6168e244ec9d1d27ed6466f481",
            "_model_module": "@jupyter-widgets/output"
          }
        },
        "406003cd80ed42bcacb21f5ec0b4248d": {
          "model_module": "@jupyter-widgets/controls",
          "model_name": "SliderStyleModel",
          "state": {
            "_view_name": "StyleView",
            "handle_color": null,
            "_model_name": "SliderStyleModel",
            "description_width": "",
            "_view_module": "@jupyter-widgets/base",
            "_model_module_version": "1.5.0",
            "_view_count": null,
            "_view_module_version": "1.2.0",
            "_model_module": "@jupyter-widgets/controls"
          }
        },
        "f797c73ce00b481b9144106a606a0c7b": {
          "model_module": "@jupyter-widgets/base",
          "model_name": "LayoutModel",
          "state": {
            "_view_name": "LayoutView",
            "grid_template_rows": null,
            "right": null,
            "justify_content": null,
            "_view_module": "@jupyter-widgets/base",
            "overflow": null,
            "_model_module_version": "1.2.0",
            "_view_count": null,
            "flex_flow": null,
            "width": null,
            "min_width": null,
            "border": null,
            "align_items": null,
            "bottom": null,
            "_model_module": "@jupyter-widgets/base",
            "top": null,
            "grid_column": null,
            "overflow_y": null,
            "overflow_x": null,
            "grid_auto_flow": null,
            "grid_area": null,
            "grid_template_columns": null,
            "flex": null,
            "_model_name": "LayoutModel",
            "justify_items": null,
            "grid_row": null,
            "max_height": null,
            "align_content": null,
            "visibility": null,
            "align_self": null,
            "height": null,
            "min_height": null,
            "padding": null,
            "grid_auto_rows": null,
            "grid_gap": null,
            "max_width": null,
            "order": null,
            "_view_module_version": "1.2.0",
            "grid_template_areas": null,
            "object_position": null,
            "object_fit": null,
            "grid_auto_columns": null,
            "margin": null,
            "display": null,
            "left": null
          }
        },
        "e7c84e6168e244ec9d1d27ed6466f481": {
          "model_module": "@jupyter-widgets/base",
          "model_name": "LayoutModel",
          "state": {
            "_view_name": "LayoutView",
            "grid_template_rows": null,
            "right": null,
            "justify_content": null,
            "_view_module": "@jupyter-widgets/base",
            "overflow": null,
            "_model_module_version": "1.2.0",
            "_view_count": null,
            "flex_flow": null,
            "width": null,
            "min_width": null,
            "border": null,
            "align_items": null,
            "bottom": null,
            "_model_module": "@jupyter-widgets/base",
            "top": null,
            "grid_column": null,
            "overflow_y": null,
            "overflow_x": null,
            "grid_auto_flow": null,
            "grid_area": null,
            "grid_template_columns": null,
            "flex": null,
            "_model_name": "LayoutModel",
            "justify_items": null,
            "grid_row": null,
            "max_height": null,
            "align_content": null,
            "visibility": null,
            "align_self": null,
            "height": null,
            "min_height": null,
            "padding": null,
            "grid_auto_rows": null,
            "grid_gap": null,
            "max_width": null,
            "order": null,
            "_view_module_version": "1.2.0",
            "grid_template_areas": null,
            "object_position": null,
            "object_fit": null,
            "grid_auto_columns": null,
            "margin": null,
            "display": null,
            "left": null
          }
        },
        "2b9c004c304b4438a038109eae55ba2f": {
          "model_module": "jupyter-matplotlib",
          "model_name": "MPLCanvasModel",
          "state": {
            "_view_name": "MPLCanvasView",
            "_view_module": "jupyter-matplotlib",
            "_figure_label": "Figure",
            "_view_count": null,
            "_cursor": "pointer",
            "capture_scroll": false,
            "layout": "IPY_MODEL_7e59945a7f8248adbb92acd5b82ef298",
            "_model_module": "jupyter-matplotlib",
            "footer_visible": true,
            "_image_mode": "full",
            "_dom_classes": [],
            "resizable": true,
            "_model_name": "MPLCanvasModel",
            "_height": 0,
            "header_visible": true,
            "_model_module_version": "^0.9.0",
            "_rubberband_x": 0,
            "_rubberband_y": 0,
            "toolbar": "IPY_MODEL_ea25a09813874c5899597e54acabef73",
            "toolbar_visible": true,
            "_rubberband_width": 0,
            "_width": 0,
            "_message": "",
            "_rubberband_height": 0,
            "_view_module_version": "^0.9.0",
            "toolbar_position": "left"
          }
        },
        "222ce3182c0540b5927209b52a38602f": {
          "model_module": "@jupyter-widgets/controls",
          "model_name": "VBoxModel",
          "state": {
            "_view_name": "VBoxView",
            "_dom_classes": [
              "widget-interact"
            ],
            "_model_name": "VBoxModel",
            "_view_module": "@jupyter-widgets/controls",
            "_model_module_version": "1.5.0",
            "_view_count": null,
            "_view_module_version": "1.5.0",
            "box_style": "",
            "layout": "IPY_MODEL_179d290e62e047429277e9b707a0f2fa",
            "_model_module": "@jupyter-widgets/controls",
            "children": [
              "IPY_MODEL_aa16cf626e5a45edac7b29a403613209",
              "IPY_MODEL_8f316d0a9ad24e06a39c41aa3d604585"
            ]
          }
        },
        "179d290e62e047429277e9b707a0f2fa": {
          "model_module": "@jupyter-widgets/base",
          "model_name": "LayoutModel",
          "state": {
            "_view_name": "LayoutView",
            "grid_template_rows": null,
            "right": null,
            "justify_content": null,
            "_view_module": "@jupyter-widgets/base",
            "overflow": null,
            "_model_module_version": "1.2.0",
            "_view_count": null,
            "flex_flow": null,
            "width": null,
            "min_width": null,
            "border": null,
            "align_items": null,
            "bottom": null,
            "_model_module": "@jupyter-widgets/base",
            "top": null,
            "grid_column": null,
            "overflow_y": null,
            "overflow_x": null,
            "grid_auto_flow": null,
            "grid_area": null,
            "grid_template_columns": null,
            "flex": null,
            "_model_name": "LayoutModel",
            "justify_items": null,
            "grid_row": null,
            "max_height": null,
            "align_content": null,
            "visibility": null,
            "align_self": null,
            "height": null,
            "min_height": null,
            "padding": null,
            "grid_auto_rows": null,
            "grid_gap": null,
            "max_width": null,
            "order": null,
            "_view_module_version": "1.2.0",
            "grid_template_areas": null,
            "object_position": null,
            "object_fit": null,
            "grid_auto_columns": null,
            "margin": null,
            "display": null,
            "left": null
          }
        },
        "aa16cf626e5a45edac7b29a403613209": {
          "model_module": "@jupyter-widgets/controls",
          "model_name": "IntSliderModel",
          "state": {
            "_view_name": "IntSliderView",
            "style": "IPY_MODEL_d9951f1427c5475ea04255ff61dc0676",
            "_dom_classes": [],
            "description": "chan",
            "step": 1,
            "_model_name": "IntSliderModel",
            "orientation": "horizontal",
            "max": 2,
            "_view_module": "@jupyter-widgets/controls",
            "_model_module_version": "1.5.0",
            "value": 1,
            "_view_count": null,
            "disabled": false,
            "_view_module_version": "1.5.0",
            "min": 0,
            "continuous_update": true,
            "readout_format": "d",
            "description_tooltip": null,
            "readout": true,
            "_model_module": "@jupyter-widgets/controls",
            "layout": "IPY_MODEL_1263c619f9014f5bacc0a09628bad88c"
          }
        },
        "8f316d0a9ad24e06a39c41aa3d604585": {
          "model_module": "@jupyter-widgets/output",
          "model_name": "OutputModel",
          "state": {
            "_view_name": "OutputView",
            "msg_id": "",
            "_dom_classes": [],
            "_model_name": "OutputModel",
            "outputs": [
              {
                "output_type": "stream",
                "metadata": {
                  "tags": []
                },
                "text": "Frequency 374.0 GHz\n################## Flux of Point Sources ##################\nSim     ngCASA   CASA\n1.500   1.4935   1.4909\n",
                "stream": "stdout"
              },
              {
                "output_type": "stream",
                "metadata": {
                  "tags": []
                },
                "text": "1.760   1.7518   1.7458\n2.000   1.9950   1.9913\n",
                "stream": "stdout"
              },
              {
                "output_type": "stream",
                "metadata": {
                  "tags": []
                },
                "text": "2.000   2.0391   2.0546\n1.456   1.4630   1.4686\n",
                "stream": "stdout"
              },
              {
                "output_type": "stream",
                "metadata": {
                  "tags": []
                },
                "text": "1.888   1.8954   1.8425\n############ Percentage Difference Flux to Sim ############\nngCASA   CASA\n0.4325   0.6079\n",
                "stream": "stdout"
              },
              {
                "output_type": "stream",
                "metadata": {
                  "tags": []
                },
                "text": "0.4672   0.8043\n0.2492   0.4330\n",
                "stream": "stdout"
              },
              {
                "output_type": "stream",
                "metadata": {
                  "tags": []
                },
                "text": "-1.9533   -2.7304\n-0.4825   -0.8683\n",
                "stream": "stdout"
              },
              {
                "output_type": "stream",
                "metadata": {
                  "tags": []
                },
                "text": "-0.3894   2.4083\n",
                "stream": "stdout"
              },
              {
                "output_type": "display_data",
                "metadata": {
                  "tags": []
                },
                "application/vnd.jupyter.widget-view+json": {
                  "model_id": "88b79589bf48491aa97d418ef4dfb077",
                  "version_minor": 0,
                  "version_major": 2
                },
                "text/plain": "Canvas(toolbar=Toolbar(toolitems=[('Home', 'Reset original view', 'home', 'home'), ('Back', 'Back to previous …"
              },
              {
                "output_type": "display_data",
                "metadata": {
                  "tags": []
                },
                "application/vnd.jupyter.widget-view+json": {
                  "model_id": "568eab099d2a406f9edb408e0eed8f17",
                  "version_minor": 0,
                  "version_major": 2
                },
                "text/plain": "Canvas(toolbar=Toolbar(toolitems=[('Home', 'Reset original view', 'home', 'home'), ('Back', 'Back to previous …"
              }
            ],
            "_view_module": "@jupyter-widgets/output",
            "_model_module_version": "1.0.0",
            "_view_count": null,
            "_view_module_version": "1.0.0",
            "layout": "IPY_MODEL_1d99977822f44cdf87f4a1045a082ab4",
            "_model_module": "@jupyter-widgets/output"
          }
        },
        "d9951f1427c5475ea04255ff61dc0676": {
          "model_module": "@jupyter-widgets/controls",
          "model_name": "SliderStyleModel",
          "state": {
            "_view_name": "StyleView",
            "handle_color": null,
            "_model_name": "SliderStyleModel",
            "description_width": "",
            "_view_module": "@jupyter-widgets/base",
            "_model_module_version": "1.5.0",
            "_view_count": null,
            "_view_module_version": "1.2.0",
            "_model_module": "@jupyter-widgets/controls"
          }
        },
        "1263c619f9014f5bacc0a09628bad88c": {
          "model_module": "@jupyter-widgets/base",
          "model_name": "LayoutModel",
          "state": {
            "_view_name": "LayoutView",
            "grid_template_rows": null,
            "right": null,
            "justify_content": null,
            "_view_module": "@jupyter-widgets/base",
            "overflow": null,
            "_model_module_version": "1.2.0",
            "_view_count": null,
            "flex_flow": null,
            "width": null,
            "min_width": null,
            "border": null,
            "align_items": null,
            "bottom": null,
            "_model_module": "@jupyter-widgets/base",
            "top": null,
            "grid_column": null,
            "overflow_y": null,
            "overflow_x": null,
            "grid_auto_flow": null,
            "grid_area": null,
            "grid_template_columns": null,
            "flex": null,
            "_model_name": "LayoutModel",
            "justify_items": null,
            "grid_row": null,
            "max_height": null,
            "align_content": null,
            "visibility": null,
            "align_self": null,
            "height": null,
            "min_height": null,
            "padding": null,
            "grid_auto_rows": null,
            "grid_gap": null,
            "max_width": null,
            "order": null,
            "_view_module_version": "1.2.0",
            "grid_template_areas": null,
            "object_position": null,
            "object_fit": null,
            "grid_auto_columns": null,
            "margin": null,
            "display": null,
            "left": null
          }
        },
        "1d99977822f44cdf87f4a1045a082ab4": {
          "model_module": "@jupyter-widgets/base",
          "model_name": "LayoutModel",
          "state": {
            "_view_name": "LayoutView",
            "grid_template_rows": null,
            "right": null,
            "justify_content": null,
            "_view_module": "@jupyter-widgets/base",
            "overflow": null,
            "_model_module_version": "1.2.0",
            "_view_count": null,
            "flex_flow": null,
            "width": null,
            "min_width": null,
            "border": null,
            "align_items": null,
            "bottom": null,
            "_model_module": "@jupyter-widgets/base",
            "top": null,
            "grid_column": null,
            "overflow_y": null,
            "overflow_x": null,
            "grid_auto_flow": null,
            "grid_area": null,
            "grid_template_columns": null,
            "flex": null,
            "_model_name": "LayoutModel",
            "justify_items": null,
            "grid_row": null,
            "max_height": null,
            "align_content": null,
            "visibility": null,
            "align_self": null,
            "height": "1450px",
            "min_height": null,
            "padding": null,
            "grid_auto_rows": null,
            "grid_gap": null,
            "max_width": null,
            "order": null,
            "_view_module_version": "1.2.0",
            "grid_template_areas": null,
            "object_position": null,
            "object_fit": null,
            "grid_auto_columns": null,
            "margin": null,
            "display": null,
            "left": null
          }
        },
        "88b79589bf48491aa97d418ef4dfb077": {
          "model_module": "jupyter-matplotlib",
          "model_name": "MPLCanvasModel",
          "state": {
            "_view_name": "MPLCanvasView",
            "_view_module": "jupyter-matplotlib",
            "_figure_label": "Figure",
            "_view_count": null,
            "_cursor": "pointer",
            "capture_scroll": false,
            "layout": "IPY_MODEL_dc8168627e204638a9efb0091ff14b8c",
            "_model_module": "jupyter-matplotlib",
            "footer_visible": true,
            "_image_mode": "full",
            "_dom_classes": [],
            "resizable": true,
            "_model_name": "MPLCanvasModel",
            "_height": 0,
            "header_visible": true,
            "_model_module_version": "^0.9.0",
            "_rubberband_x": 0,
            "_rubberband_y": 0,
            "toolbar": "IPY_MODEL_27039fa5904f4336b098ba9bedd4c81c",
            "toolbar_visible": true,
            "_rubberband_width": 0,
            "_width": 0,
            "_message": "",
            "_rubberband_height": 0,
            "_view_module_version": "^0.9.0",
            "toolbar_position": "left"
          }
        }
      }
    }
  },
  "cells": [
    {
      "cell_type": "markdown",
      "metadata": {
        "id": "scU9JVUodThH"
      },
      "source": [
        "# Mosaic Imaging\n",
        "\n",
        "This notebook will demonstrate how to create a joint mosaic image. Data is taken from all the pointings in an input visibility dataset and combined to have a single phase-reference center. \n",
        "\n",
        "This walkthrough is designed to be run in a Jupyter notebook on Google Colaboratory. To open the notebook in colab, go [here](https://colab.research.google.com/github/casangi/cngi_prototype/blob/master/docs/imaging/mosaic_image_example.ipynb)."
      ]
    },
    {
      "cell_type": "markdown",
      "metadata": {
        "id": "znAYKj-Ym-xK"
      },
      "source": [
        "## Installation\n"
      ]
    },
    {
      "cell_type": "code",
      "metadata": {
        "colab": {
          "base_uri": "https://localhost:8080/"
        },
        "id": "SwzBGY3JdThK",
        "outputId": "c6ddefb5-d946-4d34-accd-20baf4e7d3fa"
      },
      "source": [
        "import os\n",
        "os.system(\"pip install --extra-index-url https://test.pypi.org/simple/ cngi-prototype==0.0.84\")\n",
        "print('complete') "
      ],
      "execution_count": 1,
      "outputs": [
        {
          "output_type": "stream",
          "text": [
            "complete\n"
          ],
          "name": "stdout"
        }
      ]
    },
    {
      "cell_type": "markdown",
      "metadata": {
        "id": "S7xE2YaIX3y1"
      },
      "source": [
        "## Dataset\n",
        "\n",
        "The simulated dataset consists of three fields which contain four point sources over three frequency channels. The ALMA layout ```alma.cycle6.3.cfg``` is used, which can be found [here](https://open-bitbucket.nrao.edu/projects/CASA/repos/casa-data/browse/alma/simmos). "
      ]
    },
    {
      "cell_type": "code",
      "metadata": {
        "id": "Vzeg2FUOX3y2"
      },
      "source": [
        "!gdown -q --id 1KzWk0Xg8-xpljTL6m8WEE8KbfLTpskRg\n",
        "!unzip alma12m_3field_dovpTrue.vis.zarr.zip > /dev/null\n",
        "\n",
        "!gdown -q --id 1YdJGBi2qtdCuJ6dm4xrXU5zvXeJc7w3v\n",
        "!unzip alma12m_3field_dovpTrue_gridder_mosaic.img.zarr.zip > /dev/null\n",
        "\n",
        "%matplotlib widget"
      ],
      "execution_count": 2,
      "outputs": []
    },
    {
      "cell_type": "markdown",
      "metadata": {
        "id": "Fn18-h9QI06O"
      },
      "source": [
        "## Load Dataset"
      ]
    },
    {
      "cell_type": "code",
      "metadata": {
        "colab": {
          "base_uri": "https://localhost:8080/"
        },
        "id": "d12wPUEVI06O",
        "outputId": "93fe8c29-1ac1-46d4-bd07-c56fcf7c878e"
      },
      "source": [
        "import xarray as xr\n",
        "from cngi.dio import read_vis\n",
        "%matplotlib widget\n",
        "\n",
        "xr.set_options(display_style=\"html\")\n",
        "\n",
        "infile = \"alma12m_3field_dovpTrue.vis.zarr\"\n",
        "mxds = read_vis(infile)\n",
        "mxds.xds0.chan_width.values"
      ],
      "execution_count": 3,
      "outputs": [
        {
          "output_type": "execute_result",
          "data": {
            "text/plain": [
              "array([3.4e+10, 3.4e+10, 3.4e+10])"
            ]
          },
          "metadata": {
            "tags": []
          },
          "execution_count": 3
        }
      ]
    },
    {
      "cell_type": "markdown",
      "metadata": {
        "id": "DYeZs6o3X3y8"
      },
      "source": [
        "## Grid Parameters"
      ]
    },
    {
      "cell_type": "code",
      "metadata": {
        "id": "D2SckpNfdThZ"
      },
      "source": [
        "grid_parms = {}\n",
        "grid_parms['chan_mode'] = 'cube'\n",
        "grid_parms['image_size'] = [1000,720]\n",
        "grid_parms['cell_size'] = [0.04,0.04]\n",
        "grid_parms['fft_padding'] = 1.0\n",
        "grid_parms['phase_center'] = mxds.FIELD.PHASE_DIR[1,0,:].data.compute()"
      ],
      "execution_count": 4,
      "outputs": []
    },
    {
      "cell_type": "markdown",
      "metadata": {
        "id": "rwXs51nvX3y8"
      },
      "source": [
        "## Direction Rotation\n",
        "\n",
        "The UVW coordinates must be rotated and the visbility DATA must be phase rotated, relative to the mosaic phase center specified by ```rotation_parms['image_phase_center']```. \n",
        "\n",
        "[direction_rotate documentation](https://cngi-prototype.readthedocs.io/en/latest/_api/autoapi/ngcasa/imaging/make_psf/index.html#ngcasa.imaging.direction_rotate.direction_rotate)"
      ]
    },
    {
      "cell_type": "code",
      "metadata": {
        "colab": {
          "base_uri": "https://localhost:8080/"
        },
        "id": "rRHEd1gXX3y9",
        "outputId": "4f354c03-9582-4365-a260-745cef11c9da"
      },
      "source": [
        "from ngcasa.imaging import direction_rotate\n",
        "import numpy as np\n",
        "import dask\n",
        " \n",
        "xr.set_options(display_style=\"html\")\n",
        "\n",
        "infile = \"alma12m_3field_dovpTrue.vis.zarr\"\n",
        "mxds = read_vis(infile,chunks={'time':192,'baseline':903,'chan':3})\n",
        "\n",
        "sel_parms = {}\n",
        "sel_parms['xds'] = 'xds0'\n",
        "sel_parms['data_group_in_id'] = 0\n",
        "\n",
        "rotation_parms = {}\n",
        "rotation_parms['new_phase_center'] = grid_parms['phase_center']\n",
        "rotation_parms['common_tangent_reprojection'] = True\n",
        "rotation_parms['single_precision'] = False\n",
        "\n",
        "mxds = direction_rotate(mxds, rotation_parms, sel_parms)\n",
        "\n",
        "print(mxds.xds0)"
      ],
      "execution_count": 5,
      "outputs": [
        {
          "output_type": "stream",
          "text": [
            "######################### Start direction_rotate #########################\n",
            "Setting data_group_in  to  {'data': 'DATA', 'flag': 'FLAG', 'id': '0', 'uvw': 'UVW', 'weight': 'DATA_WEIGHT'}\n",
            "Setting default data_group_out  to  {'data': 'DATA_ROT', 'flag': 'FLAG', 'id': '2', 'uvw': 'UVW_ROT', 'weight': 'DATA_WEIGHT'}\n",
            "######################### Created graph for direction_rotate #########################\n",
            "<xarray.Dataset>\n",
            "Dimensions:                (baseline: 903, chan: 3, pol: 1, pol_id: 1, spw_id: 1, time: 192, uvw_index: 3)\n",
            "Coordinates:\n",
            "  * baseline               (baseline) int64 0 1 2 3 4 5 ... 898 899 900 901 902\n",
            "  * chan                   (chan) float64 3.4e+11 3.74e+11 4.08e+11\n",
            "  * pol                    (pol) int32 9\n",
            "  * time                   (time) datetime64[ns] 2011-05-27T04:32:14.77260398...\n",
            "    chan_width             (chan) float64 dask.array<chunksize=(3,), meta=np.ndarray>\n",
            "    effective_bw           (chan) float64 dask.array<chunksize=(3,), meta=np.ndarray>\n",
            "  * pol_id                 (pol_id) int32 0\n",
            "    resolution             (chan) float64 dask.array<chunksize=(3,), meta=np.ndarray>\n",
            "  * spw_id                 (spw_id) int32 0\n",
            "Dimensions without coordinates: uvw_index\n",
            "Data variables: (12/22)\n",
            "    ANTENNA1               (baseline) int32 dask.array<chunksize=(903,), meta=np.ndarray>\n",
            "    ANTENNA2               (baseline) int32 dask.array<chunksize=(903,), meta=np.ndarray>\n",
            "    ARRAY_ID               (time, baseline) int32 dask.array<chunksize=(192, 903), meta=np.ndarray>\n",
            "    CORRECTED_DATA         (time, baseline, chan, pol) complex128 dask.array<chunksize=(192, 903, 3, 1), meta=np.ndarray>\n",
            "    CORRECTED_DATA_WEIGHT  (time, baseline, chan, pol) float64 dask.array<chunksize=(192, 903, 3, 1), meta=np.ndarray>\n",
            "    DATA                   (time, baseline, chan, pol) complex128 dask.array<chunksize=(192, 903, 3, 1), meta=np.ndarray>\n",
            "    ...                     ...\n",
            "    SCAN_NUMBER            (time, baseline) int32 dask.array<chunksize=(192, 903), meta=np.ndarray>\n",
            "    STATE_ID               (time, baseline) int32 dask.array<chunksize=(192, 903), meta=np.ndarray>\n",
            "    TIME_CENTROID          (time, baseline) float64 dask.array<chunksize=(192, 903), meta=np.ndarray>\n",
            "    UVW                    (time, baseline, uvw_index) float64 dask.array<chunksize=(192, 903, 3), meta=np.ndarray>\n",
            "    UVW_ROT                (time, baseline, uvw_index) float64 dask.array<chunksize=(192, 903, 3), meta=np.ndarray>\n",
            "    DATA_ROT               (time, baseline, chan, pol) complex128 dask.array<chunksize=(192, 903, 3, 1), meta=np.ndarray>\n",
            "Attributes:\n",
            "    corr_product:     [[0, 0]]\n",
            "    data_groups:      [{'0': {'data': 'DATA', 'flag': 'FLAG', 'id': '0', 'uvw...\n",
            "    freq_group:       0\n",
            "    freq_group_name:  Group 1\n",
            "    if_conv_chain:    0\n",
            "    meas_freq_ref:    1\n",
            "    name:             Band_8\n",
            "    net_sideband:     1\n",
            "    num_chan:         3\n",
            "    num_corr:         1\n",
            "    ref_frequency:    340000000000.0\n",
            "    total_bandwidth:  101999999999.99998\n"
          ],
          "name": "stdout"
        }
      ]
    },
    {
      "cell_type": "markdown",
      "metadata": {
        "id": "vEpILjxqX3y_"
      },
      "source": [
        "## Make Imaging Weights\n",
        "\n",
        "[make_imaging_weight documentation](https://cngi-prototype.readthedocs.io/en/latest/_api/autoapi/ngcasa/imaging/make_imaging_weight/index.html#ngcasa.imaging.make_imaging_weight.make_imaging_weight)"
      ]
    },
    {
      "cell_type": "code",
      "metadata": {
        "colab": {
          "base_uri": "https://localhost:8080/"
        },
        "id": "YzLXU6mIX3zA",
        "outputId": "e2d43b94-616a-423f-d223-752ee79439a6"
      },
      "source": [
        "from ngcasa.imaging import make_imaging_weight\n",
        "\n",
        "imaging_weights_parms = {}\n",
        "imaging_weights_parms['weighting'] = 'natural'\n",
        "\n",
        "sel_parms = {}\n",
        "sel_parms['xds'] = 'xds0'\n",
        "sel_parms['data_group_in_id'] = 2\n",
        "\n",
        "mxds = make_imaging_weight(mxds, imaging_weights_parms, grid_parms, sel_parms)\n",
        "\n",
        "imaging_weights_parms = {}\n",
        "imaging_weights_parms['weighting'] = 'natural'\n",
        "\n",
        "sel_parms = {}\n",
        "sel_parms['xds'] = 'xds0'\n",
        "sel_parms['data_group_in_id'] = 0\n",
        "\n",
        "mxds = make_imaging_weight(mxds, imaging_weights_parms, grid_parms, sel_parms)"
      ],
      "execution_count": 6,
      "outputs": [
        {
          "output_type": "stream",
          "text": [
            "######################### Start make_imaging_weights #########################\n",
            "Setting data_group_in  to  {'data': 'DATA_ROT', 'flag': 'FLAG', 'id': '2', 'uvw': 'UVW_ROT', 'weight': 'DATA_WEIGHT'}\n",
            "Setting default data_group_out  to  {'data': 'DATA_ROT', 'flag': 'FLAG', 'id': '2', 'uvw': 'UVW_ROT', 'weight': 'DATA_WEIGHT', 'imaging_weight': 'IMAGING_WEIGHT'}\n",
            "Since weighting is natural input weight will be reused as imaging weight.\n",
            "######################### Created graph for make_imaging_weight #########################\n",
            "######################### Start make_imaging_weights #########################\n",
            "Setting data_group_in  to  {'data': 'DATA', 'flag': 'FLAG', 'id': '0', 'uvw': 'UVW', 'weight': 'DATA_WEIGHT'}\n",
            "Setting default data_group_out  to  {'data': 'DATA', 'flag': 'FLAG', 'id': '0', 'uvw': 'UVW', 'weight': 'DATA_WEIGHT', 'imaging_weight': 'IMAGING_WEIGHT'}\n",
            "Since weighting is natural input weight will be reused as imaging weight.\n",
            "######################### Created graph for make_imaging_weight #########################\n"
          ],
          "name": "stdout"
        }
      ]
    },
    {
      "cell_type": "markdown",
      "metadata": {
        "id": "tu1ailVgX3zC"
      },
      "source": [
        "## Make Gridding Convolution Functions\n",
        "\n",
        "[make_gridding_convolution_function](https://cngi-prototype.readthedocs.io/en/latest/_api/autoapi/ngcasa/imaging/make_gridding_convolution_function/index.html#ngcasa.imaging.make_gridding_convolution_function.make_gridding_convolution_function)\n",
        "\n"
      ]
    },
    {
      "cell_type": "code",
      "metadata": {
        "colab": {
          "base_uri": "https://localhost:8080/"
        },
        "id": "9qmeexF3X3zD",
        "outputId": "3f1478a7-53cb-4e6a-e171-eda115017a30"
      },
      "source": [
        "from ngcasa.imaging import make_gridding_convolution_function\n",
        "import numpy as np\n",
        "import dask.array as da\n",
        "from cngi.dio import write_image\n",
        "\n",
        "gcf_parms = {}\n",
        "gcf_parms['function'] = 'alma_airy'\n",
        "gcf_parms['list_dish_diameters'] = np.array([10.7])\n",
        "gcf_parms['list_blockage_diameters'] = np.array([0.75])\n",
        "\n",
        "unique_ant_indx = mxds.ANTENNA.DISH_DIAMETER.values\n",
        "unique_ant_indx[unique_ant_indx == 12.0] = 0\n",
        "\n",
        "gcf_parms['unique_ant_indx'] = unique_ant_indx.astype(int)\n",
        "gcf_parms['phase_center'] = grid_parms['phase_center']\n",
        "\n",
        "sel_parms = {}\n",
        "sel_parms['xds'] = 'xds0'\n",
        "sel_parms['data_group_in_id'] = 2\n",
        "\n",
        "gcf_xds = make_gridding_convolution_function(mxds, gcf_parms, grid_parms, sel_parms)\n",
        "write_image(gcf_xds,'mosaic_gcf.gcf.zarr')\n",
        "gcf_xds = xr.open_zarr('mosaic_gcf.gcf.zarr')"
      ],
      "execution_count": 7,
      "outputs": [
        {
          "output_type": "stream",
          "text": [
            "######################### Start make_gridding_convolution_function #########################\n",
            "Setting data_group_in  to  {'data': 'DATA_ROT', 'flag': 'FLAG', 'id': '2', 'uvw': 'UVW_ROT', 'weight': 'DATA_WEIGHT', 'imaging_weight': 'DATA_WEIGHT'}\n",
            "Setting default data_group_out  to  {'data': 'DATA_ROT', 'flag': 'FLAG', 'id': '3', 'uvw': 'UVW_ROT', 'weight': 'DATA_WEIGHT', 'imaging_weight': 'DATA_WEIGHT'}\n",
            "Setting default chan_tolerance_factor  to  0.005\n",
            "Setting default oversampling  to  [10, 10]\n",
            "Setting default max_support  to  [15, 15]\n",
            "Setting default support_cut_level  to  0.025\n",
            "Setting default a_chan_num_chunk  to  3\n",
            "Setting default image_center  to  [500 360]\n",
            "#########################  Created graph for make_gridding_convolution_function #########################\n",
            "Time to store and execute graph  write_zarr 7.381589889526367\n"
          ],
          "name": "stdout"
        }
      ]
    },
    {
      "cell_type": "markdown",
      "metadata": {
        "id": "7hrsE8VnX3zF"
      },
      "source": [
        "## Make Mosaic Primary Beam, PSF, and Image\n",
        "\n",
        "[make_mosaic_pb](https://cngi-prototype.readthedocs.io/en/latest/_api/autoapi/ngcasa/imaging/make_mosaic_pb/index.html#ngcasa.imaging.make_mosaic_pb.make_mosaic_pb)\n",
        "\n",
        "[make_psf](https://cngi-prototype.readthedocs.io/en/latest/_api/autoapi/ngcasa/imaging/make_psf/index.html#ngcasa.imaging.make_psf.make_psf)\n",
        "\n",
        "[make_image_with_gcf](https://cngi-prototype.readthedocs.io/en/latest/_api/autoapi/ngcasa/imaging/make_image_with_gcf/index.html#ngcasa.imaging.make_image_with_gcf.make_image_with_gcf)"
      ]
    },
    {
      "cell_type": "code",
      "metadata": {
        "colab": {
          "base_uri": "https://localhost:8080/"
        },
        "id": "TsHHQQYlX3zF",
        "outputId": "5741438d-7818-477c-cda1-456518611c34"
      },
      "source": [
        "from ngcasa.imaging import make_mosaic_pb\n",
        "\n",
        "vis_sel_parms = {}\n",
        "vis_sel_parms['xds'] = 'xds0'\n",
        "vis_sel_parms['data_group_in_id'] = 2\n",
        "\n",
        "img_sel_parms = {}\n",
        "img_xds= xr.Dataset()\n",
        "\n",
        "img_xds = make_mosaic_pb(mxds,gcf_xds,img_xds,vis_sel_parms,img_sel_parms,grid_parms)\n",
        "\n",
        "###############################################\n",
        "\n",
        "from ngcasa.imaging import make_psf\n",
        "\n",
        "vis_sel_parms = {}\n",
        "vis_sel_parms['xds'] = 'xds0'\n",
        "vis_sel_parms['data_group_in_id'] = 2\n",
        "\n",
        "img_sel_parms = {}\n",
        "img_sel_parms['data_group_out_id'] = 0\n",
        "img_sel_parms['psf'] = 'PSF'\n",
        "img_sel_parms['psf_sum_weight'] = 'PSF'\n",
        "img_sel_parms['data_group_out_id'] = 0\n",
        "\n",
        "img_xds = make_psf(mxds, img_xds, grid_parms, vis_sel_parms, img_sel_parms)\n",
        "\n",
        "##############################################\n",
        "\n",
        "from ngcasa.imaging import make_image_with_gcf\n",
        "from cngi.dio import write_image\n",
        "\n",
        "vis_select_parms = {}\n",
        "vis_select_parms['xds'] = 'xds0'\n",
        "vis_select_parms['data_group_in_id'] = 2\n",
        "\n",
        "img_select_parms = {}\n",
        "img_select_parms['data_group_in_id'] = 0\n",
        "img_select_parms['data_group_out_id'] = 0\n",
        "\n",
        "norm_parms = {}\n",
        "norm_parms['norm_type'] = 'flat_sky'\n",
        "\n",
        "img_xds = make_image_with_gcf(mxds,gcf_xds, img_xds, grid_parms, norm_parms, vis_select_parms, img_select_parms)\n",
        "img_xds = write_image(img_xds,'mosaic_img.img.zarr')"
      ],
      "execution_count": 8,
      "outputs": [
        {
          "output_type": "stream",
          "text": [
            "######################### Start make_mosaic_pb #########################\n",
            "Setting default image_center  to  [500 360]\n",
            "Setting data_group_in  to  {'data': 'DATA_ROT', 'flag': 'FLAG', 'id': '2', 'uvw': 'UVW_ROT', 'weight': 'DATA_WEIGHT', 'imaging_weight': 'DATA_WEIGHT'}\n",
            "Setting default data_group_out  to  {'data': 'DATA_ROT', 'flag': 'FLAG', 'id': '3', 'uvw': 'UVW_ROT', 'weight': 'DATA_WEIGHT', 'imaging_weight': 'DATA_WEIGHT'}\n",
            "Setting default data_group_in  to  {'id': '0'}\n",
            "Setting default data_group_out  to  {'id': '0', 'pb': 'PB', 'weight_pb': 'WEIGHT_PB', 'weight_pb_sum_weight': 'WEIGHT_PB_SUM_WEIGHT'}\n",
            "#########################  Created graph for make_mosaic_pb #########################\n",
            "######################### Start make_psf #########################\n",
            "Setting default image_center  to  [500 360]\n",
            "Setting data_group_in  to  {'data': 'DATA_ROT', 'flag': 'FLAG', 'id': '2', 'uvw': 'UVW_ROT', 'weight': 'DATA_WEIGHT', 'imaging_weight': 'DATA_WEIGHT'}\n",
            "Setting default data_group_out  to  {'data': 'DATA_ROT', 'flag': 'FLAG', 'id': '3', 'uvw': 'UVW_ROT', 'weight': 'DATA_WEIGHT', 'imaging_weight': 'DATA_WEIGHT'}\n",
            "Setting default data_group_in  to  {'id': '0', 'pb': 'PB', 'weight_pb': 'WEIGHT_PB', 'weight_pb_sum_weight': 'WEIGHT_PB_SUM_WEIGHT'}\n",
            "Setting default data_group_out [' pb ']  to  PB\n",
            "Setting default data_group_out [' weight_pb ']  to  WEIGHT_PB\n",
            "Setting default data_group_out [' weight_pb_sum_weight ']  to  WEIGHT_PB_SUM_WEIGHT\n",
            "Setting default data_group_out [' sum_weight ']  to  PSF_SUM_WEIGHT\n",
            "Setting default data_group_out [' psf_fit ']  to  PSF_FIT\n",
            "######################### Created graph for make_psf #########################\n",
            "######################### Start make_image_with_gcf #########################\n",
            "Setting default image_center  to  [500 360]\n",
            "Setting default single_precision  to  True\n",
            "Setting default pb_limit  to  0.2\n",
            "Setting data_group_in  to  {'data': 'DATA_ROT', 'flag': 'FLAG', 'id': '2', 'uvw': 'UVW_ROT', 'weight': 'DATA_WEIGHT', 'imaging_weight': 'DATA_WEIGHT'}\n",
            "Setting default data_group_out  to  {'data': 'DATA_ROT', 'flag': 'FLAG', 'id': '3', 'uvw': 'UVW_ROT', 'weight': 'DATA_WEIGHT', 'imaging_weight': 'DATA_WEIGHT'}\n",
            "Setting data_group_in  to  {'id': '0', 'psf': 'PSF', 'pb': 'PB', 'weight_pb': 'WEIGHT_PB', 'weight_pb_sum_weight': 'WEIGHT_PB_SUM_WEIGHT', 'sum_weight': 'PSF_SUM_WEIGHT', 'psf_fit': 'PSF_FIT'}\n",
            "Setting default data_group_out [' pb ']  to  PB\n",
            "Setting default data_group_out [' weight_pb ']  to  WEIGHT_PB\n",
            "Setting default data_group_out [' psf ']  to  PSF\n",
            "Setting default data_group_out [' weight_pb_sum_weight ']  to  WEIGHT_PB_SUM_WEIGHT\n",
            "Setting default data_group_out [' sum_weight ']  to  SUM_WEIGHT\n",
            "Setting default data_group_out [' psf_fit ']  to  PSF_FIT\n",
            "Setting default data_group_out [' image ']  to  IMAGE\n",
            "grid sizes 1000 720\n",
            "#########################  Created graph for make_mosaic_with_gcf #########################\n",
            "Time to store and execute graph  write_zarr 12.198616743087769\n"
          ],
          "name": "stdout"
        }
      ]
    },
    {
      "cell_type": "markdown",
      "metadata": {
        "id": "FSAudYu4X3zL"
      },
      "source": [
        "## Compare CASA and ngCASA Primary Beams"
      ]
    },
    {
      "cell_type": "code",
      "metadata": {
        "colab": {
          "base_uri": "https://localhost:8080/",
          "height": 66,
          "referenced_widgets": [
            "d1fea9e511a44953918cdff9ebe97c85",
            "0fa5dbb5cc8141ec8f135726d1dd1c21",
            "ce95d672c0f04629ba7defadefe0b17d",
            "1fa119ada97643af894a1b2586df6b7b",
            "406003cd80ed42bcacb21f5ec0b4248d",
            "f797c73ce00b481b9144106a606a0c7b",
            "e7c84e6168e244ec9d1d27ed6466f481",
            "2b9c004c304b4438a038109eae55ba2f"
          ]
        },
        "id": "aqB0vb_MX3zL",
        "outputId": "24d8e799-1eef-4772-b7e8-2c7aa8ba8bdc"
      },
      "source": [
        "import matplotlib.pylab as plt\n",
        "import numpy as np\n",
        "from ipywidgets import interactive\n",
        "import scipy\n",
        "from scipy.signal import decimate\n",
        "from cngi.image import implot\n",
        "\n",
        "img_xds = xr.open_zarr('mosaic_img.img.zarr').isel(time=0,pol=0)\n",
        "casa_img_xds = xr.open_zarr('alma12m_3field_dovpTrue_gridder_mosaic.img.zarr').isel(time=0,pol=0)\n",
        "pb_limit = 0.2\n",
        "extent = extent=(np.min(casa_img_xds.m),np.max(casa_img_xds.m),np.min(casa_img_xds.l),np.max(casa_img_xds.l))\n",
        "\n",
        "def comparison_plots(chan):\n",
        "    plt.close('all')\n",
        "    print('Frequency',img_xds.chan[chan].values/10**9, 'GHz')\n",
        "    mosaic_pb = img_xds.PB.isel(chan=chan)\n",
        "    mosaic_pb = mosaic_pb.where(mosaic_pb > pb_limit,other=np.nan)\n",
        "    \n",
        "    casa_mosaic_pb = casa_img_xds.PB.isel(chan=chan)\n",
        "    casa_mosaic_pb = casa_mosaic_pb.where(casa_mosaic_pb > pb_limit,other=np.nan)\n",
        "    \n",
        "    fig0, ax0 = plt.subplots(1, 2, sharey=True,figsize=(10, 5))\n",
        "    im0 = ax0[0].imshow(mosaic_pb,extent=extent,cmap='jet')\n",
        "    im1 = ax0[1].imshow(casa_mosaic_pb,extent=extent,cmap='jet')\n",
        "    ax0[0].title.set_text('ngCASA Mosaic PB')\n",
        "    ax0[1].title.set_text('CASA Mosaic PB')\n",
        "    ax0[0].set_xlabel('m'), ax0[1].set_xlabel('m'), ax0[0].set_ylabel('l'), ax0[1].set_ylabel('l')\n",
        "    fig0.colorbar(im0, ax=ax0[0], fraction=0.046, pad=0.04)\n",
        "    fig0.colorbar(im1, ax=ax0[1], fraction=0.046, pad=0.04)\n",
        "    \n",
        "    plt.figure()\n",
        "    plt.plot(casa_mosaic_pb.l,mosaic_pb.isel(m=360),label='ngCASA PB')\n",
        "    plt.plot(casa_mosaic_pb.l,casa_mosaic_pb.isel(m=360),'*',label='CASA PB',markersize=1)\n",
        "    plt.legend()\n",
        "    plt.xlabel('l')\n",
        "    plt.ylabel('Amplitude')\n",
        "    plt.title('Mosaic PB Cross Section')\n",
        "    \n",
        "    diff_image = mosaic_pb - casa_mosaic_pb\n",
        "    \n",
        "    plt.figure()\n",
        "    plt.imshow(mosaic_pb - casa_mosaic_pb,extent=extent,cmap='jet')\n",
        "    plt.xlabel('m'), plt.ylabel('l')\n",
        "    plt.colorbar()\n",
        "    plt.title('Difference Mosaic PB')\n",
        "    \n",
        "    plt.show()\n",
        "\n",
        "interactive_plot = interactive(comparison_plots, chan=(0, 2))\n",
        "output = interactive_plot.children[-1]\n",
        "output.layout.auto_scroll_threshold = 9999;\n",
        "interactive_plot\n"
      ],
      "execution_count": 9,
      "outputs": [
        {
          "output_type": "display_data",
          "data": {
            "application/vnd.jupyter.widget-view+json": {
              "model_id": "d1fea9e511a44953918cdff9ebe97c85",
              "version_minor": 0,
              "version_major": 2
            },
            "text/plain": [
              "interactive(children=(IntSlider(value=1, description='chan', max=2), Output()), _dom_classes=('widget-interact…"
            ]
          },
          "metadata": {
            "tags": []
          }
        }
      ]
    },
    {
      "cell_type": "markdown",
      "metadata": {
        "id": "5tbc-mMHPt4-"
      },
      "source": [
        "## Get Simulated Sources l,m Coordinates"
      ]
    },
    {
      "cell_type": "code",
      "metadata": {
        "id": "F4vkQxWYPt4-"
      },
      "source": [
        "from astropy.coordinates import SkyCoord\n",
        "from astropy.wcs import WCS\n",
        "rad_to_deg =  180/np.pi\n",
        "deg_to_rad = np.pi/180\n",
        "arcsec_to_deg = 1/3600\n",
        "arcsec_to_rad = np.pi/(180*3600)\n",
        "\n",
        "phase_center = grid_parms['phase_center'] \n",
        "w = WCS(naxis=2)\n",
        "w.wcs.crpix = np.array(grid_parms['image_size'])//2\n",
        "w.wcs.cdelt = np.array([-0.04,0.04])*arcsec_to_deg\n",
        "w.wcs.crval = phase_center*rad_to_deg\n",
        "w.wcs.ctype = ['RA---SIN','DEC--SIN']\n",
        "\n",
        "ra = ['12h01m51.903005s','12h01m52.430856s','12h01m52.958707s','12h01m52.259s','12h01m52s','12h01m53.153s']\n",
        "dec = ['-18d51m49.94373s','-18d51m49.94369s','-18d51m49.94365s','-18d51m42.983s','-18d51m46s','-18d51m59.305s']\n",
        "ps_skycoord = SkyCoord(ra=ra,dec=dec,frame='fk5')\n",
        "\n",
        "\n",
        "ra_dec = np.array([ps_skycoord.ra.degree,ps_skycoord.dec.degree]).T\n",
        "lm_pix_pos = w.all_world2pix(ra_dec, 1)\n",
        "\n",
        "cell_size = np.array(grid_parms['cell_size'])*arcsec_to_rad\n",
        "cell_size[0] = -cell_size[0]\n",
        "image_center = np.array(grid_parms['image_size'])//2\n",
        "source_lm_pos = lm_pix_pos*cell_size - image_center*cell_size\n"
      ],
      "execution_count": 10,
      "outputs": []
    },
    {
      "cell_type": "markdown",
      "metadata": {
        "id": "_QzHkHJwX3zN"
      },
      "source": [
        "## Compare CASA and ngCASA Sky Images"
      ]
    },
    {
      "cell_type": "code",
      "metadata": {
        "colab": {
          "base_uri": "https://localhost:8080/",
          "height": 1000,
          "referenced_widgets": [
            "222ce3182c0540b5927209b52a38602f",
            "179d290e62e047429277e9b707a0f2fa",
            "aa16cf626e5a45edac7b29a403613209",
            "8f316d0a9ad24e06a39c41aa3d604585",
            "d9951f1427c5475ea04255ff61dc0676",
            "1263c619f9014f5bacc0a09628bad88c",
            "1d99977822f44cdf87f4a1045a082ab4",
            "88b79589bf48491aa97d418ef4dfb077"
          ]
        },
        "id": "5_4KYUsfX3zO",
        "outputId": "9934c4a7-568b-4f13-afeb-c10c46092c92"
      },
      "source": [
        "import matplotlib.pylab as plt\n",
        "import numpy as np\n",
        "from ipywidgets import interactive\n",
        "import scipy\n",
        "from scipy.signal import decimate\n",
        "\n",
        "img_xds = xr.open_zarr('mosaic_img.img.zarr',chunks={'l':grid_parms['image_size'][0],'m':grid_parms['image_size'][1]}).isel(time=0,pol=0)\n",
        "casa_img_xds = xr.open_zarr('alma12m_3field_dovpTrue_gridder_mosaic.img.zarr',chunks={'l':grid_parms['image_size'][0],'m':grid_parms['image_size'][1]}).isel(time=0,pol=0)\n",
        "pb_limit = 0.2\n",
        "extent = extent=(np.min(casa_img_xds.m),np.max(casa_img_xds.m),np.min(casa_img_xds.l),np.max(casa_img_xds.l))\n",
        "\n",
        "ngcasa_image_name = 'IMAGE'\n",
        "casa_image_name = 'IMAGE_PBCOR'\n",
        "\n",
        "def comparison_plots(chan):\n",
        "    print('Frequency',img_xds.chan[chan].values/10**9, 'GHz')\n",
        "    mosaic_pb = img_xds.PB.isel(chan=chan)\n",
        "    casa_mosaic_pb = casa_img_xds.PB.isel(chan=chan)\n",
        "    \n",
        "    mosaic_img = img_xds[ngcasa_image_name].isel(chan=chan)\n",
        "    mosaic_img = mosaic_img.where(mosaic_pb > pb_limit,other=np.nan)\n",
        "    \n",
        "    casa_mosaic_img = casa_img_xds[casa_image_name].isel(chan=chan)\n",
        "    casa_mosaic_img = casa_mosaic_img.where(casa_mosaic_pb > pb_limit,other=np.nan)\n",
        "    \n",
        "    sim_sources = np.array([1.5,1.76,2.0,2.0,1.456,1.888])\n",
        "     \n",
        "    print('################## Flux of Point Sources ##################')\n",
        "    print('Sim    ','ngCASA  ', 'CASA')\n",
        "    for i,s in enumerate(sim_sources):\n",
        "        ngcasa_recovered_val = img_xds[ngcasa_image_name].isel(chan=chan).interp(l=source_lm_pos[i,0],m=source_lm_pos[i,1]).values\n",
        "        casa_recovered_val = casa_mosaic_img.interp(l=source_lm_pos[i,0],m=source_lm_pos[i,1]).values      \n",
        "        print('{0:.3f}  '.format(s),'{0:.4f}  '.format(ngcasa_recovered_val),'{0:.4f}'.format(casa_recovered_val))\n",
        "    \n",
        "\n",
        "    print('############ Percentage Difference Flux to Sim ############')\n",
        "    print('ngCASA  ', 'CASA')\n",
        "    for i,s in enumerate(sim_sources):\n",
        "        ngcasa_recovered_val = img_xds[ngcasa_image_name].isel(chan=chan).interp(l=source_lm_pos[i,0],m=source_lm_pos[i,1]).values\n",
        "        casa_recovered_val = casa_mosaic_img.interp(l=source_lm_pos[i,0],m=source_lm_pos[i,1]).values      \n",
        "        print('{0:.4f}  '.format(100*(s-ngcasa_recovered_val)/s),'{0:.4f}'.format(100*(s-casa_recovered_val)/s))\n",
        "\n",
        "    fig0, ax0 = plt.subplots(1, 2, sharey=True,figsize=(10, 5))\n",
        "    im0 = ax0[0].imshow(mosaic_img,cmap='jet',extent=extent)\n",
        "    im1 = ax0[1].imshow(casa_mosaic_img,cmap='jet',extent=extent)\n",
        "    ax0[0].set_xlabel('m'), ax0[1].set_xlabel('m'), ax0[0].set_ylabel('l'), ax0[1].set_ylabel('l')\n",
        "    ax0[0].title.set_text('ngCASA Mosaic PB')\n",
        "    ax0[1].title.set_text('CASA Mosaic PB')\n",
        "    fig0.colorbar(im0, ax=ax0[0], fraction=0.046, pad=0.04)\n",
        "    fig0.colorbar(im1, ax=ax0[1], fraction=0.046, pad=0.04)\n",
        "    \n",
        "    plt.figure()\n",
        "    plt.imshow((100*(mosaic_img - casa_mosaic_img)/2),cmap='jet',extent=extent)\n",
        "    plt.colorbar()\n",
        "    plt.xlabel('m'), plt.ylabel('l')\n",
        "    plt.title('Difference Mosaic Image')\n",
        "    \n",
        "    plt.show()\n",
        "\n",
        "interactive_plot = interactive(comparison_plots, chan=(0, 2))\n",
        "output = interactive_plot.children[-1]\n",
        "output.layout.height = '1450px'\n",
        "interactive_plot\n"
      ],
      "execution_count": 11,
      "outputs": [
        {
          "output_type": "display_data",
          "data": {
            "application/vnd.jupyter.widget-view+json": {
              "model_id": "222ce3182c0540b5927209b52a38602f",
              "version_minor": 0,
              "version_major": 2
            },
            "text/plain": [
              "interactive(children=(IntSlider(value=1, description='chan', max=2), Output(layout=Layout(height='1450px'))), …"
            ]
          },
          "metadata": {
            "tags": []
          }
        }
      ]
    },
    {
      "cell_type": "code",
      "metadata": {
        "id": "oIr0svQvgghB"
      },
      "source": [
        ""
      ],
      "execution_count": 11,
      "outputs": []
    }
  ]
}