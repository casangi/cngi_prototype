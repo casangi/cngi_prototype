{
  "nbformat": 4,
  "nbformat_minor": 0,
  "metadata": {
    "colab": {
      "name": "fit-mulltiple-1d-gaussians.ipynb",
      "provenance": [],
      "collapsed_sections": []
    },
    "kernelspec": {
      "name": "python3",
      "display_name": "Python 3"
    },
    "language_info": {
      "name": "python"
    }
  },
  "cells": [
    {
      "cell_type": "markdown",
      "source": [
        "This notebook provides an example of how to fit multiple 1-d gaussians simultaneously in python as may be done in spec_fit - dmehring 12jan2022"
      ],
      "metadata": {
        "id": "y78J7YQWwAu-"
      }
    },
    {
      "cell_type": "markdown",
      "source": [
        "Install casatools"
      ],
      "metadata": {
        "id": "QB0Yp_EywrGv"
      }
    },
    {
      "cell_type": "code",
      "metadata": {
        "colab": {
          "base_uri": "https://localhost:8080/"
        },
        "id": "IIr5sp0VgR2m",
        "outputId": "d1560091-00c6-4a66-9d2d-a807240b5096"
      },
      "source": [
        "import os\n",
        "print(\"installing casatools (takes a minute)...\")\n",
        "os.system(\"apt-get install libgfortran3\")\n",
        "os.system(\"pip install casatools==6.3.0.48\")\n",
        "os.system('pip install casadata')\n",
        "print('complete')"
      ],
      "execution_count": 8,
      "outputs": [
        {
          "output_type": "stream",
          "name": "stdout",
          "text": [
            "installing casatools (takes a minute)...\n",
            "complete\n"
          ]
        }
      ]
    },
    {
      "cell_type": "markdown",
      "source": [
        "imports"
      ],
      "metadata": {
        "id": "WZYbuoIKwgfG"
      }
    },
    {
      "cell_type": "code",
      "execution_count": 9,
      "metadata": {
        "id": "KphW8Dpxv8ME"
      },
      "outputs": [],
      "source": [
        "from casatools import functional\n",
        "import numpy as np\n",
        "from scipy.optimize import curve_fit\n",
        "\n",
        "# define useful conversion from fwhm to sigma\n",
        "__fwhm_to_sigma = 2*np.sqrt(np.log(2))"
      ]
    },
    {
      "cell_type": "markdown",
      "source": [
        "Define 1-d gaussian"
      ],
      "metadata": {
        "id": "Rw_961530Dal"
      }
    },
    {
      "cell_type": "code",
      "source": [
        "def gaussian1d(x, amp, center, fwhm):\n",
        "    d = fwhm/__fwhm_to_sigma\n",
        "    p = (x - center)/d\n",
        "    return amp*np.exp(-p*p)\n"
      ],
      "metadata": {
        "id": "yXqMKM9s0G8H"
      },
      "execution_count": 10,
      "outputs": []
    },
    {
      "cell_type": "markdown",
      "source": [
        "Define wrapper function that is used to fit multiple gaussians\n",
        "N = number of gaussians to fit"
      ],
      "metadata": {
        "id": "M7xddKYC0ULm"
      }
    },
    {
      "cell_type": "code",
      "source": [
        "def wrapper_fit_func(x, N, *args):\n",
        "  amp, center, fwhm = list(args[0][:N]), list(args[0][N:2*N]), list(args[0][2*N:3*N])\n",
        "  ret = 0\n",
        "  for i in range(N):\n",
        "    ret += gaussian1d(x, amp=amp[i], center=center[i], fwhm=fwhm[i])\n",
        "  return ret"
      ],
      "metadata": {
        "id": "E_o-UV890ZtP"
      },
      "execution_count": 11,
      "outputs": []
    },
    {
      "cell_type": "markdown",
      "source": [
        "Demonstrate how the fitting is done. Create some data and fit it."
      ],
      "metadata": {
        "id": "YzAbz2ap1dMX"
      }
    },
    {
      "cell_type": "code",
      "source": [
        "# create a model with 2 gaussians\n",
        "# first, create an array of 2 1-d gaussian functionals\n",
        "fn = functional()\n",
        "g1d = [\n",
        "    fn.gaussian1d(amplitude=5, center=10, fwhm=4),\n",
        "    fn.gaussian1d(amplitude=3, center=4, fwhm=6)\n",
        "  ]\n",
        "\n",
        "# create x and y arrays to hold the x and y data for the model\n",
        "x = []\n",
        "y = []\n",
        "\n",
        "npixels = 20\n",
        "\n",
        "# create some gaussian noise to add to the y values\n",
        "r = np.random.normal(0, 0.2, npixels)\n",
        "\n",
        "ngauss = len(g1d)\n",
        "\n",
        "# populate the x and y arrays with data\n",
        "for i in range(20):\n",
        "    x.append(i)\n",
        "    res = 0\n",
        "    for j in range(ngauss):\n",
        "        res += g1d[j].f(i)\n",
        "    y.append(res + r[i])\n",
        "\n",
        "# plot the data\n",
        "import matplotlib.pyplot as plt\n",
        "def plot_it(x, y, yfit=None):\n",
        "  plt.plot(x, y, linestyle='', marker='o', markerfacecolor='red')\n",
        "  plt.xlabel('V_LSR (km/s)')\n",
        "  plt.ylabel('Intensity (Jy/beam')\n",
        "  plt.title('Model Spectrum')\n",
        "  if yfit:\n",
        "    plt.plot(x, yfit)\n",
        "  plt.show()\n",
        "\n",
        "plot_it(x, y)\n",
        "\n",
        "\n"
      ],
      "metadata": {
        "colab": {
          "base_uri": "https://localhost:8080/",
          "height": 296
        },
        "id": "iiDu7vvQ1kcL",
        "outputId": "39cfd9ea-4ad2-47cd-9948-b2d3ad6725d0"
      },
      "execution_count": 12,
      "outputs": [
        {
          "output_type": "display_data",
          "data": {
            "image/png": "[encoded data removed]",
            "text/plain": [
              "<Figure size 432x288 with 1 Axes>"
            ]
          },
          "metadata": {
            "needs_background": "light"
          }
        }
      ]
    },
    {
      "cell_type": "markdown",
      "source": [
        "Perform the fit of two 1-d gaussians to the data"
      ],
      "metadata": {
        "id": "89wIR4WC7rHU"
      }
    },
    {
      "cell_type": "code",
      "source": [
        "# params_0 are the initial guesses for the parameters, which would normally\n",
        "# be provided by the user\n",
        "# they are in the order [amp0, amp1, ..., ampN, center0, center1, ..., centerN,\n",
        "# fwhm0, fwhm1, ..., fwhmN]\n",
        "params_0 = [6, 4, 9, 3, 2, 5]\n",
        "\n",
        "# this line does the actual fit\n",
        "popt, pcov = curve_fit(\n",
        "      lambda x, *params_0:\n",
        "        wrapper_fit_func(x, ngauss, params_0), x, y, p0=params_0\n",
        "    )\n",
        "# compute the estimated errors from the pcov diagonal\n",
        "perr = np.sqrt(np.diag(pcov))\n",
        "\n",
        "# print the fit solution\n",
        "ndigits = 3\n",
        "print('Solution for first gaussian:')\n",
        "print('  Amplitude:', round(popt[0], ndigits), '+/-', round(perr[0], ndigits))\n",
        "print('  Center:', round(popt[2], ndigits), '+/-', round(perr[2], ndigits))\n",
        "print('  FWHM:', round(popt[4], ndigits), '+/-', round(perr[4], ndigits))\n",
        "print()\n",
        "print('Solution for second gaussian')\n",
        "print('  Amplitude:', round(popt[1], ndigits), '+/-', round(perr[1], ndigits))\n",
        "print('  Center:', round(popt[3], ndigits), '+/-', round(perr[3], ndigits))\n",
        "print('  FWHM:', round(popt[5], ndigits), '+/-', round(perr[5], ndigits))\n",
        "\n"
      ],
      "metadata": {
        "colab": {
          "base_uri": "https://localhost:8080/"
        },
        "id": "QuqoxkTI7wTW",
        "outputId": "2eb3789d-33ff-42b9-aed0-cda3b66cb008"
      },
      "execution_count": 13,
      "outputs": [
        {
          "output_type": "stream",
          "name": "stdout",
          "text": [
            "Solution for first gaussian:\n",
            "  Amplitude: 4.939 +/- 0.081\n",
            "  Center: 9.849 +/- 0.05\n",
            "  FWHM: 4.084 +/- 0.105\n",
            "\n",
            "Solution for second gaussian\n",
            "  Amplitude: 3.037 +/- 0.066\n",
            "  Center: 3.894 +/- 0.096\n",
            "  FWHM: 5.602 +/- 0.252\n"
          ]
        }
      ]
    },
    {
      "cell_type": "markdown",
      "source": [
        "Plot the fit"
      ],
      "metadata": {
        "id": "yLWNOJi_BgiP"
      }
    },
    {
      "cell_type": "code",
      "source": [
        "yfit = []\n",
        "for i in range(npixels):\n",
        "  res = 0\n",
        "  for j in range(ngauss):\n",
        "    res += gaussian1d(i, popt[j], popt[j + 2], popt[j + 4])\n",
        "  yfit.append(res)\n",
        "\n",
        "plot_it(x, y, yfit)\n",
        "\n",
        "                      "
      ],
      "metadata": {
        "colab": {
          "base_uri": "https://localhost:8080/",
          "height": 296
        },
        "id": "SbghvL2aBiil",
        "outputId": "b6239f4a-e9b6-4f7f-8abe-0f829500c38a"
      },
      "execution_count": 14,
      "outputs": [
        {
          "output_type": "display_data",
          "data": {
            "image/png": "[encoded data removed]",
            "text/plain": [
              "<Figure size 432x288 with 1 Axes>"
            ]
          },
          "metadata": {
            "needs_background": "light"
          }
        }
      ]
    }
  ]
}