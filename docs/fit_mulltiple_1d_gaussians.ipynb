{
  "nbformat": 4,
  "nbformat_minor": 0,
  "metadata": {
    "colab": {
      "name": "fit-mulltiple-1d-gaussians.ipynb",
      "provenance": [],
      "collapsed_sections": [],
      "include_colab_link": true
    },
    "kernelspec": {
      "name": "python3",
      "display_name": "Python 3"
    },
    "language_info": {
      "name": "python"
    }
  },
  "cells": [
    {
      "cell_type": "markdown",
      "metadata": {
        "id": "view-in-github",
        "colab_type": "text"
      },
      "source": [
        "<a href=\"https://colab.research.google.com/github/casangi/cngi_prototype/blob/master/docs/fit_mulltiple_1d_gaussians.ipynb\" target=\"_parent\"><img src=\"https://colab.research.google.com/assets/colab-badge.svg\" alt=\"Open In Colab\"/></a>"
      ]
    },
    {
      "cell_type": "markdown",
      "source": [
        "This notebook provides an example of how to fit multiple 1-d gaussians simultaneously in python as may be done in spec_fit. Code based on discussion at https://stackoverflow.com/questions/34136737/using-scipy-curve-fit-for-a-variable-number-of-parameters\n",
        "\n",
        "Author: dmehring 12jan2022"
      ],
      "metadata": {
        "id": "y78J7YQWwAu-"
      }
    },
    {
      "cell_type": "markdown",
      "source": [
        "Install casatools"
      ],
      "metadata": {
        "id": "QB0Yp_EywrGv"
      }
    },
    {
      "cell_type": "code",
      "metadata": {
        "colab": {
          "base_uri": "https://localhost:8080/"
        },
        "id": "IIr5sp0VgR2m",
        "outputId": "ba87cc19-58e3-408f-d938-d29461369fcc"
      },
      "source": [
        "import os\n",
        "print(\"installing casatools (takes a minute)...\")\n",
        "os.system(\"apt-get install libgfortran3\")\n",
        "os.system(\"pip install casatools==6.3.0.48\")\n",
        "os.system('pip install casadata')\n",
        "print('complete')"
      ],
      "execution_count": 447,
      "outputs": [
        {
          "output_type": "stream",
          "name": "stdout",
          "text": [
            "installing casatools (takes a minute)...\n",
            "complete\n"
          ]
        }
      ]
    },
    {
      "cell_type": "markdown",
      "source": [
        "imports"
      ],
      "metadata": {
        "id": "WZYbuoIKwgfG"
      }
    },
    {
      "cell_type": "code",
      "execution_count": 448,
      "metadata": {
        "id": "KphW8Dpxv8ME"
      },
      "outputs": [],
      "source": [
        "from casatools import functional\n",
        "import numpy as np\n",
        "from scipy.optimize import curve_fit\n",
        "from matplotlib import pyplot as plt"
      ]
    },
    {
      "cell_type": "markdown",
      "source": [
        "Define functions to determine rms and compute model values"
      ],
      "metadata": {
        "id": "F5583WucXDi0"
      }
    },
    {
      "cell_type": "code",
      "source": [
        "def __rms(y: np.array) -> float:\n",
        "  return np.sqrt(np.sum(y*y)/len(y))\n",
        "\n",
        "def __model(x: np.array, g1d: list) -> np.array:\n",
        "  m = np.zeros(len(x))\n",
        "  for g in g1d:\n",
        "    m += g.f(x)\n",
        "  return m"
      ],
      "metadata": {
        "id": "XDnhnxokXGBG"
      },
      "execution_count": 449,
      "outputs": []
    },
    {
      "cell_type": "markdown",
      "source": [
        "Define chi square for curve fitting"
      ],
      "metadata": {
        "id": "HExQXJvod1fx"
      }
    },
    {
      "cell_type": "code",
      "source": [
        "def __chi_square(y: np.array, model: np.array, sigma: float) -> float:\n",
        "  residual_sigma = (model - y)/sigma\n",
        "  return np.sum(residual_sigma*residual_sigma)"
      ],
      "metadata": {
        "id": "uBHs1J67d6n-"
      },
      "execution_count": 450,
      "outputs": []
    },
    {
      "cell_type": "markdown",
      "source": [
        "Compute and return rms and chi-square"
      ],
      "metadata": {
        "id": "LoYrYKISxhD-"
      }
    },
    {
      "cell_type": "code",
      "source": [
        "def __rms_chisquare(y: np.array, model: np.array, sigma: float) -> tuple:\n",
        "  return __rms(y - model), __chi_square(y, model, sigma)"
      ],
      "metadata": {
        "id": "Vg2IYZsMxmyZ"
      },
      "execution_count": 451,
      "outputs": []
    },
    {
      "cell_type": "markdown",
      "source": [
        "Define function to plot data"
      ],
      "metadata": {
        "id": "D5oUYD7JUCz8"
      }
    },
    {
      "cell_type": "code",
      "source": [
        "# plot the data\n",
        "def __plot(\n",
        "    x: np.array, y: np.array, residual: np.array, x_smooth: np.array,\n",
        "    model_smooth: np.array, fit: bool=False\n",
        "  ) -> None:\n",
        "  plt.plot(x, y, linestyle='', marker='o', markerfacecolor='red')\n",
        "  plt.plot(x, residual, linestyle='', marker='x', markerfacecolor='#50C878')\n",
        "  plt.plot(x_smooth, model_smooth, color='blue')\n",
        "  plt.xlabel('V_LSR (km/s)')\n",
        "  plt.ylabel('Intensity (Jy/beam')\n",
        "  if fit:\n",
        "    plt.title('Model Spectrum with Fit')\n",
        "  else:\n",
        "    plt.title('Model Spectrum')\n",
        "  plt.show()\n"
      ],
      "metadata": {
        "id": "_bI10uqwT_0N"
      },
      "execution_count": 452,
      "outputs": []
    },
    {
      "cell_type": "markdown",
      "source": [
        "Define wrapper function that is used to fit multiple gaussians\n",
        "N = number of gaussians to fit"
      ],
      "metadata": {
        "id": "M7xddKYC0ULm"
      }
    },
    {
      "cell_type": "code",
      "source": [
        "def wrapper_fit_func(x, N, *args):\n",
        "  amp, center, fwhm = list(args[0][:N]), list(args[0][N:2*N]), list(args[0][2*N:3*N])\n",
        "  g1d = []\n",
        "  for i in range(N):\n",
        "    g1d.append(fn.gaussian1d(amp[i], center[i], fwhm[i]))\n",
        "  return __model(x, g1d)"
      ],
      "metadata": {
        "id": "E_o-UV890ZtP"
      },
      "execution_count": 453,
      "outputs": []
    },
    {
      "cell_type": "markdown",
      "source": [
        "Demonstrate how the fitting is done. Create some data and fit it."
      ],
      "metadata": {
        "id": "YzAbz2ap1dMX"
      }
    },
    {
      "cell_type": "code",
      "source": [
        "# create a model with 2 gaussians\n",
        "# first, create an array of 2 1-d gaussian functionals\n",
        "fn = functional()\n",
        "g1d = [\n",
        "    fn.gaussian1d(amplitude=5, center=10, fwhm=4),\n",
        "    fn.gaussian1d(amplitude=3, center=4, fwhm=6)\n",
        "  ]\n",
        "\n",
        "npixels = 20\n",
        "\n",
        "# create some gaussian noise to add to the y values\n",
        "noise = 0.2\n",
        "r = np.random.normal(0, noise, npixels)\n",
        "\n",
        "ngauss = len(g1d)\n",
        "\n",
        "# populate the x and y arrays with data\n",
        "x = np.linspace(0, npixels, npixels, endpoint=False)\n",
        "m = __model(x, g1d)\n",
        "y = m + r\n",
        "x_smooth = np.linspace(0, npixels, 100)\n",
        "model_smooth = __model(x_smooth, g1d)"
      ],
      "metadata": {
        "id": "iiDu7vvQ1kcL"
      },
      "execution_count": 454,
      "outputs": []
    },
    {
      "cell_type": "markdown",
      "source": [
        "Compute and report the rms of the residuals"
      ],
      "metadata": {
        "id": "3RRCAFd8crGi"
      }
    },
    {
      "cell_type": "code",
      "source": [
        "rms_orig, chi2_orig = __rms_chisquare(y, m, noise)\n",
        "print('rms of residuals:', round(rms_orig, 3))\n",
        "print('chi2:', round(chi2_orig, 3))"
      ],
      "metadata": {
        "colab": {
          "base_uri": "https://localhost:8080/"
        },
        "outputId": "8e6eee67-276c-4d87-dd64-7f92d2daed6a",
        "id": "gfweg36Rd4wN"
      },
      "execution_count": 455,
      "outputs": [
        {
          "output_type": "stream",
          "name": "stdout",
          "text": [
            "rms of residuals: 0.159\n",
            "chi2: 12.72\n"
          ]
        }
      ]
    },
    {
      "cell_type": "markdown",
      "source": [
        "Plot the data with the model overlaid"
      ],
      "metadata": {
        "id": "KqWW0ildeSeA"
      }
    },
    {
      "cell_type": "code",
      "source": [
        "__plot(x, y, r, x_smooth, model_smooth)"
      ],
      "metadata": {
        "colab": {
          "base_uri": "https://localhost:8080/",
          "height": 296
        },
        "outputId": "dd09fb12-22c8-4e17-8bf0-d8920195e9b9",
        "id": "kFnKudNGeLty"
      },
      "execution_count": 456,
      "outputs": [
        {
          "output_type": "display_data",
          "data": {
            "image/png": "[encoded data removed]",
            "text/plain": [
              "<Figure size 432x288 with 1 Axes>"
            ]
          },
          "metadata": {
            "needs_background": "light"
          }
        }
      ]
    },
    {
      "cell_type": "markdown",
      "source": [
        "Perform the fit of two 1-d gaussians to the data"
      ],
      "metadata": {
        "id": "89wIR4WC7rHU"
      }
    },
    {
      "cell_type": "code",
      "source": [
        "# params_0 are the initial guesses for the parameters, which would normally\n",
        "# be provided by the user\n",
        "# they are in the order [amp0, amp1, ..., ampN, center0, center1, ..., centerN,\n",
        "# fwhm0, fwhm1, ..., fwhmN]\n",
        "params_0 = [4.5, 2, 9, 5, 5, 7]\n",
        "\n",
        "# this line does the actual fit\n",
        "try:\n",
        "  popt, pcov = curve_fit(\n",
        "    lambda x, *params_0:\n",
        "      wrapper_fit_func(x, ngauss, params_0), x, y, p0=params_0\n",
        "    )\n",
        "except RuntimeError as e:\n",
        "  raise RuntimeError('Fit did not converge',e)\n",
        "# compute the estimated errors from the pcov diagonal\n",
        "perr = np.sqrt(np.diag(pcov))"
      ],
      "metadata": {
        "id": "QuqoxkTI7wTW"
      },
      "execution_count": 457,
      "outputs": []
    },
    {
      "cell_type": "markdown",
      "source": [
        "Summarize the fit"
      ],
      "metadata": {
        "id": "7P_y1Wb5rCks"
      }
    },
    {
      "cell_type": "code",
      "source": [
        "ndigits = 3\n",
        "popt = popt.round(ndigits)\n",
        "perr = perr.round(ndigits)\n",
        "amp_fit = popt[0:ngauss]\n",
        "center_fit = popt[ngauss:2*ngauss]\n",
        "fwhm_fit = popt[2*ngauss:3*ngauss]\n",
        "amp_err = perr[0:ngauss]\n",
        "center_err = perr[ngauss:2*ngauss]\n",
        "fwhm_err = perr[2*ngauss:3*ngauss]\n",
        "for i in range(ngauss):\n",
        "  print('Solution for gaussian {}:'.format(i))\n",
        "  print('  Amplitude:', amp_fit[i], '+/-', amp_err[i])\n",
        "  print('  Center:', center_fit[i], '+/-', center_err[i])\n",
        "  print('  FWHM:', fwhm_fit[i], '+/-', fwhm_err[i])\n",
        "  print()\n",
        "\n",
        "g1d_fit = []\n",
        "for i in range(ngauss):\n",
        "  g1d_fit.append(fn.gaussian1d(amp_fit[i], center_fit[i], fwhm_fit[i]))\n",
        "\n",
        "m = __model(x, g1d_fit)\n",
        "rms_fit, chi2_fit = __rms_chisquare(y, m, noise)\n",
        "print('rms of residuals of fit:', round(rms_fit, 3))\n",
        "print(\n",
        "    'Fit residuals have an rms that is {}% of the rms of the original residuals'\n",
        "      .format(round(100*rms_fit/rms_orig, 3))\n",
        "  )\n",
        "print()\n",
        "print('chi-square of fit:', round(chi2_fit, 3))\n",
        "\n",
        "print(\n",
        "  'Chi-square of fit is {}% chi-square of original'\n",
        "    .format(round(100*chi2_fit/chi2_orig, 3))\n",
        "  )"
      ],
      "metadata": {
        "colab": {
          "base_uri": "https://localhost:8080/"
        },
        "outputId": "dedab3b1-958c-4549-d4e9-f330e648345d",
        "id": "YwETNNjWq55r"
      },
      "execution_count": 458,
      "outputs": [
        {
          "output_type": "stream",
          "name": "stdout",
          "text": [
            "Solution for gaussian 0:\n",
            "  Amplitude: 4.943 +/- 0.146\n",
            "  Center: 9.914 +/- 0.077\n",
            "  FWHM: 3.942 +/- 0.156\n",
            "\n",
            "Solution for gaussian 1:\n",
            "  Amplitude: 3.029 +/- 0.096\n",
            "  Center: 4.005 +/- 0.165\n",
            "  FWHM: 6.139 +/- 0.447\n",
            "\n",
            "rms of residuals of fit: 0.131\n",
            "Fit residuals have an rms that is 82.41% of the rms of the original residuals\n",
            "\n",
            "chi-square of fit: 8.639\n",
            "Chi-square of fit is 67.914% chi-square of original\n"
          ]
        }
      ]
    },
    {
      "cell_type": "markdown",
      "source": [
        "Plot the data with the best fit model overlaid"
      ],
      "metadata": {
        "id": "aCGbH0sMhhYY"
      }
    },
    {
      "cell_type": "code",
      "source": [
        "model_smooth = __model(x_smooth, g1d)\n",
        "__plot(x, y, y-m, x_smooth, model_smooth, True)        "
      ],
      "metadata": {
        "colab": {
          "base_uri": "https://localhost:8080/",
          "height": 296
        },
        "outputId": "60db0368-3cb8-4454-bc30-6586471bb03b",
        "id": "Dt8fL1vufLD7"
      },
      "execution_count": 459,
      "outputs": [
        {
          "output_type": "display_data",
          "data": {
            "image/png": "[encoded data removed]",
            "text/plain": [
              "<Figure size 432x288 with 1 Axes>"
            ]
          },
          "metadata": {
            "needs_background": "light"
          }
        }
      ]
    },
    {
      "cell_type": "code",
      "source": [
        "# create a model with 4 gaussians\n",
        "# first, create an array of 4 1-d gaussian functionals\n",
        "g1d = [\n",
        "    fn.gaussian1d(amplitude=5, center=10, fwhm=4),\n",
        "    fn.gaussian1d(amplitude=3, center=4, fwhm=6),\n",
        "    fn.gaussian1d(amplitude=10, center=15, fwhm=6),\n",
        "    fn.gaussian1d(amplitude=7, center=20, fwhm=3)\n",
        "  ]\n",
        "\n",
        "npixels = 40\n",
        "\n",
        "# create some gaussian noise to add to the y values\n",
        "noise = 0.2\n",
        "r = np.random.normal(0, noise, npixels)\n",
        "\n",
        "ngauss = len(g1d)\n",
        "\n",
        "# populate the x and y arrays with data\n",
        "x = np.linspace(0, npixels, npixels, endpoint=False)\n",
        "m = __model(x, g1d)\n",
        "y = m + r"
      ],
      "metadata": {
        "id": "HA7SUf1Kkhbv"
      },
      "execution_count": 460,
      "outputs": []
    },
    {
      "cell_type": "code",
      "source": [
        "rms_orig, chi2_orig = __rms_chisquare(y, m, noise)\n",
        "print('rms of residuals:', round(rms_orig, 3))\n",
        "print('chi2:', round(chi2_orig, 3))"
      ],
      "metadata": {
        "colab": {
          "base_uri": "https://localhost:8080/"
        },
        "outputId": "336f3609-aa04-413a-bc28-29bc005515e8",
        "id": "l-pQqrztlAuu"
      },
      "execution_count": 461,
      "outputs": [
        {
          "output_type": "stream",
          "name": "stdout",
          "text": [
            "rms of residuals: 0.199\n",
            "chi2: 39.739\n"
          ]
        }
      ]
    },
    {
      "cell_type": "code",
      "source": [
        "x_smooth = np.linspace(0, npixels, 100)\n",
        "model_smooth = __model(x_smooth, g1d)\n",
        "__plot(x, y, r, x_smooth, model_smooth)"
      ],
      "metadata": {
        "colab": {
          "base_uri": "https://localhost:8080/",
          "height": 296
        },
        "outputId": "cee804c0-ddb4-428b-e724-db8fb4ef7f5f",
        "id": "F-sq1_eRlOna"
      },
      "execution_count": 462,
      "outputs": [
        {
          "output_type": "display_data",
          "data": {
            "image/png": "[encoded data removed]",
            "text/plain": [
              "<Figure size 432x288 with 1 Axes>"
            ]
          },
          "metadata": {
            "needs_background": "light"
          }
        }
      ]
    },
    {
      "cell_type": "code",
      "source": [
        "# params_0 are the initial guesses for the parameters, which would normally\n",
        "# be provided by the user\n",
        "# they are in the order [amp0, amp1, ..., ampN, center0, center1, ..., centerN,\n",
        "# fwhm0, fwhm1, ..., fwhmN]\n",
        "params_0 = [4.5, 2, 9, 8, 9, 5, 13, 22, 5, 7, 7, 4]\n",
        "\n",
        "# this line does the actual fit\n",
        "try:\n",
        "  popt, pcov = curve_fit(\n",
        "    lambda x, *params_0:\n",
        "      wrapper_fit_func(x, ngauss, params_0), x, y, p0=params_0\n",
        "    )\n",
        "except RuntimeError as e:\n",
        "  raise RuntimeError('Fit did not converge', e)\n",
        "# compute the estimated errors from the pcov diagonal\n",
        "perr = np.sqrt(np.diag(pcov))"
      ],
      "metadata": {
        "id": "xZP6mRs3lawI"
      },
      "execution_count": 463,
      "outputs": []
    },
    {
      "cell_type": "code",
      "source": [
        "ndigits = 3\n",
        "popt = popt.round(ndigits)\n",
        "perr = perr.round(ndigits)\n",
        "amp_fit = popt[0:ngauss]\n",
        "center_fit = popt[ngauss:2*ngauss]\n",
        "fwhm_fit = popt[2*ngauss:3*ngauss]\n",
        "amp_err = perr[0:ngauss]\n",
        "center_err = perr[ngauss:2*ngauss]\n",
        "fwhm_err = perr[2*ngauss:3*ngauss]\n",
        "for i in range(ngauss):\n",
        "  print(f'Solution for gaussian {i}:')\n",
        "  print(f'  Amplitude: {amp_fit[i]} +/- {amp_err[i]}')\n",
        "  print(f'  Center: {center_fit[i]} +/- {center_err[i]}')\n",
        "  print(f'  FWHM: {fwhm_fit[i]} +/- {fwhm_err[i]}')\n",
        "  print()\n",
        "\n",
        "g1d_fit = []\n",
        "for i in range(ngauss):\n",
        "  g1d_fit.append(fn.gaussian1d(amp_fit[i], center_fit[i], fwhm_fit[i]))\n",
        "\n",
        "m = __model(x, g1d_fit)\n",
        "rms_fit, chi2_fit = __rms_chisquare(y, m, noise)\n",
        "print('rms of residuals of fit:', round(rms_fit, 3))\n",
        "print(\n",
        "  'Fit residuals have an rms that is {}% of the rms of the original residuals'\n",
        "    .format(round(100*rms_fit/rms_orig, 3))\n",
        "  )\n",
        "print()\n",
        "print('chi-square of fit:', round(chi2_fit, 3))\n",
        "\n",
        "print(\n",
        "  'Chi-square of fit is {}% chi-square of original'\n",
        "    .format(round(100*chi2_fit/chi2_orig, 3))\n",
        "  )"
      ],
      "metadata": {
        "colab": {
          "base_uri": "https://localhost:8080/"
        },
        "outputId": "4969624c-51f9-454f-aef4-ea01e4524136",
        "id": "uF4_z3GAl1Ba"
      },
      "execution_count": 464,
      "outputs": [
        {
          "output_type": "stream",
          "name": "stdout",
          "text": [
            "Solution for gaussian 0:\n",
            "  Amplitude: 4.089 +/- 0.533\n",
            "  Center: 9.984 +/- 0.103\n",
            "  FWHM: 3.059 +/- 0.303\n",
            "\n",
            "Solution for gaussian 1:\n",
            "  Amplitude: 3.09 +/- 0.111\n",
            "  Center: 4.218 +/- 0.175\n",
            "  FWHM: 6.882 +/- 0.53\n",
            "\n",
            "Solution for gaussian 2:\n",
            "  Amplitude: 9.942 +/- 0.13\n",
            "  Center: 14.967 +/- 0.082\n",
            "  FWHM: 6.855 +/- 0.515\n",
            "\n",
            "Solution for gaussian 3:\n",
            "  Amplitude: 6.223 +/- 0.443\n",
            "  Center: 20.076 +/- 0.05\n",
            "  FWHM: 2.802 +/- 0.165\n",
            "\n",
            "rms of residuals of fit: 0.154\n",
            "Fit residuals have an rms that is 77.452% of the rms of the original residuals\n",
            "\n",
            "chi-square of fit: 23.839\n",
            "Chi-square of fit is 59.988% chi-square of original\n"
          ]
        }
      ]
    },
    {
      "cell_type": "code",
      "source": [
        "model_smooth = __model(x_smooth, g1d)\n",
        "__plot(x, y, y-m, x_smooth, model_smooth, True)        "
      ],
      "metadata": {
        "colab": {
          "base_uri": "https://localhost:8080/",
          "height": 296
        },
        "outputId": "4b45355d-bc82-45d9-e77d-a6eff55f4501",
        "id": "IGj6QDGel-28"
      },
      "execution_count": 465,
      "outputs": [
        {
          "output_type": "display_data",
          "data": {
            "image/png": "[encoded data removed]",
            "text/plain": [
              "<Figure size 432x288 with 1 Axes>"
            ]
          },
          "metadata": {
            "needs_background": "light"
          }
        }
      ]
    }
  ]
}