{
  "nbformat": 4,
  "nbformat_minor": 0,
  "metadata": {
    "colab": {
      "name": "fit-mulltiple-1d-gaussians.ipynb",
      "provenance": [],
      "collapsed_sections": [],
      "authorship_tag": "ABX9TyO76vHCvwAoe6I7uFYNi4Wp",
      "include_colab_link": true
    },
    "kernelspec": {
      "name": "python3",
      "display_name": "Python 3"
    },
    "language_info": {
      "name": "python"
    }
  },
  "cells": [
    {
      "cell_type": "markdown",
      "metadata": {
        "id": "view-in-github",
        "colab_type": "text"
      },
      "source": [
        "<a href=\"https://colab.research.google.com/github/casangi/cngi_prototype/blob/master/docs/fit_mulltiple_1d_gaussians.ipynb\" target=\"_parent\"><img src=\"https://colab.research.google.com/assets/colab-badge.svg\" alt=\"Open In Colab\"/></a>"
      ]
    },
    {
      "cell_type": "markdown",
      "source": [
        "This notebook provides an example of how to fit multiple 1-d gaussians simultaneously in python as may be done in spec_fit. Code based on discussion at https://stackoverflow.com/questions/34136737/using-scipy-curve-fit-for-a-variable-number-of-parameters\n",
        "\n",
        "Author: dmehring 12jan2022"
      ],
      "metadata": {
        "id": "y78J7YQWwAu-"
      }
    },
    {
      "cell_type": "markdown",
      "source": [
        "Install casatools"
      ],
      "metadata": {
        "id": "QB0Yp_EywrGv"
      }
    },
    {
      "cell_type": "code",
      "metadata": {
        "colab": {
          "base_uri": "https://localhost:8080/"
        },
        "id": "IIr5sp0VgR2m",
        "outputId": "b9a4cfe5-f761-4e2b-a939-a7ee77c2bacd"
      },
      "source": [
        "import os\n",
        "print(\"installing casatools (takes a minute)...\")\n",
        "os.system(\"apt-get install libgfortran3\")\n",
        "os.system(\"pip install casatools==6.3.0.48\")\n",
        "os.system('pip install casadata')\n",
        "print('complete')"
      ],
      "execution_count": 110,
      "outputs": [
        {
          "output_type": "stream",
          "name": "stdout",
          "text": [
            "installing casatools (takes a minute)...\n",
            "complete\n"
          ]
        }
      ]
    },
    {
      "cell_type": "markdown",
      "source": [
        "imports"
      ],
      "metadata": {
        "id": "WZYbuoIKwgfG"
      }
    },
    {
      "cell_type": "code",
      "execution_count": 111,
      "metadata": {
        "id": "KphW8Dpxv8ME"
      },
      "outputs": [],
      "source": [
        "from casatools import functional\n",
        "import numpy as np\n",
        "from scipy.optimize import curve_fit\n",
        "from matplotlib import pyplot as plt"
      ]
    },
    {
      "cell_type": "markdown",
      "source": [
        "Define functions to determine rms and compute model values"
      ],
      "metadata": {
        "id": "F5583WucXDi0"
      }
    },
    {
      "cell_type": "code",
      "source": [
        "def __rms(y):\n",
        "  z = np.array(y) if type(y) == list else y\n",
        "  return np.sqrt(np.sum(z*z)/len(z))\n",
        "\n",
        "def __model(x, g1d):\n",
        "  m = np.zeros(len(x))\n",
        "  for g in g1d:\n",
        "    m += g.f(x)\n",
        "  return m"
      ],
      "metadata": {
        "id": "XDnhnxokXGBG"
      },
      "execution_count": 112,
      "outputs": []
    },
    {
      "cell_type": "markdown",
      "source": [
        "Define function to plot data"
      ],
      "metadata": {
        "id": "D5oUYD7JUCz8"
      }
    },
    {
      "cell_type": "code",
      "source": [
        "# plot the data\n",
        "def __plot(x, y, gaussians, fit=False):\n",
        "  plt.plot(x, y, linestyle='', marker='o', markerfacecolor='red')\n",
        "  residual = []\n",
        "  for i in range(len(x)):\n",
        "    res = y[i]\n",
        "    for g in gaussians:\n",
        "      res -= g.f(i)\n",
        "    residual.append(res)\n",
        "  plt.plot(x, residual, linestyle='', marker='x', markerfacecolor='#50C878')\n",
        "  plt.xlabel('V_LSR (km/s)')\n",
        "  plt.ylabel('Intensity (Jy/beam')\n",
        "  x_model = []\n",
        "  model = []\n",
        "  for i in np.linspace(np.min(x), np.max(x), 100):\n",
        "    x_model.append(i)\n",
        "    res = 0\n",
        "    for g in gaussians:\n",
        "      res += g.f(i)\n",
        "    model.append(res)\n",
        "  plt.plot(x_model, model, color='blue')\n",
        "\n",
        "  if fit:\n",
        "    plt.title('Model Spectrum with Fit')\n",
        "  else:\n",
        "    plt.title('Model Spectrum')\n",
        "  plt.show()\n"
      ],
      "metadata": {
        "id": "_bI10uqwT_0N"
      },
      "execution_count": 113,
      "outputs": []
    },
    {
      "cell_type": "markdown",
      "source": [
        "Define chi square for curve fitting"
      ],
      "metadata": {
        "id": "HExQXJvod1fx"
      }
    },
    {
      "cell_type": "code",
      "source": [
        "def __chi_square(y, model, sigma):\n",
        "  residual_sigma = (model - y)/sigma\n",
        "  return np.sum(residual_sigma*residual_sigma)"
      ],
      "metadata": {
        "id": "uBHs1J67d6n-"
      },
      "execution_count": 114,
      "outputs": []
    },
    {
      "cell_type": "markdown",
      "source": [
        "Define wrapper function that is used to fit multiple gaussians\n",
        "N = number of gaussians to fit"
      ],
      "metadata": {
        "id": "M7xddKYC0ULm"
      }
    },
    {
      "cell_type": "code",
      "source": [
        "def wrapper_fit_func(x, N, *args):\n",
        "  amp, center, fwhm = list(args[0][:N]), list(args[0][N:2*N]), list(args[0][2*N:3*N])\n",
        "  g1d = []\n",
        "  for i in range(N):\n",
        "    g1d.append(fn.gaussian1d(amp[i], center[i], fwhm[i]))\n",
        "  return __model(x, g1d)"
      ],
      "metadata": {
        "id": "E_o-UV890ZtP"
      },
      "execution_count": 115,
      "outputs": []
    },
    {
      "cell_type": "markdown",
      "source": [
        "Demonstrate how the fitting is done. Create some data and fit it."
      ],
      "metadata": {
        "id": "YzAbz2ap1dMX"
      }
    },
    {
      "cell_type": "code",
      "source": [
        "# create a model with 2 gaussians\n",
        "# first, create an array of 2 1-d gaussian functionals\n",
        "fn = functional()\n",
        "g1d = [\n",
        "    fn.gaussian1d(amplitude=5, center=10, fwhm=4),\n",
        "    fn.gaussian1d(amplitude=3, center=4, fwhm=6)\n",
        "  ]\n",
        "\n",
        "npixels = 20\n",
        "\n",
        "# create some gaussian noise to add to the y values\n",
        "noise = 0.2\n",
        "r = np.random.normal(0, noise, npixels)\n",
        "\n",
        "ngauss = len(g1d)\n",
        "\n",
        "# populate the x and y arrays with data\n",
        "x = list(range(npixels))\n",
        "m = __model(x, g1d)\n",
        "y = m + r"
      ],
      "metadata": {
        "id": "iiDu7vvQ1kcL"
      },
      "execution_count": 116,
      "outputs": []
    },
    {
      "cell_type": "markdown",
      "source": [
        "Compute and report the rms of the residuals"
      ],
      "metadata": {
        "id": "3RRCAFd8crGi"
      }
    },
    {
      "cell_type": "code",
      "source": [
        "rms_orig = __rms(y - m)\n",
        "print('rms of residuals:', round(rms_orig, 3))\n",
        "chi2_orig = __chi_square(y, m, noise)\n",
        "print('chi2:', round(chi2_orig, 3))"
      ],
      "metadata": {
        "colab": {
          "base_uri": "https://localhost:8080/"
        },
        "outputId": "48e1bbbe-7dfe-47d3-bade-52a13124e455",
        "id": "gfweg36Rd4wN"
      },
      "execution_count": 117,
      "outputs": [
        {
          "output_type": "stream",
          "name": "stdout",
          "text": [
            "rms of residuals: 0.201\n",
            "chi2: 20.132\n"
          ]
        }
      ]
    },
    {
      "cell_type": "markdown",
      "source": [
        "Plot the data with the model overlaid"
      ],
      "metadata": {
        "id": "KqWW0ildeSeA"
      }
    },
    {
      "cell_type": "code",
      "source": [
        "__plot(x, y, g1d)"
      ],
      "metadata": {
        "colab": {
          "base_uri": "https://localhost:8080/",
          "height": 296
        },
        "outputId": "87bc84e0-285b-4542-f42a-f219e55b29f4",
        "id": "kFnKudNGeLty"
      },
      "execution_count": 118,
      "outputs": [
        {
          "output_type": "display_data",
          "data": {
            "image/png": "[encoded data removed]",
            "text/plain": [
              "<Figure size 432x288 with 1 Axes>"
            ]
          },
          "metadata": {
            "needs_background": "light"
          }
        }
      ]
    },
    {
      "cell_type": "markdown",
      "source": [
        "Perform the fit of two 1-d gaussians to the data"
      ],
      "metadata": {
        "id": "89wIR4WC7rHU"
      }
    },
    {
      "cell_type": "code",
      "source": [
        "# params_0 are the initial guesses for the parameters, which would normally\n",
        "# be provided by the user\n",
        "# they are in the order [amp0, amp1, ..., ampN, center0, center1, ..., centerN,\n",
        "# fwhm0, fwhm1, ..., fwhmN]\n",
        "params_0 = [4.5, 2, 9, 5, 5, 7]\n",
        "\n",
        "# this line does the actual fit\n",
        "try:\n",
        "    popt, pcov = curve_fit(\n",
        "      lambda x, *params_0:\n",
        "        wrapper_fit_func(x, ngauss, params_0), x, y, p0=params_0\n",
        "      )\n",
        "except RuntimeError as e:\n",
        "  raise RuntimeError('Fit did not converge',e)\n",
        "# compute the estimated errors from the pcov diagonal\n",
        "perr = np.sqrt(np.diag(pcov))"
      ],
      "metadata": {
        "id": "QuqoxkTI7wTW"
      },
      "execution_count": 119,
      "outputs": []
    },
    {
      "cell_type": "markdown",
      "source": [
        "Summarize the fit"
      ],
      "metadata": {
        "id": "7P_y1Wb5rCks"
      }
    },
    {
      "cell_type": "code",
      "source": [
        "ndigits = 3\n",
        "popt = popt.round(ndigits)\n",
        "perr = perr.round(ndigits)\n",
        "amp_fit = popt[0:ngauss]\n",
        "center_fit = popt[ngauss:2*ngauss]\n",
        "fwhm_fit = popt[2*ngauss:3*ngauss]\n",
        "amp_err = perr[0:ngauss]\n",
        "center_err = perr[ngauss:2*ngauss]\n",
        "fwhm_err = perr[2*ngauss:3*ngauss]\n",
        "for i in range(ngauss):\n",
        "  print('Solution for gaussian {}:'.format(i))\n",
        "  print('  Amplitude:', amp_fit[i], '+/-', amp_err[i])\n",
        "  print('  Center:', center_fit[i], '+/-', center_err[i])\n",
        "  print('  FWHM:', fwhm_fit[i], '+/-', fwhm_err[i])\n",
        "  print()\n",
        "\n",
        "g1d_fit = []\n",
        "for i in range(ngauss):\n",
        "  g1d_fit.append(fn.gaussian1d(amp_fit[i], center_fit[i], fwhm_fit[i]))\n",
        "\n",
        "rms_fit = __rms(y - __model(x, g1d_fit))\n",
        "print('rms of residuals of fit:', round(rms_fit, 3))\n",
        "print(\n",
        "    'Fit residuals have an rms that is {}% of the rms of the original residuals'\n",
        "      .format(round(100*rms_fit/rms_orig, 3))\n",
        "  )\n",
        "print()\n",
        "m = __model(x, g1d_fit)\n",
        "chi2_fit = __chi_square(y, m, noise)\n",
        "print('chi-square of fit:', round(chi2_fit, 3))\n",
        "\n",
        "print(\n",
        "  'Chi-square of fit is {}% chi-square of original'\n",
        "    .format(round(100*chi2_fit/chi2_orig, 3))\n",
        "  )"
      ],
      "metadata": {
        "colab": {
          "base_uri": "https://localhost:8080/"
        },
        "outputId": "d52dd69c-9571-41bc-b32d-80493aa0f9d7",
        "id": "YwETNNjWq55r"
      },
      "execution_count": 120,
      "outputs": [
        {
          "output_type": "stream",
          "name": "stdout",
          "text": [
            "Solution for gaussian 0:\n",
            "  Amplitude: 4.897 +/- 0.171\n",
            "  Center: 9.966 +/- 0.1\n",
            "  FWHM: 4.037 +/- 0.208\n",
            "\n",
            "Solution for gaussian 1:\n",
            "  Amplitude: 2.893 +/- 0.131\n",
            "  Center: 3.804 +/- 0.205\n",
            "  FWHM: 5.998 +/- 0.583\n",
            "\n",
            "rms of residuals of fit: 0.177\n",
            "Fit residuals have an rms that is 88.247% of the rms of the original residuals\n",
            "\n",
            "chi-square of fit: 15.678\n",
            "Chi-square of fit is 77.875% chi-square of original\n"
          ]
        }
      ]
    },
    {
      "cell_type": "markdown",
      "source": [
        "Plot the data with the best fit model overlaid"
      ],
      "metadata": {
        "id": "aCGbH0sMhhYY"
      }
    },
    {
      "cell_type": "code",
      "source": [
        "__plot(x, y, g1d_fit, True)        "
      ],
      "metadata": {
        "colab": {
          "base_uri": "https://localhost:8080/",
          "height": 296
        },
        "outputId": "b817415a-f607-402d-a8bd-df00a711792a",
        "id": "Dt8fL1vufLD7"
      },
      "execution_count": 121,
      "outputs": [
        {
          "output_type": "display_data",
          "data": {
            "image/png": "[encoded data removed]",
            "text/plain": [
              "<Figure size 432x288 with 1 Axes>"
            ]
          },
          "metadata": {
            "needs_background": "light"
          }
        }
      ]
    },
    {
      "cell_type": "code",
      "source": [
        "# create a model with 4 gaussians\n",
        "# first, create an array of 4 1-d gaussian functionals\n",
        "g1d = [\n",
        "    fn.gaussian1d(amplitude=5, center=10, fwhm=4),\n",
        "    fn.gaussian1d(amplitude=3, center=4, fwhm=6),\n",
        "    fn.gaussian1d(amplitude=10, center=15, fwhm=6),\n",
        "    fn.gaussian1d(amplitude=7, center=20, fwhm=3)\n",
        "  ]\n",
        "\n",
        "npixels = 40\n",
        "\n",
        "# create some gaussian noise to add to the y values\n",
        "noise = 0.2\n",
        "r = np.random.normal(0, noise, npixels)\n",
        "\n",
        "ngauss = len(g1d)\n",
        "\n",
        "# populate the x and y arrays with data\n",
        "x = list(range(npixels))\n",
        "m = __model(x, g1d)\n",
        "y = m + r"
      ],
      "metadata": {
        "id": "HA7SUf1Kkhbv"
      },
      "execution_count": 122,
      "outputs": []
    },
    {
      "cell_type": "code",
      "source": [
        "rms_orig = __rms(y - m)\n",
        "print('rms of residuals:', round(rms_orig, 3))\n",
        "chi2_orig = __chi_square(y, m, noise)\n",
        "print('chi2:', round(chi2_orig, 3))"
      ],
      "metadata": {
        "colab": {
          "base_uri": "https://localhost:8080/"
        },
        "outputId": "57d13c0f-21be-4bfd-b36e-f162befd270e",
        "id": "l-pQqrztlAuu"
      },
      "execution_count": 123,
      "outputs": [
        {
          "output_type": "stream",
          "name": "stdout",
          "text": [
            "rms of residuals: 0.224\n",
            "chi2: 50.24\n"
          ]
        }
      ]
    },
    {
      "cell_type": "code",
      "source": [
        "__plot(x, y, g1d)"
      ],
      "metadata": {
        "colab": {
          "base_uri": "https://localhost:8080/",
          "height": 296
        },
        "outputId": "3a179f4a-a3fe-4281-9846-18d799aa45d5",
        "id": "F-sq1_eRlOna"
      },
      "execution_count": 124,
      "outputs": [
        {
          "output_type": "display_data",
          "data": {
            "image/png": "[encoded data removed]",
            "text/plain": [
              "<Figure size 432x288 with 1 Axes>"
            ]
          },
          "metadata": {
            "needs_background": "light"
          }
        }
      ]
    },
    {
      "cell_type": "code",
      "source": [
        "# params_0 are the initial guesses for the parameters, which would normally\n",
        "# be provided by the user\n",
        "# they are in the order [amp0, amp1, ..., ampN, center0, center1, ..., centerN,\n",
        "# fwhm0, fwhm1, ..., fwhmN]\n",
        "params_0 = [4.5, 2, 9, 8, 9, 5, 13, 22, 5, 7, 7, 4]\n",
        "\n",
        "# this line does the actual fit\n",
        "try:\n",
        "  popt, pcov = curve_fit(\n",
        "    lambda x, *params_0:\n",
        "      wrapper_fit_func(x, ngauss, params_0), x, y, p0=params_0\n",
        "    )\n",
        "except RuntimeError as e:\n",
        "  raise RuntimeError('Fit did not converge', e)\n",
        "# compute the estimated errors from the pcov diagonal\n",
        "perr = np.sqrt(np.diag(pcov))"
      ],
      "metadata": {
        "id": "xZP6mRs3lawI"
      },
      "execution_count": 125,
      "outputs": []
    },
    {
      "cell_type": "code",
      "source": [
        "ndigits = 3\n",
        "popt = popt.round(ndigits)\n",
        "perr = perr.round(ndigits)\n",
        "amp_fit = popt[0:ngauss]\n",
        "center_fit = popt[ngauss:2*ngauss]\n",
        "fwhm_fit = popt[2*ngauss:3*ngauss]\n",
        "amp_err = perr[0:ngauss]\n",
        "center_err = perr[ngauss:2*ngauss]\n",
        "fwhm_err = perr[2*ngauss:3*ngauss]\n",
        "for i in range(ngauss):\n",
        "  print('Solution for gaussian {}:'.format(i))\n",
        "  print('  Amplitude:', amp_fit[i], '+/-', amp_err[i])\n",
        "  print('  Center:', center_fit[i], '+/-', center_err[i])\n",
        "  print('  FWHM:', fwhm_fit[i], '+/-', fwhm_err[i])\n",
        "  print()\n",
        "\n",
        "g1d_fit = []\n",
        "for i in range(ngauss):\n",
        "  g1d_fit.append(fn.gaussian1d(amp_fit[i], center_fit[i], fwhm_fit[i]))\n",
        "\n",
        "rms_fit = __rms(y - __model(x, g1d_fit))\n",
        "print('rms of residuals of fit:', round(rms_fit, 3))\n",
        "print(\n",
        "  'Fit residuals have an rms that is {}% of the rms of the original residuals'\n",
        "    .format(round(100*rms_fit/rms_orig, 3))\n",
        "  )\n",
        "print()\n",
        "m = __model(x, g1d_fit)\n",
        "chi2_fit = __chi_square(y, m, noise)\n",
        "print('chi-square of fit:', round(chi2_fit, 3))\n",
        "\n",
        "print(\n",
        "  'Chi-square of fit is {}% chi-square of original'\n",
        "    .format(round(100*chi2_fit/chi2_orig, 3))\n",
        "  )"
      ],
      "metadata": {
        "colab": {
          "base_uri": "https://localhost:8080/"
        },
        "outputId": "78d45311-a456-44a5-8e2e-65923771bf6d",
        "id": "uF4_z3GAl1Ba"
      },
      "execution_count": 126,
      "outputs": [
        {
          "output_type": "stream",
          "name": "stdout",
          "text": [
            "Solution for gaussian 0:\n",
            "  Amplitude: 5.784 +/- 0.991\n",
            "  Center: 10.283 +/- 0.506\n",
            "  FWHM: 4.886 +/- 0.865\n",
            "\n",
            "Solution for gaussian 1:\n",
            "  Amplitude: 3.011 +/- 0.134\n",
            "  Center: 3.543 +/- 0.259\n",
            "  FWHM: 5.585 +/- 0.629\n",
            "\n",
            "Solution for gaussian 2:\n",
            "  Amplitude: 9.947 +/- 0.552\n",
            "  Center: 15.219 +/- 0.293\n",
            "  FWHM: 5.348 +/- 0.812\n",
            "\n",
            "Solution for gaussian 3:\n",
            "  Amplitude: 7.05 +/- 0.555\n",
            "  Center: 19.93 +/- 0.092\n",
            "  FWHM: 3.031 +/- 0.168\n",
            "\n",
            "rms of residuals of fit: 0.174\n",
            "Fit residuals have an rms that is 77.838% of the rms of the original residuals\n",
            "\n",
            "chi-square of fit: 30.439\n",
            "Chi-square of fit is 60.588% chi-square of original\n"
          ]
        }
      ]
    },
    {
      "cell_type": "code",
      "source": [
        "__plot(x, y, g1d_fit, True)        "
      ],
      "metadata": {
        "colab": {
          "base_uri": "https://localhost:8080/",
          "height": 296
        },
        "outputId": "270beb70-831f-49c6-e829-bb62db43f8dd",
        "id": "IGj6QDGel-28"
      },
      "execution_count": 127,
      "outputs": [
        {
          "output_type": "display_data",
          "data": {
            "image/png": "[encoded data removed]",
            "text/plain": [
              "<Figure size 432x288 with 1 Axes>"
            ]
          },
          "metadata": {
            "needs_background": "light"
          }
        }
      ]
    }
  ]
}