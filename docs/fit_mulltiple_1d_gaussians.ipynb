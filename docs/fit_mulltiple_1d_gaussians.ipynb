{
  "nbformat": 4,
  "nbformat_minor": 0,
  "metadata": {
    "colab": {
      "name": "fit-mulltiple-1d-gaussians.ipynb",
      "provenance": [],
      "collapsed_sections": [],
      "include_colab_link": true
    },
    "kernelspec": {
      "name": "python3",
      "display_name": "Python 3"
    },
    "language_info": {
      "name": "python"
    }
  },
  "cells": [
    {
      "cell_type": "markdown",
      "metadata": {
        "id": "view-in-github",
        "colab_type": "text"
      },
      "source": [
        "<a href=\"https://colab.research.google.com/github/casangi/cngi_prototype/blob/master/docs/fit_mulltiple_1d_gaussians.ipynb\" target=\"_parent\"><img src=\"https://colab.research.google.com/assets/colab-badge.svg\" alt=\"Open In Colab\"/></a>"
      ]
    },
    {
      "cell_type": "markdown",
      "source": [
        "This notebook provides an example of how to fit multiple 1-d gaussians simultaneously in python as may be done in spec_fit. Code based on discussion at https://stackoverflow.com/questions/34136737/using-scipy-curve-fit-for-a-variable-number-of-parameters\n",
        "\n",
        "Author: dmehring 12jan2022"
      ],
      "metadata": {
        "id": "y78J7YQWwAu-"
      }
    },
    {
      "cell_type": "markdown",
      "source": [
        "Install casatools"
      ],
      "metadata": {
        "id": "QB0Yp_EywrGv"
      }
    },
    {
      "cell_type": "code",
      "metadata": {
        "colab": {
          "base_uri": "https://localhost:8080/"
        },
        "id": "IIr5sp0VgR2m",
        "outputId": "4b4d73a5-86a2-42e4-a2b6-cabdeff27c6c"
      },
      "source": [
        "import os\n",
        "print(\"installing casatools (takes a minute)...\")\n",
        "os.system(\"apt-get install libgfortran3\")\n",
        "os.system(\"pip install casatools==6.3.0.48\")\n",
        "os.system('pip install casadata')\n",
        "print('complete')"
      ],
      "execution_count": 446,
      "outputs": [
        {
          "output_type": "stream",
          "name": "stdout",
          "text": [
            "installing casatools (takes a minute)...\n",
            "complete\n"
          ]
        }
      ]
    },
    {
      "cell_type": "markdown",
      "source": [
        "imports"
      ],
      "metadata": {
        "id": "WZYbuoIKwgfG"
      }
    },
    {
      "cell_type": "code",
      "execution_count": 447,
      "metadata": {
        "id": "KphW8Dpxv8ME"
      },
      "outputs": [],
      "source": [
        "from casatools import functional\n",
        "import numpy as np\n",
        "from scipy.optimize import curve_fit\n",
        "from matplotlib import pyplot as plt"
      ]
    },
    {
      "cell_type": "markdown",
      "source": [
        "Define functions to determine rms and compute model values"
      ],
      "metadata": {
        "id": "F5583WucXDi0"
      }
    },
    {
      "cell_type": "code",
      "source": [
        "def __rms(y: np.array) -> float:\n",
        "  return np.sqrt(np.sum(y*y)/len(y))\n",
        "\n",
        "def __model(x: np.array, g1d: list) -> np.array:\n",
        "  m = np.zeros(len(x))\n",
        "  for g in g1d:\n",
        "    m += g.f(x)\n",
        "  return m"
      ],
      "metadata": {
        "id": "XDnhnxokXGBG"
      },
      "execution_count": 448,
      "outputs": []
    },
    {
      "cell_type": "markdown",
      "source": [
        "Define chi square for curve fitting"
      ],
      "metadata": {
        "id": "HExQXJvod1fx"
      }
    },
    {
      "cell_type": "code",
      "source": [
        "def __chi_square(y: np.array, model: np.array, sigma: float) -> float:\n",
        "  residual_sigma = (model - y)/sigma\n",
        "  return np.sum(residual_sigma*residual_sigma)"
      ],
      "metadata": {
        "id": "uBHs1J67d6n-"
      },
      "execution_count": 449,
      "outputs": []
    },
    {
      "cell_type": "markdown",
      "source": [
        "Compute and return rms and chi-square"
      ],
      "metadata": {
        "id": "LoYrYKISxhD-"
      }
    },
    {
      "cell_type": "code",
      "source": [
        "def __rms_chisquare(y: np.array, model: np.array, sigma: float) -> tuple:\n",
        "  return __rms(y - model), __chi_square(y, model, sigma)"
      ],
      "metadata": {
        "id": "Vg2IYZsMxmyZ"
      },
      "execution_count": 450,
      "outputs": []
    },
    {
      "cell_type": "markdown",
      "source": [
        "Define function to plot data"
      ],
      "metadata": {
        "id": "D5oUYD7JUCz8"
      }
    },
    {
      "cell_type": "code",
      "source": [
        "# plot the data\n",
        "def __plot(\n",
        "    x: np.array, y: np.array, residual: np.array, x_smooth: np.array,\n",
        "    model_smooth: np.array, fit: bool=False\n",
        "  ) -> None:\n",
        "  plt.plot(x, y, linestyle='', marker='o', markerfacecolor='red')\n",
        "  plt.plot(x, residual, linestyle='', marker='x', markerfacecolor='#50C878')\n",
        "  plt.plot(x_smooth, model_smooth, color='blue')\n",
        "  plt.xlabel('V_LSR (km/s)')\n",
        "  plt.ylabel('Intensity (Jy/beam')\n",
        "  if fit:\n",
        "    plt.title('Model Spectrum with Fit')\n",
        "  else:\n",
        "    plt.title('Model Spectrum')\n",
        "  plt.show()\n"
      ],
      "metadata": {
        "id": "_bI10uqwT_0N"
      },
      "execution_count": 451,
      "outputs": []
    },
    {
      "cell_type": "markdown",
      "source": [
        "Create model."
      ],
      "metadata": {
        "id": "YzAbz2ap1dMX"
      }
    },
    {
      "cell_type": "code",
      "source": [
        "def __create_model(amplitude: list, center: list, fwhm: list) -> tuple:\n",
        "  fn = functional()\n",
        "  g1d: functional = []\n",
        "  for a, c, f in zip(amplitude, center, fwhm):\n",
        "    g1d.append(fn.gaussian1d(a, c, f))\n",
        "  return g1d, len(g1d)"
      ],
      "metadata": {
        "id": "fjhTvNA69pty"
      },
      "execution_count": 452,
      "outputs": []
    },
    {
      "cell_type": "markdown",
      "source": [
        "Define wrapper function that is used to fit multiple gaussians\n",
        "N = number of gaussians to fit"
      ],
      "metadata": {
        "id": "M7xddKYC0ULm"
      }
    },
    {
      "cell_type": "code",
      "source": [
        "def wrapper_fit_func(x, N, *args):\n",
        "  amp, center, fwhm = args[:N], args[N:2*N], args[2*N:3*N]\n",
        "  g1d = []\n",
        "  for a, c, f in zip(amp, center, fwhm):\n",
        "    g1d.append(fn.gaussian1d(a, c, f))\n",
        "  return __model(x, g1d)"
      ],
      "metadata": {
        "id": "E_o-UV890ZtP"
      },
      "execution_count": 453,
      "outputs": []
    },
    {
      "cell_type": "markdown",
      "source": [
        "Create data"
      ],
      "metadata": {
        "id": "91i1-0fFBRvY"
      }
    },
    {
      "cell_type": "code",
      "source": [
        "def __create_data(npixels: int, noise: float, model: list) -> tuple:\n",
        "  residual = np.random.normal(0, noise, npixels)\n",
        "  x = np.linspace(0, npixels, npixels, endpoint=False)\n",
        "  m = __model(x, model)\n",
        "  y = m + residual\n",
        "  x_smooth = np.linspace(0, npixels, 100)\n",
        "  model_smooth = __model(x_smooth, model)\n",
        "  return x, y, m, residual, x_smooth, model_smooth"
      ],
      "metadata": {
        "id": "6XgHyVB2BWFZ"
      },
      "execution_count": 454,
      "outputs": []
    },
    {
      "cell_type": "markdown",
      "source": [
        "This function does the fit"
      ],
      "metadata": {
        "id": "8CcF_4uRFeBW"
      }
    },
    {
      "cell_type": "code",
      "source": [
        "def __fit(x: np.array, y: np.array, ngauss: int, params_0: list) -> list:\n",
        "  try:\n",
        "    popt, pcov = curve_fit(\n",
        "        lambda x, *params_0:\n",
        "          wrapper_fit_func(x, ngauss, *params_0), x, y, p0=params_0\n",
        "      )\n",
        "    perr: np.array = np.sqrt(np.diag(pcov))\n",
        "    return popt, perr\n",
        "  except RuntimeError as e:\n",
        "    raise RuntimeError(f'Fit did not converge {e}')"
      ],
      "metadata": {
        "id": "Uh0qwf7SFihS"
      },
      "execution_count": 455,
      "outputs": []
    },
    {
      "cell_type": "markdown",
      "source": [
        "Function to report the fit"
      ],
      "metadata": {
        "id": "n88HRWDxWp-4"
      }
    },
    {
      "cell_type": "code",
      "source": [
        "def __report(\n",
        "    popt: np.array, perr: np.array, y: np.array, noise: float, rms_orig: float,\n",
        "    chi2_orig: float, ndigits: int\n",
        "  ) -> np.array:\n",
        "  popt = popt.round(ndigits)\n",
        "  perr = perr.round(ndigits)\n",
        "  amp_fit = popt[0:ngauss]\n",
        "  center_fit = popt[ngauss:2*ngauss]\n",
        "  fwhm_fit = popt[2*ngauss:3*ngauss]\n",
        "  amp_err = perr[0:ngauss]\n",
        "  center_err = perr[ngauss:2*ngauss]\n",
        "  fwhm_err = perr[2*ngauss:3*ngauss]\n",
        "  g1d_fit: list = []\n",
        "  for i, (af, cf, ff, ae, ce, fe) in enumerate(\n",
        "    zip(amp_fit, center_fit, fwhm_fit, amp_err, center_err, fwhm_err)\n",
        "  ):\n",
        "    print(f'Solution for gaussian {i}:')\n",
        "    print(f'  Amplitude: {af} +/- {ae}')\n",
        "    print(f'  Center: {cf} +/- {ce}')\n",
        "    print(f'  FWHM: {ff} +/- {fe}')\n",
        "    print()\n",
        "    g1d_fit.append(fn.gaussian1d(af, cf, ff))\n",
        "  model = __model(x, g1d_fit)\n",
        "  rms_fit, chi2_fit = __rms_chisquare(y, model, noise)\n",
        "  print(f'rms of residuals of fit: {round(rms_fit, 3)}')\n",
        "  print(\n",
        "    f'Fit residuals have an rms that is {round(100*rms_fit/rms_orig, 3)}% ',\n",
        "    'of the rms of the original residuals'\n",
        "  )\n",
        "  print()\n",
        "  print(f'chi-square of fit: {round(chi2_fit, 3)}')\n",
        "\n",
        "  print(\n",
        "    f'Chi-square of fit is {round(100*chi2_fit/chi2_orig, 3)}% '\n",
        "    'chi-square of original'\n",
        "  )\n",
        "  return model"
      ],
      "metadata": {
        "id": "YwETNNjWq55r"
      },
      "execution_count": 456,
      "outputs": []
    },
    {
      "cell_type": "markdown",
      "source": [
        "# TWO GAUSSIANS"
      ],
      "metadata": {
        "id": "zhf17csnac26"
      }
    },
    {
      "cell_type": "code",
      "source": [
        "# create a model with 2 gaussians\n",
        "# first, create an array of 2 1-d gaussian functionals\n",
        "g1d, ngauss = __create_model(amplitude=[5, 3], center=[10, 4], fwhm=[4, 6])\n",
        "# now create some data with noise\n",
        "x,  y, model, residual, x_smooth, model_smooth = __create_data(20, 0.2, g1d)"
      ],
      "metadata": {
        "id": "iiDu7vvQ1kcL"
      },
      "execution_count": 457,
      "outputs": []
    },
    {
      "cell_type": "markdown",
      "source": [
        "Compute and report the rms of the residuals"
      ],
      "metadata": {
        "id": "3RRCAFd8crGi"
      }
    },
    {
      "cell_type": "code",
      "source": [
        "rms_orig, chi2_orig = __rms_chisquare(y, model, noise)\n",
        "print(f'rms of residuals: {round(rms_orig, 3)}')\n",
        "print(f'chi2: {round(chi2_orig, 3)}')"
      ],
      "metadata": {
        "colab": {
          "base_uri": "https://localhost:8080/"
        },
        "outputId": "e0c7046a-c0b3-46a4-d6a8-aa2c7ec9d990",
        "id": "gfweg36Rd4wN"
      },
      "execution_count": 458,
      "outputs": [
        {
          "output_type": "stream",
          "name": "stdout",
          "text": [
            "rms of residuals: 0.148\n",
            "chi2: 10.953\n"
          ]
        }
      ]
    },
    {
      "cell_type": "markdown",
      "source": [
        "Plot the data with the model overlaid"
      ],
      "metadata": {
        "id": "KqWW0ildeSeA"
      }
    },
    {
      "cell_type": "code",
      "source": [
        "__plot(x, y, residual, x_smooth, model_smooth)"
      ],
      "metadata": {
        "colab": {
          "base_uri": "https://localhost:8080/",
          "height": 296
        },
        "outputId": "d29ca597-8ebc-47af-8b2f-4bef34fd0c9d",
        "id": "kFnKudNGeLty"
      },
      "execution_count": 459,
      "outputs": [
        {
          "output_type": "display_data",
          "data": {
            "image/png": "[encoded data removed]",
            "text/plain": [
              "<Figure size 432x288 with 1 Axes>"
            ]
          },
          "metadata": {
            "needs_background": "light"
          }
        }
      ]
    },
    {
      "cell_type": "markdown",
      "source": [
        "Perform the fit of two 1-d gaussians to the data"
      ],
      "metadata": {
        "id": "89wIR4WC7rHU"
      }
    },
    {
      "cell_type": "code",
      "source": [
        "# params_0 are the initial guesses for the parameters, which would normally\n",
        "# be provided by the user\n",
        "# they are in the order [amp0, amp1, ..., ampN, center0, center1, ..., centerN,\n",
        "# fwhm0, fwhm1, ..., fwhmN]\n",
        "params_0 = [4.5, 2, 9, 5, 5, 7]\n",
        "popt, perr = __fit(x, y, ngauss, params_0)"
      ],
      "metadata": {
        "id": "QuqoxkTI7wTW"
      },
      "execution_count": 460,
      "outputs": []
    },
    {
      "cell_type": "markdown",
      "source": [
        "Summarize the fit"
      ],
      "metadata": {
        "id": "7P_y1Wb5rCks"
      }
    },
    {
      "cell_type": "code",
      "source": [
        "model = __report(popt, perr, y, noise, rms_orig, chi2_orig, 3)"
      ],
      "metadata": {
        "id": "WX7S7f2_WSxi",
        "outputId": "cf7a1d3b-fb97-4d79-9d23-5218a4f03c33",
        "colab": {
          "base_uri": "https://localhost:8080/"
        }
      },
      "execution_count": 461,
      "outputs": [
        {
          "output_type": "stream",
          "name": "stdout",
          "text": [
            "Solution for gaussian 0:\n",
            "  Amplitude: 5.087 +/- 0.121\n",
            "  Center: 10.032 +/- 0.071\n",
            "  FWHM: 4.081 +/- 0.149\n",
            "\n",
            "Solution for gaussian 1:\n",
            "  Amplitude: 2.971 +/- 0.097\n",
            "  Center: 3.972 +/- 0.145\n",
            "  FWHM: 5.743 +/- 0.387\n",
            "\n",
            "rms of residuals of fit: 0.13\n",
            "Fit residuals have an rms that is 87.722%  of the rms of the original residuals\n",
            "\n",
            "chi-square of fit: 8.429\n",
            "Chi-square of fit is 76.951% chi-square of original\n"
          ]
        }
      ]
    },
    {
      "cell_type": "markdown",
      "source": [
        "Plot the data with the best fit model overlaid"
      ],
      "metadata": {
        "id": "aCGbH0sMhhYY"
      }
    },
    {
      "cell_type": "code",
      "source": [
        "model_smooth = __model(x_smooth, g1d)\n",
        "__plot(x, y, y-model, x_smooth, model_smooth, True)        "
      ],
      "metadata": {
        "colab": {
          "base_uri": "https://localhost:8080/",
          "height": 296
        },
        "outputId": "7bcb07fe-bbc8-49b8-eb8a-6bf672549108",
        "id": "Dt8fL1vufLD7"
      },
      "execution_count": 462,
      "outputs": [
        {
          "output_type": "display_data",
          "data": {
            "image/png": "[encoded data removed]",
            "text/plain": [
              "<Figure size 432x288 with 1 Axes>"
            ]
          },
          "metadata": {
            "needs_background": "light"
          }
        }
      ]
    },
    {
      "cell_type": "markdown",
      "source": [
        "# FOUR GAUSSIANS"
      ],
      "metadata": {
        "id": "OWJol2pIaUT2"
      }
    },
    {
      "cell_type": "code",
      "source": [
        "# create a model with 4 gaussians\n",
        "# first, create an array of 4 1-d gaussian functionals\n",
        "g1d, ngauss = __create_model(\n",
        "    amplitude=[5, 3, 10, 7], center=[10, 4, 15, 20], fwhm=[4, 6, 6, 3]\n",
        "  )\n",
        "# then create data with noise\n",
        "x, y, model, residual, x_smooth, model_smooth = __create_data(40, 0.2, g1d)"
      ],
      "metadata": {
        "id": "HA7SUf1Kkhbv"
      },
      "execution_count": 463,
      "outputs": []
    },
    {
      "cell_type": "code",
      "source": [
        "rms_orig, chi2_orig = __rms_chisquare(y, model, noise)\n",
        "print(f'rms of residuals: {round(rms_orig, 3)}')\n",
        "print(f'chi2: {round(chi2_orig, 3)}')"
      ],
      "metadata": {
        "colab": {
          "base_uri": "https://localhost:8080/"
        },
        "outputId": "cf041e09-62a7-4b4d-f3a6-dc25010f270d",
        "id": "l-pQqrztlAuu"
      },
      "execution_count": 464,
      "outputs": [
        {
          "output_type": "stream",
          "name": "stdout",
          "text": [
            "rms of residuals: 0.238\n",
            "chi2: 56.519\n"
          ]
        }
      ]
    },
    {
      "cell_type": "code",
      "source": [
        "x_smooth = np.linspace(0, npixels, 100)\n",
        "model_smooth = __model(x_smooth, g1d)\n",
        "__plot(x, y, r, x_smooth, model_smooth)"
      ],
      "metadata": {
        "colab": {
          "base_uri": "https://localhost:8080/",
          "height": 296
        },
        "outputId": "03dd1712-0887-4ccc-d75d-d0b2fb88d5dd",
        "id": "F-sq1_eRlOna"
      },
      "execution_count": 465,
      "outputs": [
        {
          "output_type": "display_data",
          "data": {
            "image/png": "[encoded data removed]",
            "text/plain": [
              "<Figure size 432x288 with 1 Axes>"
            ]
          },
          "metadata": {
            "needs_background": "light"
          }
        }
      ]
    },
    {
      "cell_type": "code",
      "source": [
        "# params_0 are the initial guesses for the parameters, which would normally\n",
        "# be provided by the user\n",
        "# they are in the order [amp0, amp1, ..., ampN, center0, center1, ..., centerN,\n",
        "# fwhm0, fwhm1, ..., fwhmN]\n",
        "params_0 = [4.5, 2, 9, 8, 9, 5, 13, 22, 5, 7, 7, 4]\n",
        "popt, perr = __fit(x, y, ngauss, params_0)"
      ],
      "metadata": {
        "id": "xZP6mRs3lawI"
      },
      "execution_count": 466,
      "outputs": []
    },
    {
      "cell_type": "code",
      "source": [
        "model = __report(popt, perr, y, noise, rms_orig, chi2_orig, 3)"
      ],
      "metadata": {
        "colab": {
          "base_uri": "https://localhost:8080/"
        },
        "outputId": "1c3a635f-1cab-49ef-b81d-0b3d1b8964fb",
        "id": "uF4_z3GAl1Ba"
      },
      "execution_count": 467,
      "outputs": [
        {
          "output_type": "stream",
          "name": "stdout",
          "text": [
            "Solution for gaussian 0:\n",
            "  Amplitude: 5.256 +/- 1.271\n",
            "  Center: 10.207 +/- 0.346\n",
            "  FWHM: 4.24 +/- 0.663\n",
            "\n",
            "Solution for gaussian 1:\n",
            "  Amplitude: 2.805 +/- 0.146\n",
            "  Center: 3.777 +/- 0.329\n",
            "  FWHM: 6.532 +/- 0.922\n",
            "\n",
            "Solution for gaussian 2:\n",
            "  Amplitude: 9.663 +/- 0.219\n",
            "  Center: 15.236 +/- 0.25\n",
            "  FWHM: 6.111 +/- 1.047\n",
            "\n",
            "Solution for gaussian 3:\n",
            "  Amplitude: 6.858 +/- 0.776\n",
            "  Center: 20.075 +/- 0.081\n",
            "  FWHM: 2.854 +/- 0.218\n",
            "\n",
            "rms of residuals of fit: 0.201\n",
            "Fit residuals have an rms that is 84.524%  of the rms of the original residuals\n",
            "\n",
            "chi-square of fit: 40.378\n",
            "Chi-square of fit is 71.442% chi-square of original\n"
          ]
        }
      ]
    },
    {
      "cell_type": "code",
      "source": [
        "model_smooth = __model(x_smooth, g1d)\n",
        "__plot(x, y, y-model, x_smooth, model_smooth, True)        "
      ],
      "metadata": {
        "colab": {
          "base_uri": "https://localhost:8080/",
          "height": 296
        },
        "outputId": "95e45033-f142-4886-e018-f97c0a3c81ed",
        "id": "IGj6QDGel-28"
      },
      "execution_count": 468,
      "outputs": [
        {
          "output_type": "display_data",
          "data": {
            "image/png": "[encoded data removed]",
            "text/plain": [
              "<Figure size 432x288 with 1 Axes>"
            ]
          },
          "metadata": {
            "needs_background": "light"
          }
        }
      ]
    }
  ]
}