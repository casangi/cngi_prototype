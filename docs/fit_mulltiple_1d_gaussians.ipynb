{
  "nbformat": 4,
  "nbformat_minor": 0,
  "metadata": {
    "colab": {
      "name": "fit-mulltiple-1d-gaussians.ipynb",
      "provenance": [],
      "collapsed_sections": []
    },
    "kernelspec": {
      "name": "python3",
      "display_name": "Python 3"
    },
    "language_info": {
      "name": "python"
    }
  },
  "cells": [
    {
      "cell_type": "markdown",
      "source": [
        "This notebook provides an example of how to fit multiple 1-d gaussians simultaneously in python as may be done in spec_fit - dmehring 12jan2022"
      ],
      "metadata": {
        "id": "y78J7YQWwAu-"
      }
    },
    {
      "cell_type": "markdown",
      "source": [
        "Install casatools"
      ],
      "metadata": {
        "id": "QB0Yp_EywrGv"
      }
    },
    {
      "cell_type": "code",
      "metadata": {
        "colab": {
          "base_uri": "https://localhost:8080/"
        },
        "id": "IIr5sp0VgR2m",
        "outputId": "b7a5bb2d-87be-45d4-ef18-01214ab9c726"
      },
      "source": [
        "import os\n",
        "print(\"installing casatools (takes a minute)...\")\n",
        "os.system(\"apt-get install libgfortran3\")\n",
        "os.system(\"pip install casatools==6.3.0.48\")\n",
        "os.system('pip install casadata')\n",
        "print('complete')"
      ],
      "execution_count": 120,
      "outputs": [
        {
          "output_type": "stream",
          "name": "stdout",
          "text": [
            "installing casatools (takes a minute)...\n",
            "complete\n"
          ]
        }
      ]
    },
    {
      "cell_type": "markdown",
      "source": [
        "imports"
      ],
      "metadata": {
        "id": "WZYbuoIKwgfG"
      }
    },
    {
      "cell_type": "code",
      "execution_count": 121,
      "metadata": {
        "id": "KphW8Dpxv8ME"
      },
      "outputs": [],
      "source": [
        "from casatools import functional\n",
        "import numpy as np\n",
        "from scipy.optimize import curve_fit\n",
        "from matplotlib import pyplot as plt\n",
        "from scipy.stats import chisquare"
      ]
    },
    {
      "cell_type": "markdown",
      "source": [
        "Define wrapper function that is used to fit multiple gaussians\n",
        "N = number of gaussians to fit"
      ],
      "metadata": {
        "id": "M7xddKYC0ULm"
      }
    },
    {
      "cell_type": "code",
      "source": [
        "def wrapper_fit_func(x, N, *args):\n",
        "  amp, center, fwhm = list(args[0][:N]), list(args[0][N:2*N]), list(args[0][2*N:3*N])\n",
        "  g1d = []\n",
        "  for i in range(N):\n",
        "    g1d.append(fn.gaussian1d(amplitude=amp[i], center=center[i], fwhm=fwhm[i]))\n",
        "  ret = 0\n",
        "  for i in range(N):\n",
        "    # ret += gaussian1d(x, amp=amp[i], center=center[i], fwhm=fwhm[i])\n",
        "    ret += g1d[i].f(x)\n",
        "  return ret"
      ],
      "metadata": {
        "id": "E_o-UV890ZtP"
      },
      "execution_count": 122,
      "outputs": []
    },
    {
      "cell_type": "markdown",
      "source": [
        "Compute residuals"
      ],
      "metadata": {
        "id": "F5583WucXDi0"
      }
    },
    {
      "cell_type": "code",
      "source": [
        "def __rms(y):\n",
        "  z = np.array(y) if type(y) == list else y\n",
        "  return np.sqrt(np.sum(z*z)/len(z))\n",
        "\n",
        "def __model(x, g1d):\n",
        "  m = np.zeros(len(x))\n",
        "  for g in g1d:\n",
        "    m += g.f(x)\n",
        "  return m"
      ],
      "metadata": {
        "id": "XDnhnxokXGBG"
      },
      "execution_count": 123,
      "outputs": []
    },
    {
      "cell_type": "markdown",
      "source": [
        "Demonstrate how the fitting is done. Create some data and fit it."
      ],
      "metadata": {
        "id": "YzAbz2ap1dMX"
      }
    },
    {
      "cell_type": "code",
      "source": [
        "# create a model with 2 gaussians\n",
        "# first, create an array of 2 1-d gaussian functionals\n",
        "fn = functional()\n",
        "g1d = [\n",
        "    fn.gaussian1d(amplitude=5, center=10, fwhm=4),\n",
        "    fn.gaussian1d(amplitude=3, center=4, fwhm=6)\n",
        "  ]\n",
        "\n",
        "npixels = 20\n",
        "\n",
        "# create some gaussian noise to add to the y values\n",
        "noise = 0.2\n",
        "r = np.random.normal(0, noise, npixels)\n",
        "\n",
        "ngauss = len(g1d)\n",
        "\n",
        "# populate the x and y arrays with data\n",
        "x = list(range(20))\n",
        "m = __model(x, g1d)\n",
        "y = m + r"
      ],
      "metadata": {
        "id": "iiDu7vvQ1kcL"
      },
      "execution_count": 124,
      "outputs": []
    },
    {
      "cell_type": "markdown",
      "source": [
        "Compute and report the rms of the residuals"
      ],
      "metadata": {
        "id": "3RRCAFd8crGi"
      }
    },
    {
      "cell_type": "code",
      "source": [
        "rms_orig = __rms(y - m)\n",
        "print('rms of residuals:', round(rms_orig, 3))\n",
        "chi2_orig = chisquare(y, m)[0]\n",
        "print('chi2:', round(chi2_orig, 3))"
      ],
      "metadata": {
        "colab": {
          "base_uri": "https://localhost:8080/"
        },
        "outputId": "2416dd12-ec93-4668-8569-2227f0c3104c",
        "id": "gfweg36Rd4wN"
      },
      "execution_count": 125,
      "outputs": [
        {
          "output_type": "stream",
          "name": "stdout",
          "text": [
            "rms of residuals: 0.207\n",
            "chi2: 8739.702\n"
          ]
        }
      ]
    },
    {
      "cell_type": "markdown",
      "source": [
        "Plot the data with the model overlaid"
      ],
      "metadata": {
        "id": "KqWW0ildeSeA"
      }
    },
    {
      "cell_type": "code",
      "source": [
        "# plot the data\n",
        "def plot_it(x, y, gaussians, fit=False):\n",
        "  plt.plot(x, y, linestyle='', marker='o', markerfacecolor='red')\n",
        "  residual = []\n",
        "  for i in range(len(x)):\n",
        "    res = y[i]\n",
        "    for g in gaussians:\n",
        "      res -= g.f(i)\n",
        "    residual.append(res)\n",
        "  plt.plot(x, residual, linestyle='', marker='x', markerfacecolor='#50C878')\n",
        "  plt.xlabel('V_LSR (km/s)')\n",
        "  plt.ylabel('Intensity (Jy/beam')\n",
        "  x_model = []\n",
        "  model = []\n",
        "  for i in np.linspace(np.min(x), np.max(x), 100):\n",
        "    x_model.append(i)\n",
        "    res = 0\n",
        "    for g in gaussians:\n",
        "      res += g.f(i)\n",
        "    model.append(res)\n",
        "  plt.plot(x_model, model, color='blue')\n",
        "\n",
        "  if fit:\n",
        "    plt.title('Model Spectrum with Fit')\n",
        "  else:\n",
        "    plt.title('Model Spectrum')\n",
        "  plt.show()\n",
        "\n",
        "plot_it(x, y, g1d)"
      ],
      "metadata": {
        "colab": {
          "base_uri": "https://localhost:8080/",
          "height": 296
        },
        "outputId": "96751777-4a9d-4c6b-fe1d-362ce187acaa",
        "id": "kFnKudNGeLty"
      },
      "execution_count": 126,
      "outputs": [
        {
          "output_type": "display_data",
          "data": {
            "image/png": "[encoded data removed]",
            "text/plain": [
              "<Figure size 432x288 with 1 Axes>"
            ]
          },
          "metadata": {
            "needs_background": "light"
          }
        }
      ]
    },
    {
      "cell_type": "markdown",
      "source": [
        "Perform the fit of two 1-d gaussians to the data"
      ],
      "metadata": {
        "id": "89wIR4WC7rHU"
      }
    },
    {
      "cell_type": "code",
      "source": [
        "# params_0 are the initial guesses for the parameters, which would normally\n",
        "# be provided by the user\n",
        "# they are in the order [amp0, amp1, ..., ampN, center0, center1, ..., centerN,\n",
        "# fwhm0, fwhm1, ..., fwhmN]\n",
        "params_0 = [6, 4, 9, 3, 2, 5]\n",
        "\n",
        "# this line does the actual fit\n",
        "popt, pcov = curve_fit(\n",
        "      lambda x, *params_0:\n",
        "        wrapper_fit_func(x, ngauss, params_0), x, y, p0=params_0\n",
        "    )\n",
        "# compute the estimated errors from the pcov diagonal\n",
        "perr = np.sqrt(np.diag(pcov))"
      ],
      "metadata": {
        "id": "QuqoxkTI7wTW"
      },
      "execution_count": 127,
      "outputs": []
    },
    {
      "cell_type": "markdown",
      "source": [
        "Summarize the fit"
      ],
      "metadata": {
        "id": "7P_y1Wb5rCks"
      }
    },
    {
      "cell_type": "code",
      "source": [
        "ndigits = 3\n",
        "popt = popt.round(ndigits)\n",
        "perr = perr.round(ndigits)\n",
        "amp_fit = popt[0:ngauss]\n",
        "center_fit = popt[ngauss:2*ngauss]\n",
        "fwhm_fit = popt[2*ngauss:3*ngauss]\n",
        "amp_err = perr[0:ngauss]\n",
        "center_err = perr[ngauss:2*ngauss]\n",
        "fwhm_err = perr[2*ngauss:3*ngauss]\n",
        "for i in range(ngauss):\n",
        "  print('Solution for gaussian {}:'.format(i))\n",
        "  print('  Amplitude:', amp_fit[i], '+/-', amp_err[i])\n",
        "  print('  Center:', center_fit[i], '+/-', center_err[i])\n",
        "  print('  FWHM:', fwhm_fit[i], '+/-', fwhm_err[i])\n",
        "  print()\n",
        "\n",
        "g1d_fit = []\n",
        "for i in range(ngauss):\n",
        "  g1d_fit.append(fn.gaussian1d(amp_fit[i], center_fit[i], fwhm_fit[i]))\n",
        "\n",
        "rms_fit = __rms(__residuals(x, y, g1d_fit))\n",
        "print('rms of residuals of fit:', round(rms_fit, 3))\n",
        "print(\n",
        "    'Fit residuals have an rms that is {}% of the rms of the original residuals'\n",
        "      .format(round(100*rms_fit/rms_orig, 3))\n",
        "  )\n",
        "print()\n",
        "m = __model(x, g1d_fit)\n",
        "chi2_fit = chisquare(y, m)[0]\n",
        "print('chi-square of fit:', round(chi2_fit, 3))\n",
        "\n",
        "print(\n",
        "  'Chi-square of fit is {}% chi-square of original'\n",
        "    .format(round(100*chi2_fit/chi2_orig, 3))\n",
        "  )"
      ],
      "metadata": {
        "colab": {
          "base_uri": "https://localhost:8080/"
        },
        "outputId": "ca12c21f-36d7-4b8e-8ea5-cd7775bf7f91",
        "id": "YwETNNjWq55r"
      },
      "execution_count": 128,
      "outputs": [
        {
          "output_type": "stream",
          "name": "stdout",
          "text": [
            "Solution for gaussian 0:\n",
            "  Amplitude: 4.826 +/- 0.222\n",
            "  Center: 9.964 +/- 0.126\n",
            "  FWHM: 4.161 +/- 0.24\n",
            "\n",
            "Solution for gaussian 1:\n",
            "  Amplitude: 2.856 +/- 0.13\n",
            "  Center: 4.133 +/- 0.284\n",
            "  FWHM: 6.223 +/- 0.713\n",
            "\n",
            "rms of residuals of fit: 0.179\n",
            "Fit residuals have an rms that is 86.748% of the rms of the original residuals\n",
            "\n",
            "chi-square of fit: 3458.759\n",
            "Chi-square of fit is 39.575% chi-square of original\n"
          ]
        }
      ]
    },
    {
      "cell_type": "markdown",
      "source": [
        "Plot the data with the best fit model overlaid"
      ],
      "metadata": {
        "id": "aCGbH0sMhhYY"
      }
    },
    {
      "cell_type": "code",
      "source": [
        "plot_it(x, y, g1d_fit, True)        "
      ],
      "metadata": {
        "colab": {
          "base_uri": "https://localhost:8080/",
          "height": 296
        },
        "outputId": "fbc90fc8-8be0-4de6-a0c7-81b74bd69daf",
        "id": "Dt8fL1vufLD7"
      },
      "execution_count": 129,
      "outputs": [
        {
          "output_type": "display_data",
          "data": {
            "image/png": "[encoded data removed]",
            "text/plain": [
              "<Figure size 432x288 with 1 Axes>"
            ]
          },
          "metadata": {
            "needs_background": "light"
          }
        }
      ]
    }
  ]
}