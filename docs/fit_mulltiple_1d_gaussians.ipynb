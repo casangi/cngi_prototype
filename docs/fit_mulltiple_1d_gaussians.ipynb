{
  "nbformat": 4,
  "nbformat_minor": 0,
  "metadata": {
    "colab": {
      "name": "fit-mulltiple-1d-gaussians.ipynb",
      "provenance": [],
      "collapsed_sections": [],
      "include_colab_link": true
    },
    "kernelspec": {
      "name": "python3",
      "display_name": "Python 3"
    },
    "language_info": {
      "name": "python"
    }
  },
  "cells": [
    {
      "cell_type": "markdown",
      "metadata": {
        "id": "view-in-github",
        "colab_type": "text"
      },
      "source": [
        "<a href=\"https://colab.research.google.com/github/casangi/cngi_prototype/blob/master/docs/fit_mulltiple_1d_gaussians.ipynb\" target=\"_parent\"><img src=\"https://colab.research.google.com/assets/colab-badge.svg\" alt=\"Open In Colab\"/></a>"
      ]
    },
    {
      "cell_type": "markdown",
      "source": [
        "This notebook provides an example of how to fit multiple 1-d gaussians simultaneously in python as may be done in spec_fit. Code based on discussion at https://stackoverflow.com/questions/34136737/using-scipy-curve-fit-for-a-variable-number-of-parameters\n",
        "\n",
        "Author: dmehring 12jan2022"
      ],
      "metadata": {
        "id": "y78J7YQWwAu-"
      }
    },
    {
      "cell_type": "markdown",
      "source": [
        "Install casatools"
      ],
      "metadata": {
        "id": "QB0Yp_EywrGv"
      }
    },
    {
      "cell_type": "code",
      "metadata": {
        "colab": {
          "base_uri": "https://localhost:8080/"
        },
        "id": "IIr5sp0VgR2m",
        "outputId": "fae0803a-990b-4ff5-e5ae-c0b3c73a75b5"
      },
      "source": [
        "import os\n",
        "print(\"installing casatools (takes a minute)...\")\n",
        "os.system(\"apt-get install libgfortran3\")\n",
        "os.system(\"pip install casatools==6.3.0.48\")\n",
        "os.system('pip install casadata')\n",
        "print('complete')"
      ],
      "execution_count": 307,
      "outputs": [
        {
          "output_type": "stream",
          "name": "stdout",
          "text": [
            "installing casatools (takes a minute)...\n",
            "complete\n"
          ]
        }
      ]
    },
    {
      "cell_type": "markdown",
      "source": [
        "imports"
      ],
      "metadata": {
        "id": "WZYbuoIKwgfG"
      }
    },
    {
      "cell_type": "code",
      "execution_count": 308,
      "metadata": {
        "id": "KphW8Dpxv8ME"
      },
      "outputs": [],
      "source": [
        "from casatools import functional\n",
        "import numpy as np\n",
        "from scipy.optimize import curve_fit\n",
        "from matplotlib import pyplot as plt"
      ]
    },
    {
      "cell_type": "markdown",
      "source": [
        "Define functions to determine rms and compute model values"
      ],
      "metadata": {
        "id": "F5583WucXDi0"
      }
    },
    {
      "cell_type": "code",
      "source": [
        "def __rms(z: np.array) -> float:\n",
        "  return np.sqrt(np.sum(z*z)/len(z))\n",
        "\n",
        "def __model(x: np.array, g1d: list) -> np.array:\n",
        "  model: np.array = np.zeros(len(x))\n",
        "  for g in g1d:\n",
        "    model += g.f(x)\n",
        "  return model"
      ],
      "metadata": {
        "id": "XDnhnxokXGBG"
      },
      "execution_count": 309,
      "outputs": []
    },
    {
      "cell_type": "markdown",
      "source": [
        "Define chi square for curve fitting"
      ],
      "metadata": {
        "id": "HExQXJvod1fx"
      }
    },
    {
      "cell_type": "code",
      "source": [
        "def __chi_square(residual: np.array, sigma: float) -> float:\n",
        "  residual_sigma = (residual)/sigma\n",
        "  return np.sum(residual_sigma*residual_sigma)"
      ],
      "metadata": {
        "id": "uBHs1J67d6n-"
      },
      "execution_count": 310,
      "outputs": []
    },
    {
      "cell_type": "markdown",
      "source": [
        "Compute and return rms and chi-square"
      ],
      "metadata": {
        "id": "LoYrYKISxhD-"
      }
    },
    {
      "cell_type": "code",
      "source": [
        "def __rms_chisquare(residual: np.array, sigma: float) -> tuple:\n",
        "  return __rms(residual), __chi_square(residual, sigma)"
      ],
      "metadata": {
        "id": "Vg2IYZsMxmyZ"
      },
      "execution_count": 311,
      "outputs": []
    },
    {
      "cell_type": "markdown",
      "source": [
        "Define function to plot data"
      ],
      "metadata": {
        "id": "D5oUYD7JUCz8"
      }
    },
    {
      "cell_type": "code",
      "source": [
        "# plot the data\n",
        "def __plot(\n",
        "    x: np.array, y: np.array, residual: np.array, x_smooth: np.array,\n",
        "    model_smooth: np.array, fit: bool=False\n",
        "  ) -> None:\n",
        "  plt.plot(x, y, linestyle='', marker='o', markerfacecolor='red')\n",
        "  plt.plot(x, residual, linestyle='', marker='x', markerfacecolor='#50C878')\n",
        "  plt.plot(x_smooth, model_smooth, color='blue')\n",
        "  plt.xlabel('V_LSR (km/s)')\n",
        "  plt.ylabel('Intensity (Jy/beam')\n",
        "  if fit:\n",
        "    plt.title('Model Spectrum with Fit')\n",
        "  else:\n",
        "    plt.title('Model Spectrum')\n",
        "  plt.show()\n"
      ],
      "metadata": {
        "id": "_bI10uqwT_0N"
      },
      "execution_count": 312,
      "outputs": []
    },
    {
      "cell_type": "markdown",
      "source": [
        "Create model."
      ],
      "metadata": {
        "id": "YzAbz2ap1dMX"
      }
    },
    {
      "cell_type": "code",
      "source": [
        "def __create_model(amplitude: list, center: list, fwhm: list) -> tuple:\n",
        "  fn = functional()\n",
        "  g1d: list = []\n",
        "  for a, c, f in zip(amplitude, center, fwhm):\n",
        "    g1d.append(fn.gaussian1d(a, c, f))\n",
        "  return g1d, len(g1d)"
      ],
      "metadata": {
        "id": "fjhTvNA69pty"
      },
      "execution_count": 313,
      "outputs": []
    },
    {
      "cell_type": "markdown",
      "source": [
        "Define wrapper function that is used to fit multiple gaussians\n",
        "N = number of gaussians to fit"
      ],
      "metadata": {
        "id": "M7xddKYC0ULm"
      }
    },
    {
      "cell_type": "code",
      "source": [
        "def wrapper_fit_func(x, N, *args):\n",
        "  amp, center, fwhm = args[:N], args[N:2*N], args[2*N:3*N]\n",
        "  g1d = []\n",
        "  fn = functional()\n",
        "  for a, c, f in zip(amp, center, fwhm):\n",
        "    g1d.append(fn.gaussian1d(a, c, f))\n",
        "  return __model(x, g1d)"
      ],
      "metadata": {
        "id": "E_o-UV890ZtP"
      },
      "execution_count": 314,
      "outputs": []
    },
    {
      "cell_type": "markdown",
      "source": [
        "Create data"
      ],
      "metadata": {
        "id": "91i1-0fFBRvY"
      }
    },
    {
      "cell_type": "code",
      "source": [
        "def __create_data(npixels: int, noise: float, g1d: list) -> tuple:\n",
        "  residual: np.array = np.random.normal(0, noise, npixels)\n",
        "  x: np.array = np.linspace(0, npixels, npixels, endpoint=False)\n",
        "  model: np.array = __model(x, g1d)\n",
        "  y: np.array = model + residual\n",
        "  x_smooth: np.array = np.linspace(0, npixels, 100)\n",
        "  model_smooth: np.array = __model(x_smooth, g1d)\n",
        "  return x, y, model, residual, x_smooth, model_smooth"
      ],
      "metadata": {
        "id": "6XgHyVB2BWFZ"
      },
      "execution_count": 315,
      "outputs": []
    },
    {
      "cell_type": "markdown",
      "source": [
        "This function does the fit"
      ],
      "metadata": {
        "id": "8CcF_4uRFeBW"
      }
    },
    {
      "cell_type": "code",
      "source": [
        "def __fit(x: np.array, y: np.array, ngauss: int, params_0: list) -> list:\n",
        "  try:\n",
        "    popt, pcov = curve_fit(\n",
        "        lambda x, *params_0:\n",
        "          wrapper_fit_func(x, ngauss, *params_0), x, y, p0=params_0\n",
        "      )\n",
        "    perr: np.array = np.sqrt(np.diag(pcov))\n",
        "    return popt, perr\n",
        "  except RuntimeError as e:\n",
        "    raise RuntimeError(f'Fit did not converge {e}')"
      ],
      "metadata": {
        "id": "Uh0qwf7SFihS"
      },
      "execution_count": 316,
      "outputs": []
    },
    {
      "cell_type": "markdown",
      "source": [
        "Function to report the fit"
      ],
      "metadata": {
        "id": "n88HRWDxWp-4"
      }
    },
    {
      "cell_type": "code",
      "source": [
        "def __report(\n",
        "    popt: np.array, perr: np.array, y: np.array, noise: float, rms_orig: float,\n",
        "    chi2_orig: float, ndigits: int\n",
        "  ) -> np.array:\n",
        "  popt = popt.round(ndigits)\n",
        "  perr = perr.round(ndigits)\n",
        "  amp_fit = popt[0:ngauss]\n",
        "  center_fit = popt[ngauss:2*ngauss]\n",
        "  fwhm_fit = popt[2*ngauss:3*ngauss]\n",
        "  amp_err = perr[0:ngauss]\n",
        "  center_err = perr[ngauss:2*ngauss]\n",
        "  fwhm_err = perr[2*ngauss:3*ngauss]\n",
        "  g1d_fit: list = []\n",
        "  fn = functional()\n",
        "  for i, (af, cf, ff, ae, ce, fe) in enumerate(\n",
        "    zip(amp_fit, center_fit, fwhm_fit, amp_err, center_err, fwhm_err)\n",
        "  ):\n",
        "    print(f'Solution for gaussian {i}:')\n",
        "    print(f'  Amplitude: {af} +/- {ae}')\n",
        "    print(f'  Center: {cf} +/- {ce}')\n",
        "    print(f'  FWHM: {ff} +/- {fe}')\n",
        "    print()\n",
        "    g1d_fit.append(fn.gaussian1d(af, cf, ff))\n",
        "  model = __model(x, g1d_fit)\n",
        "  rms_fit, chi2_fit = __rms_chisquare(y - model, noise)\n",
        "  print(f'rms of residuals of fit: {round(rms_fit, ndigits)}')\n",
        "  print(\n",
        "    'Fit residuals have an rms that is ',\n",
        "    f'{round(100*rms_fit/rms_orig, ndigits)}%',\n",
        "    'of the rms of the original residuals'\n",
        "  )\n",
        "  print()\n",
        "  print(f'chi-square of fit: {round(chi2_fit, ndigits)}')\n",
        "\n",
        "  print(\n",
        "    f'Chi-square of fit is {round(100*chi2_fit/chi2_orig, ndigits)}% '\n",
        "    'chi-square of original'\n",
        "  )\n",
        "  return model"
      ],
      "metadata": {
        "id": "YwETNNjWq55r"
      },
      "execution_count": 317,
      "outputs": []
    },
    {
      "cell_type": "markdown",
      "source": [
        "# TWO GAUSSIANS"
      ],
      "metadata": {
        "id": "zhf17csnac26"
      }
    },
    {
      "cell_type": "code",
      "source": [
        "# create a model with 2 gaussians\n",
        "# first, create an array of 2 1-d gaussian functionals\n",
        "g1d, ngauss = __create_model(amplitude=[5, 3], center=[10, 4], fwhm=[4, 6])\n",
        "# now create some data with noise\n",
        "noise = 0.2\n",
        "npixels = 20\n",
        "x, y, model, residual, x_smooth, model_smooth = __create_data(npixels, noise, g1d)"
      ],
      "metadata": {
        "id": "iiDu7vvQ1kcL"
      },
      "execution_count": 318,
      "outputs": []
    },
    {
      "cell_type": "markdown",
      "source": [
        "Compute and report the rms of the residuals"
      ],
      "metadata": {
        "id": "3RRCAFd8crGi"
      }
    },
    {
      "cell_type": "code",
      "source": [
        "rms_orig, chi2_orig = __rms_chisquare(y-model, noise)\n",
        "print(f'rms of residuals: {round(rms_orig, 3)}')\n",
        "print(f'chi2: {round(chi2_orig, 3)}')"
      ],
      "metadata": {
        "colab": {
          "base_uri": "https://localhost:8080/"
        },
        "outputId": "34eb56dd-86f5-44af-ee07-fbf4458dea6e",
        "id": "gfweg36Rd4wN"
      },
      "execution_count": 319,
      "outputs": [
        {
          "output_type": "stream",
          "name": "stdout",
          "text": [
            "rms of residuals: 0.145\n",
            "chi2: 10.541\n"
          ]
        }
      ]
    },
    {
      "cell_type": "markdown",
      "source": [
        "Plot the data with the model overlaid"
      ],
      "metadata": {
        "id": "KqWW0ildeSeA"
      }
    },
    {
      "cell_type": "code",
      "source": [
        "__plot(x, y, residual, x_smooth, model_smooth)"
      ],
      "metadata": {
        "colab": {
          "base_uri": "https://localhost:8080/",
          "height": 296
        },
        "outputId": "27ca881e-635e-46d2-a4fe-bf7b8a9a79c9",
        "id": "kFnKudNGeLty"
      },
      "execution_count": 320,
      "outputs": [
        {
          "output_type": "display_data",
          "data": {
            "image/png": "[encoded data removed]",
            "text/plain": [
              "<Figure size 432x288 with 1 Axes>"
            ]
          },
          "metadata": {
            "needs_background": "light"
          }
        }
      ]
    },
    {
      "cell_type": "markdown",
      "source": [
        "Perform the fit of two 1-d gaussians to the data"
      ],
      "metadata": {
        "id": "89wIR4WC7rHU"
      }
    },
    {
      "cell_type": "code",
      "source": [
        "# params_0 are the initial guesses for the parameters, which would normally\n",
        "# be provided by the user\n",
        "# they are in the order [amp0, amp1, ..., ampN, center0, center1, ..., centerN,\n",
        "# fwhm0, fwhm1, ..., fwhmN]\n",
        "params_0 = [4.5, 2, 9, 5, 5, 7]\n",
        "popt, perr = __fit(x, y, ngauss, params_0)"
      ],
      "metadata": {
        "id": "QuqoxkTI7wTW"
      },
      "execution_count": 321,
      "outputs": []
    },
    {
      "cell_type": "markdown",
      "source": [
        "Summarize the fit"
      ],
      "metadata": {
        "id": "7P_y1Wb5rCks"
      }
    },
    {
      "cell_type": "code",
      "source": [
        "model_fit = __report(popt, perr, y, noise, rms_orig, chi2_orig, 3)"
      ],
      "metadata": {
        "id": "WX7S7f2_WSxi",
        "outputId": "d528ace0-1239-4369-c253-97d044c2f3b5",
        "colab": {
          "base_uri": "https://localhost:8080/"
        }
      },
      "execution_count": 322,
      "outputs": [
        {
          "output_type": "stream",
          "name": "stdout",
          "text": [
            "Solution for gaussian 0:\n",
            "  Amplitude: 4.902 +/- 0.149\n",
            "  Center: 10.005 +/- 0.081\n",
            "  FWHM: 4.053 +/- 0.162\n",
            "\n",
            "Solution for gaussian 1:\n",
            "  Amplitude: 3.028 +/- 0.095\n",
            "  Center: 4.009 +/- 0.173\n",
            "  FWHM: 6.288 +/- 0.47\n",
            "\n",
            "rms of residuals of fit: 0.131\n",
            "Fit residuals have an rms that is  90.34% of the rms of the original residuals\n",
            "\n",
            "chi-square of fit: 8.603\n",
            "Chi-square of fit is 81.612% chi-square of original\n"
          ]
        }
      ]
    },
    {
      "cell_type": "markdown",
      "source": [
        "Plot the data with the best fit model overlaid"
      ],
      "metadata": {
        "id": "aCGbH0sMhhYY"
      }
    },
    {
      "cell_type": "code",
      "source": [
        "model_fit_smooth = __model(x_smooth, g1d)\n",
        "__plot(x, y, y - model_fit, x_smooth, model_fit_smooth, True)        "
      ],
      "metadata": {
        "colab": {
          "base_uri": "https://localhost:8080/",
          "height": 296
        },
        "outputId": "dd6b9f83-10c1-44f5-bd7a-ea081512135c",
        "id": "Dt8fL1vufLD7"
      },
      "execution_count": 323,
      "outputs": [
        {
          "output_type": "display_data",
          "data": {
            "image/png": "[encoded data removed]",
            "text/plain": [
              "<Figure size 432x288 with 1 Axes>"
            ]
          },
          "metadata": {
            "needs_background": "light"
          }
        }
      ]
    },
    {
      "cell_type": "markdown",
      "source": [
        "# FOUR GAUSSIANS"
      ],
      "metadata": {
        "id": "OWJol2pIaUT2"
      }
    },
    {
      "cell_type": "code",
      "source": [
        "# create a model with 4 gaussians\n",
        "# first, create an array of 4 1-d gaussian functionals\n",
        "g1d, ngauss = __create_model(\n",
        "    amplitude=[5, 3, 10, 7], center=[10, 4, 15, 20], fwhm=[4, 6, 6, 3]\n",
        "  )\n",
        "npixels = 40\n",
        "noise = 0.2\n",
        "# then create data with noise\n",
        "x, y, model, residual, x_smooth, model_smooth = __create_data(npixels, noise, g1d)"
      ],
      "metadata": {
        "id": "HA7SUf1Kkhbv"
      },
      "execution_count": 324,
      "outputs": []
    },
    {
      "cell_type": "code",
      "source": [
        "rms_orig, chi2_orig = __rms_chisquare(y - model, noise)\n",
        "print(f'rms of residuals: {round(rms_orig, 3)}')\n",
        "print(f'chi2: {round(chi2_orig, 3)}')"
      ],
      "metadata": {
        "colab": {
          "base_uri": "https://localhost:8080/"
        },
        "outputId": "5abb84ea-effb-47fe-e6d4-c8d6177fde12",
        "id": "l-pQqrztlAuu"
      },
      "execution_count": 325,
      "outputs": [
        {
          "output_type": "stream",
          "name": "stdout",
          "text": [
            "rms of residuals: 0.213\n",
            "chi2: 45.56\n"
          ]
        }
      ]
    },
    {
      "cell_type": "code",
      "source": [
        "x_smooth = np.linspace(0, npixels, 100)\n",
        "model_smooth = __model(x_smooth, g1d)\n",
        "__plot(x, y, residual, x_smooth, model_smooth)"
      ],
      "metadata": {
        "colab": {
          "base_uri": "https://localhost:8080/",
          "height": 296
        },
        "outputId": "c4862497-b321-4d87-eefb-5d7dbcd923c0",
        "id": "F-sq1_eRlOna"
      },
      "execution_count": 326,
      "outputs": [
        {
          "output_type": "display_data",
          "data": {
            "image/png": "[encoded data removed]",
            "text/plain": [
              "<Figure size 432x288 with 1 Axes>"
            ]
          },
          "metadata": {
            "needs_background": "light"
          }
        }
      ]
    },
    {
      "cell_type": "code",
      "source": [
        "# params_0 are the initial guesses for the parameters, which would normally\n",
        "# be provided by the user\n",
        "# they are in the order [amp0, amp1, ..., ampN, center0, center1, ..., centerN,\n",
        "# fwhm0, fwhm1, ..., fwhmN]\n",
        "params_0 = [4.5, 2, 9, 8, 9, 5, 13, 22, 5, 7, 7, 4]\n",
        "popt, perr = __fit(x, y, ngauss, params_0)"
      ],
      "metadata": {
        "id": "xZP6mRs3lawI"
      },
      "execution_count": 327,
      "outputs": []
    },
    {
      "cell_type": "code",
      "source": [
        "model_fit = __report(popt, perr, y, noise, rms_orig, chi2_orig, 3)"
      ],
      "metadata": {
        "colab": {
          "base_uri": "https://localhost:8080/"
        },
        "outputId": "8b178f7c-69b7-4920-c646-91f043b0fb30",
        "id": "uF4_z3GAl1Ba"
      },
      "execution_count": 328,
      "outputs": [
        {
          "output_type": "stream",
          "name": "stdout",
          "text": [
            "Solution for gaussian 0:\n",
            "  Amplitude: 6.388 +/- 0.572\n",
            "  Center: 10.587 +/- 0.329\n",
            "  FWHM: 4.715 +/- 0.605\n",
            "\n",
            "Solution for gaussian 1:\n",
            "  Amplitude: 3.028 +/- 0.119\n",
            "  Center: 3.743 +/- 0.202\n",
            "  FWHM: 5.623 +/- 0.51\n",
            "\n",
            "Solution for gaussian 2:\n",
            "  Amplitude: 9.697 +/- 0.464\n",
            "  Center: 15.237 +/- 0.198\n",
            "  FWHM: 4.722 +/- 0.501\n",
            "\n",
            "Solution for gaussian 3:\n",
            "  Amplitude: 8.033 +/- 0.302\n",
            "  Center: 19.903 +/- 0.069\n",
            "  FWHM: 3.057 +/- 0.121\n",
            "\n",
            "rms of residuals of fit: 0.158\n",
            "Fit residuals have an rms that is  74.212% of the rms of the original residuals\n",
            "\n",
            "chi-square of fit: 25.092\n",
            "Chi-square of fit is 55.075% chi-square of original\n"
          ]
        }
      ]
    },
    {
      "cell_type": "code",
      "source": [
        "model_fit_smooth = __model(x_smooth, g1d)\n",
        "__plot(x, y, y - model_fit, x_smooth, model_fit_smooth, True)        "
      ],
      "metadata": {
        "colab": {
          "base_uri": "https://localhost:8080/",
          "height": 296
        },
        "outputId": "d60aaa8c-6b5d-4d93-8a73-17a5763fa8ac",
        "id": "IGj6QDGel-28"
      },
      "execution_count": 329,
      "outputs": [
        {
          "output_type": "display_data",
          "data": {
            "image/png": "[encoded data removed]",
            "text/plain": [
              "<Figure size 432x288 with 1 Axes>"
            ]
          },
          "metadata": {
            "needs_background": "light"
          }
        }
      ]
    }
  ]
}