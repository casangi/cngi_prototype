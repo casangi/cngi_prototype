{
  "nbformat": 4,
  "nbformat_minor": 0,
  "metadata": {
    "colab": {
      "name": "fit-mulltiple-1d-gaussians.ipynb",
      "provenance": [],
      "collapsed_sections": [],
      "include_colab_link": true
    },
    "kernelspec": {
      "name": "python3",
      "display_name": "Python 3"
    },
    "language_info": {
      "name": "python"
    }
  },
  "cells": [
    {
      "cell_type": "markdown",
      "metadata": {
        "id": "view-in-github",
        "colab_type": "text"
      },
      "source": [
        "<a href=\"https://colab.research.google.com/github/casangi/cngi_prototype/blob/master/docs/fit_mulltiple_1d_gaussians.ipynb\" target=\"_parent\"><img src=\"https://colab.research.google.com/assets/colab-badge.svg\" alt=\"Open In Colab\"/></a>"
      ]
    },
    {
      "cell_type": "markdown",
      "source": [
        "This notebook provides an example of how to fit multiple 1-d gaussians simultaneously in python as may be done in spec_fit. Code based on discussion at https://stackoverflow.com/questions/34136737/using-scipy-curve-fit-for-a-variable-number-of-parameters\n",
        "\n",
        "Author: dmehring 12jan2022"
      ],
      "metadata": {
        "id": "y78J7YQWwAu-"
      }
    },
    {
      "cell_type": "markdown",
      "source": [
        "Install casatools"
      ],
      "metadata": {
        "id": "QB0Yp_EywrGv"
      }
    },
    {
      "cell_type": "code",
      "metadata": {
        "colab": {
          "base_uri": "https://localhost:8080/"
        },
        "id": "IIr5sp0VgR2m",
        "outputId": "49194c65-253a-493b-b3b0-26079837fda1"
      },
      "source": [
        "import os\n",
        "print(\"installing casatools (takes a minute)...\")\n",
        "os.system(\"apt-get install libgfortran3\")\n",
        "os.system(\"pip install casatools==6.3.0.48\")\n",
        "os.system('pip install casadata')\n",
        "print('complete')"
      ],
      "execution_count": 91,
      "outputs": [
        {
          "output_type": "stream",
          "name": "stdout",
          "text": [
            "installing casatools (takes a minute)...\n",
            "complete\n"
          ]
        }
      ]
    },
    {
      "cell_type": "markdown",
      "source": [
        "imports"
      ],
      "metadata": {
        "id": "WZYbuoIKwgfG"
      }
    },
    {
      "cell_type": "code",
      "execution_count": 92,
      "metadata": {
        "id": "KphW8Dpxv8ME"
      },
      "outputs": [],
      "source": [
        "from casatools import functional\n",
        "import numpy as np\n",
        "from scipy.optimize import curve_fit\n",
        "from matplotlib import pyplot as plt"
      ]
    },
    {
      "cell_type": "markdown",
      "source": [
        "Define functions to determine rms and compute model values"
      ],
      "metadata": {
        "id": "F5583WucXDi0"
      }
    },
    {
      "cell_type": "code",
      "source": [
        "def __rms(y):\n",
        "  z = np.array(y) if type(y) == list else y\n",
        "  return np.sqrt(np.sum(z*z)/len(z))\n",
        "\n",
        "def __model(x, g1d):\n",
        "  m = np.zeros(len(x))\n",
        "  for g in g1d:\n",
        "    m += g.f(x)\n",
        "  return m"
      ],
      "metadata": {
        "id": "XDnhnxokXGBG"
      },
      "execution_count": 93,
      "outputs": []
    },
    {
      "cell_type": "markdown",
      "source": [
        "Define chi square for curve fitting"
      ],
      "metadata": {
        "id": "HExQXJvod1fx"
      }
    },
    {
      "cell_type": "code",
      "source": [
        "def __chi_square(y, model, sigma):\n",
        "  residual_sigma = (model - y)/sigma\n",
        "  return np.sum(residual_sigma*residual_sigma)"
      ],
      "metadata": {
        "id": "uBHs1J67d6n-"
      },
      "execution_count": 94,
      "outputs": []
    },
    {
      "cell_type": "markdown",
      "source": [
        "Compute and return rms and chi-square"
      ],
      "metadata": {
        "id": "LoYrYKISxhD-"
      }
    },
    {
      "cell_type": "code",
      "source": [
        "def __rms_chisquare(y, model, sigma):\n",
        "  return __rms(y - model), __chi_square(y, model, sigma)"
      ],
      "metadata": {
        "id": "Vg2IYZsMxmyZ"
      },
      "execution_count": 95,
      "outputs": []
    },
    {
      "cell_type": "markdown",
      "source": [
        "Define function to plot data"
      ],
      "metadata": {
        "id": "D5oUYD7JUCz8"
      }
    },
    {
      "cell_type": "code",
      "source": [
        "# plot the data\n",
        "def __plot(x, y, gaussians, fit=False):\n",
        "  plt.plot(x, y, linestyle='', marker='o', markerfacecolor='red')\n",
        "  residual = []\n",
        "  for i in range(len(x)):\n",
        "    res = y[i]\n",
        "    for g in gaussians:\n",
        "      res -= g.f(i)\n",
        "    residual.append(res)\n",
        "  plt.plot(x, residual, linestyle='', marker='x', markerfacecolor='#50C878')\n",
        "  plt.xlabel('V_LSR (km/s)')\n",
        "  plt.ylabel('Intensity (Jy/beam')\n",
        "  x_model = []\n",
        "  model = []\n",
        "  for i in np.linspace(np.min(x), np.max(x), 100):\n",
        "    x_model.append(i)\n",
        "    res = 0\n",
        "    for g in gaussians:\n",
        "      res += g.f(i)\n",
        "    model.append(res)\n",
        "  plt.plot(x_model, model, color='blue')\n",
        "\n",
        "  if fit:\n",
        "    plt.title('Model Spectrum with Fit')\n",
        "  else:\n",
        "    plt.title('Model Spectrum')\n",
        "  plt.show()\n"
      ],
      "metadata": {
        "id": "_bI10uqwT_0N"
      },
      "execution_count": 96,
      "outputs": []
    },
    {
      "cell_type": "markdown",
      "source": [
        "Define wrapper function that is used to fit multiple gaussians\n",
        "N = number of gaussians to fit"
      ],
      "metadata": {
        "id": "M7xddKYC0ULm"
      }
    },
    {
      "cell_type": "code",
      "source": [
        "def wrapper_fit_func(x, N, *args):\n",
        "  amp, center, fwhm = list(args[0][:N]), list(args[0][N:2*N]), list(args[0][2*N:3*N])\n",
        "  g1d = []\n",
        "  for i in range(N):\n",
        "    g1d.append(fn.gaussian1d(amp[i], center[i], fwhm[i]))\n",
        "  return __model(x, g1d)"
      ],
      "metadata": {
        "id": "E_o-UV890ZtP"
      },
      "execution_count": 97,
      "outputs": []
    },
    {
      "cell_type": "markdown",
      "source": [
        "Demonstrate how the fitting is done. Create some data and fit it."
      ],
      "metadata": {
        "id": "YzAbz2ap1dMX"
      }
    },
    {
      "cell_type": "code",
      "source": [
        "# create a model with 2 gaussians\n",
        "# first, create an array of 2 1-d gaussian functionals\n",
        "fn = functional()\n",
        "g1d = [\n",
        "    fn.gaussian1d(amplitude=5, center=10, fwhm=4),\n",
        "    fn.gaussian1d(amplitude=3, center=4, fwhm=6)\n",
        "  ]\n",
        "\n",
        "npixels = 20\n",
        "\n",
        "# create some gaussian noise to add to the y values\n",
        "noise = 0.2\n",
        "r = np.random.normal(0, noise, npixels)\n",
        "\n",
        "ngauss = len(g1d)\n",
        "\n",
        "# populate the x and y arrays with data\n",
        "x = np.linspace(0, npixels, npixels, endpoint=False)\n",
        "m = __model(x, g1d)\n",
        "y = m + r"
      ],
      "metadata": {
        "id": "iiDu7vvQ1kcL"
      },
      "execution_count": 98,
      "outputs": []
    },
    {
      "cell_type": "markdown",
      "source": [
        "Compute and report the rms of the residuals"
      ],
      "metadata": {
        "id": "3RRCAFd8crGi"
      }
    },
    {
      "cell_type": "code",
      "source": [
        "rms_orig, chi2_orig = __rms_chisquare(y, m, noise)\n",
        "print('rms of residuals:', round(rms_orig, 3))\n",
        "print('chi2:', round(chi2_orig, 3))"
      ],
      "metadata": {
        "colab": {
          "base_uri": "https://localhost:8080/"
        },
        "outputId": "b493a5a2-c67b-4a9a-c98b-d8f6760c7eae",
        "id": "gfweg36Rd4wN"
      },
      "execution_count": 99,
      "outputs": [
        {
          "output_type": "stream",
          "name": "stdout",
          "text": [
            "rms of residuals: 0.219\n",
            "chi2: 23.905\n"
          ]
        }
      ]
    },
    {
      "cell_type": "markdown",
      "source": [
        "Plot the data with the model overlaid"
      ],
      "metadata": {
        "id": "KqWW0ildeSeA"
      }
    },
    {
      "cell_type": "code",
      "source": [
        "__plot(x, y, g1d)"
      ],
      "metadata": {
        "colab": {
          "base_uri": "https://localhost:8080/",
          "height": 296
        },
        "outputId": "d88e7271-b68e-4e45-a224-95dc59a2e7fd",
        "id": "kFnKudNGeLty"
      },
      "execution_count": 100,
      "outputs": [
        {
          "output_type": "display_data",
          "data": {
            "image/png": "[encoded data removed]",
            "text/plain": [
              "<Figure size 432x288 with 1 Axes>"
            ]
          },
          "metadata": {
            "needs_background": "light"
          }
        }
      ]
    },
    {
      "cell_type": "markdown",
      "source": [
        "Perform the fit of two 1-d gaussians to the data"
      ],
      "metadata": {
        "id": "89wIR4WC7rHU"
      }
    },
    {
      "cell_type": "code",
      "source": [
        "# params_0 are the initial guesses for the parameters, which would normally\n",
        "# be provided by the user\n",
        "# they are in the order [amp0, amp1, ..., ampN, center0, center1, ..., centerN,\n",
        "# fwhm0, fwhm1, ..., fwhmN]\n",
        "params_0 = [4.5, 2, 9, 5, 5, 7]\n",
        "\n",
        "# this line does the actual fit\n",
        "try:\n",
        "  popt, pcov = curve_fit(\n",
        "    lambda x, *params_0:\n",
        "      wrapper_fit_func(x, ngauss, params_0), x, y, p0=params_0\n",
        "    )\n",
        "except RuntimeError as e:\n",
        "  raise RuntimeError('Fit did not converge',e)\n",
        "# compute the estimated errors from the pcov diagonal\n",
        "perr = np.sqrt(np.diag(pcov))"
      ],
      "metadata": {
        "id": "QuqoxkTI7wTW"
      },
      "execution_count": 101,
      "outputs": []
    },
    {
      "cell_type": "markdown",
      "source": [
        "Summarize the fit"
      ],
      "metadata": {
        "id": "7P_y1Wb5rCks"
      }
    },
    {
      "cell_type": "code",
      "source": [
        "ndigits = 3\n",
        "popt = popt.round(ndigits)\n",
        "perr = perr.round(ndigits)\n",
        "amp_fit = popt[0:ngauss]\n",
        "center_fit = popt[ngauss:2*ngauss]\n",
        "fwhm_fit = popt[2*ngauss:3*ngauss]\n",
        "amp_err = perr[0:ngauss]\n",
        "center_err = perr[ngauss:2*ngauss]\n",
        "fwhm_err = perr[2*ngauss:3*ngauss]\n",
        "for i in range(ngauss):\n",
        "  print('Solution for gaussian {}:'.format(i))\n",
        "  print('  Amplitude:', amp_fit[i], '+/-', amp_err[i])\n",
        "  print('  Center:', center_fit[i], '+/-', center_err[i])\n",
        "  print('  FWHM:', fwhm_fit[i], '+/-', fwhm_err[i])\n",
        "  print()\n",
        "\n",
        "g1d_fit = []\n",
        "for i in range(ngauss):\n",
        "  g1d_fit.append(fn.gaussian1d(amp_fit[i], center_fit[i], fwhm_fit[i]))\n",
        "\n",
        "m = __model(x, g1d_fit)\n",
        "rms_fit, chi2_fit = __rms_chisquare(y, m, noise)\n",
        "print('rms of residuals of fit:', round(rms_fit, 3))\n",
        "print(\n",
        "    'Fit residuals have an rms that is {}% of the rms of the original residuals'\n",
        "      .format(round(100*rms_fit/rms_orig, 3))\n",
        "  )\n",
        "print()\n",
        "print('chi-square of fit:', round(chi2_fit, 3))\n",
        "\n",
        "print(\n",
        "  'Chi-square of fit is {}% chi-square of original'\n",
        "    .format(round(100*chi2_fit/chi2_orig, 3))\n",
        "  )"
      ],
      "metadata": {
        "colab": {
          "base_uri": "https://localhost:8080/"
        },
        "outputId": "9417b219-5baa-4ae8-e8cd-4b91e92de3cc",
        "id": "YwETNNjWq55r"
      },
      "execution_count": 102,
      "outputs": [
        {
          "output_type": "stream",
          "name": "stdout",
          "text": [
            "Solution for gaussian 0:\n",
            "  Amplitude: 4.973 +/- 0.218\n",
            "  Center: 10.137 +/- 0.068\n",
            "  FWHM: 3.613 +/- 0.157\n",
            "\n",
            "Solution for gaussian 1:\n",
            "  Amplitude: 3.131 +/- 0.093\n",
            "  Center: 4.364 +/- 0.208\n",
            "  FWHM: 7.255 +/- 0.583\n",
            "\n",
            "rms of residuals of fit: 0.134\n",
            "Fit residuals have an rms that is 61.315% of the rms of the original residuals\n",
            "\n",
            "chi-square of fit: 8.987\n",
            "Chi-square of fit is 37.595% chi-square of original\n"
          ]
        }
      ]
    },
    {
      "cell_type": "markdown",
      "source": [
        "Plot the data with the best fit model overlaid"
      ],
      "metadata": {
        "id": "aCGbH0sMhhYY"
      }
    },
    {
      "cell_type": "code",
      "source": [
        "__plot(x, y, g1d_fit, True)        "
      ],
      "metadata": {
        "colab": {
          "base_uri": "https://localhost:8080/",
          "height": 296
        },
        "outputId": "900f891a-396a-400c-8ffc-a740114bd433",
        "id": "Dt8fL1vufLD7"
      },
      "execution_count": 103,
      "outputs": [
        {
          "output_type": "display_data",
          "data": {
            "image/png": "[encoded data removed]",
            "text/plain": [
              "<Figure size 432x288 with 1 Axes>"
            ]
          },
          "metadata": {
            "needs_background": "light"
          }
        }
      ]
    },
    {
      "cell_type": "code",
      "source": [
        "# create a model with 4 gaussians\n",
        "# first, create an array of 4 1-d gaussian functionals\n",
        "g1d = [\n",
        "    fn.gaussian1d(amplitude=5, center=10, fwhm=4),\n",
        "    fn.gaussian1d(amplitude=3, center=4, fwhm=6),\n",
        "    fn.gaussian1d(amplitude=10, center=15, fwhm=6),\n",
        "    fn.gaussian1d(amplitude=7, center=20, fwhm=3)\n",
        "  ]\n",
        "\n",
        "npixels = 40\n",
        "\n",
        "# create some gaussian noise to add to the y values\n",
        "noise = 0.2\n",
        "r = np.random.normal(0, noise, npixels)\n",
        "\n",
        "ngauss = len(g1d)\n",
        "\n",
        "# populate the x and y arrays with data\n",
        "x = np.linspace(0, npixels, npixels, endpoint=False)\n",
        "m = __model(x, g1d)\n",
        "y = m + r"
      ],
      "metadata": {
        "id": "HA7SUf1Kkhbv"
      },
      "execution_count": 104,
      "outputs": []
    },
    {
      "cell_type": "code",
      "source": [
        "rms_orig, chi2_orig = __rms_chisquare(y, m, noise)\n",
        "print('rms of residuals:', round(rms_orig, 3))\n",
        "print('chi2:', round(chi2_orig, 3))"
      ],
      "metadata": {
        "colab": {
          "base_uri": "https://localhost:8080/"
        },
        "outputId": "bb36d6be-7449-42b5-b9e2-780f34251e67",
        "id": "l-pQqrztlAuu"
      },
      "execution_count": 105,
      "outputs": [
        {
          "output_type": "stream",
          "name": "stdout",
          "text": [
            "rms of residuals: 0.147\n",
            "chi2: 21.497\n"
          ]
        }
      ]
    },
    {
      "cell_type": "code",
      "source": [
        "__plot(x, y, g1d)"
      ],
      "metadata": {
        "colab": {
          "base_uri": "https://localhost:8080/",
          "height": 296
        },
        "outputId": "cf60dc94-f98e-4e51-f466-0314a34b72a7",
        "id": "F-sq1_eRlOna"
      },
      "execution_count": 106,
      "outputs": [
        {
          "output_type": "display_data",
          "data": {
            "image/png": "[encoded data removed]",
            "text/plain": [
              "<Figure size 432x288 with 1 Axes>"
            ]
          },
          "metadata": {
            "needs_background": "light"
          }
        }
      ]
    },
    {
      "cell_type": "code",
      "source": [
        "# params_0 are the initial guesses for the parameters, which would normally\n",
        "# be provided by the user\n",
        "# they are in the order [amp0, amp1, ..., ampN, center0, center1, ..., centerN,\n",
        "# fwhm0, fwhm1, ..., fwhmN]\n",
        "params_0 = [4.5, 2, 9, 8, 9, 5, 13, 22, 5, 7, 7, 4]\n",
        "\n",
        "# this line does the actual fit\n",
        "try:\n",
        "  popt, pcov = curve_fit(\n",
        "    lambda x, *params_0:\n",
        "      wrapper_fit_func(x, ngauss, params_0), x, y, p0=params_0\n",
        "    )\n",
        "except RuntimeError as e:\n",
        "  raise RuntimeError('Fit did not converge', e)\n",
        "# compute the estimated errors from the pcov diagonal\n",
        "perr = np.sqrt(np.diag(pcov))"
      ],
      "metadata": {
        "id": "xZP6mRs3lawI"
      },
      "execution_count": 107,
      "outputs": []
    },
    {
      "cell_type": "code",
      "source": [
        "ndigits = 3\n",
        "popt = popt.round(ndigits)\n",
        "perr = perr.round(ndigits)\n",
        "amp_fit = popt[0:ngauss]\n",
        "center_fit = popt[ngauss:2*ngauss]\n",
        "fwhm_fit = popt[2*ngauss:3*ngauss]\n",
        "amp_err = perr[0:ngauss]\n",
        "center_err = perr[ngauss:2*ngauss]\n",
        "fwhm_err = perr[2*ngauss:3*ngauss]\n",
        "for i in range(ngauss):\n",
        "  print('Solution for gaussian {}:'.format(i))\n",
        "  print('  Amplitude:', amp_fit[i], '+/-', amp_err[i])\n",
        "  print('  Center:', center_fit[i], '+/-', center_err[i])\n",
        "  print('  FWHM:', fwhm_fit[i], '+/-', fwhm_err[i])\n",
        "  print()\n",
        "\n",
        "g1d_fit = []\n",
        "for i in range(ngauss):\n",
        "  g1d_fit.append(fn.gaussian1d(amp_fit[i], center_fit[i], fwhm_fit[i]))\n",
        "\n",
        "m = __model(x, g1d_fit)\n",
        "rms_fit, chi2_fit = __rms_chisquare(y, m, noise)\n",
        "print('rms of residuals of fit:', round(rms_fit, 3))\n",
        "print(\n",
        "  'Fit residuals have an rms that is {}% of the rms of the original residuals'\n",
        "    .format(round(100*rms_fit/rms_orig, 3))\n",
        "  )\n",
        "print()\n",
        "print('chi-square of fit:', round(chi2_fit, 3))\n",
        "\n",
        "print(\n",
        "  'Chi-square of fit is {}% chi-square of original'\n",
        "    .format(round(100*chi2_fit/chi2_orig, 3))\n",
        "  )"
      ],
      "metadata": {
        "colab": {
          "base_uri": "https://localhost:8080/"
        },
        "outputId": "a6372ab5-98e5-41df-df02-71ba520572b9",
        "id": "uF4_z3GAl1Ba"
      },
      "execution_count": 108,
      "outputs": [
        {
          "output_type": "stream",
          "name": "stdout",
          "text": [
            "Solution for gaussian 0:\n",
            "  Amplitude: 4.759 +/- 0.727\n",
            "  Center: 10.139 +/- 0.17\n",
            "  FWHM: 3.883 +/- 0.37\n",
            "\n",
            "Solution for gaussian 1:\n",
            "  Amplitude: 2.89 +/- 0.083\n",
            "  Center: 4.27 +/- 0.25\n",
            "  FWHM: 7.256 +/- 0.651\n",
            "\n",
            "Solution for gaussian 2:\n",
            "  Amplitude: 10.012 +/- 0.107\n",
            "  Center: 14.977 +/- 0.117\n",
            "  FWHM: 6.005 +/- 0.518\n",
            "\n",
            "Solution for gaussian 3:\n",
            "  Amplitude: 6.918 +/- 0.387\n",
            "  Center: 19.99 +/- 0.054\n",
            "  FWHM: 3.009 +/- 0.119\n",
            "\n",
            "rms of residuals of fit: 0.119\n",
            "Fit residuals have an rms that is 80.896% of the rms of the original residuals\n",
            "\n",
            "chi-square of fit: 14.068\n",
            "Chi-square of fit is 65.441% chi-square of original\n"
          ]
        }
      ]
    },
    {
      "cell_type": "code",
      "source": [
        "__plot(x, y, g1d_fit, True)        "
      ],
      "metadata": {
        "colab": {
          "base_uri": "https://localhost:8080/",
          "height": 296
        },
        "outputId": "6e442a07-75af-44ea-8ea8-68b1727274c8",
        "id": "IGj6QDGel-28"
      },
      "execution_count": 109,
      "outputs": [
        {
          "output_type": "display_data",
          "data": {
            "image/png": "[encoded data removed]",
            "text/plain": [
              "<Figure size 432x288 with 1 Axes>"
            ]
          },
          "metadata": {
            "needs_background": "light"
          }
        }
      ]
    }
  ]
}