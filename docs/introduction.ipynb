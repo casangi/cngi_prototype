{
  "nbformat": 4,
  "nbformat_minor": 0,
  "metadata": {
    "colab": {
      "name": "introduction.ipynb",
      "provenance": [],
      "collapsed_sections": [],
      "toc_visible": true
    },
    "kernelspec": {
      "name": "python3",
      "display_name": "Python 3"
    },
    "language_info": {
      "name": "python"
    }
  },
  "cells": [
    {
      "cell_type": "markdown",
      "metadata": {
        "id": "O-uibytR-K2l"
      },
      "source": [
        "# Introduction\n",
        "\n",
        "CASA software development faces several competing challenges that are expected to only worsen with time.  As both a scientific \n",
        "research and development platform as well as a necessary component in multi-million dollar telescope operations, CASA must overcome \n",
        "the contradictory goals of being a flexible experimentation platform with mature, documented, tested, and stable performance.  \n",
        "Furthermore, it must accomplish this with a relatively modest development staff that is diverse, remote, and matrixed across many \n",
        "competing projects.\n",
        "\n",
        "Historically, much of CASA traces its roots to algorithms developed and refined over many decades and implemented in a custom code base \n",
        "utilized and maintained by a global, yet small developer base.  In years past, it was necessary to develop a custom infrastructure to \n",
        "support the unique needs of radio astronomy science.  Yet as data sizes, performance demands, and conflicting needs of multiple telescopes \n",
        "continue to rise, the overhead of maintaining this infrastructure grows exponentially.\n",
        "\n",
        "The CASA team has begun exploring options for a new generation of software to meet the growing demands of current and future instruments. \n",
        "This **cngi_prototype** package is a demonstration of the current state of our research efforts.  Its primary purpose is to showcase\n",
        "new [data structures](data_structures.ipynb) for MeasurementSet and Image contents built entirely in Python atop the popular technology \n",
        "stack of numpy, dask, and xarray. A selection of core mathematics, manipulation, middleware and analysis functions are shown in the \n",
        "[Visibility](visibilities.ipynb) and [Image](images.ipynb) overview sections to demonstrate the simplicity and scalability of the \n",
        "technology choices. Notional examples of [Calibration](calibration.rst), [Flagging](flagging.ipynb) and [Imaging](imaging.rst) \n",
        "are provided to illustrate future design and implementation direction. Finally, the most compute intensive areas of CASA imaging are \n",
        "implemented and [benchmarked](benchmarking.ipynb) to demonstrate the parallel scalability and raw performance now possible from a \n",
        "pure-Python software stack. \n",
        "\n",
        "A detailed explanation of technology choices, including the xarray and dask frameworks, the zarr storage format, and the functional \n",
        "design architecture can be found in the [Development](development.ipynb) section.\n",
        "\n"
      ]
    },
    {
      "cell_type": "markdown",
      "metadata": {
        "id": "w3vT5qH6-RDP"
      },
      "source": [
        "## Project Background\n",
        "The Common Astronomy Support Applications (CASA) package supports a variety of radio astronomy needs by providing mechanisms for data \n",
        "manipulation, analysis, calibration and imaging.  Derivatives of these broad categories include items such as visualization, simulation, \n",
        "conversion, and experimentation.  The primary data products of CASA are the MeasurementSet (MS) and Image file formats.  Additional \n",
        "products are not discussed here but include calibration tables and imaging cache.\n",
        "\n",
        "CASA is a layered collection of libraries, classes and functions spanning both C++ and Python languages as well as Object Oriented and \n",
        "Functional paradigms.  The base layer of CASA includes a standalone project, known as casacore, developed and maintained here: \n",
        "[https://github.com/casacore/casacore](https://github.com/casacore/casacore), as well as various external libraries to support mathematics, \n",
        "parallelization, visualization, etc. The base layer is wrapped under a middleware layer of CASA that abstracts some of the details of data \n",
        "access and allows for simpler expression of science algorithms.  The top layers are user-facing tools and tasks that directly expose the \n",
        "science of radio interferometer data reduction.\n",
        "\n"
      ]
    },
    {
      "cell_type": "markdown",
      "metadata": {
        "id": "ouExctqQ-Tm-"
      },
      "source": [
        "### Goals\n",
        "A great deal of the engineering complexity and processing time in CASA stems from the way in which underlying data is accessed and \n",
        "manipulated in the infrastructure layers.  By overhauling these base infrastructure layers, significant savings in complexity and \n",
        "processing time along with dramatic improvements to science development flexibility and potential can be realized.  Here we highlight \n",
        "the main goals and opportunities for improvement within the CASA codebase:\n",
        "\n",
        "**Maximize Performance**\n",
        "\n",
        "-   Fast experimentation\n",
        "-   (Near) linear scalability allowing users to reduce processing time by     adding cheap commodity hardware resources \n",
        "-   Extreme scalability to thousands of cores and petascale data sizes needed by next generation instruments such as ngVLA\n",
        "-   Fully utilize all cores, memory, and disk I/O simultaneously\n",
        "-   Support everything from single user laptops to high-end clusters in enterprise datacenters as well as fully distributed grid \n",
        "  and cloud processing environments\n",
        "\n",
        "**Minimize engineering overhead**\n",
        "\n",
        "-   Simplify scientific implementations without distraction of software engineering complexity\n",
        "-   Reduce custom code base by an order of magnitude\n",
        "-   Reduce development time of new features and maintenance overhead of existing features\n",
        "-   Support a variety of use cases and interoperability with other packages by leveraging off-the-shelf standards, tools, and formats\n",
        "\n"
      ]
    },
    {
      "cell_type": "markdown",
      "metadata": {
        "id": "v7ROfzNY-YEh"
      },
      "source": [
        "### Scope\n",
        "A complete top-down overhaul of the entirety of CASA is not feasible as a first (and only) step, as there are no complete and \n",
        "detailed requirements specifications, design documents, architecture or definition of correct output. Instead, the scope of this \n",
        "project is to first condense and replace the CASA data processing software infrastructure and casacore code base only with a new \n",
        "and functionally equivalent package (CNGI) in a bottom-up approach.  As a consequence of this infrastructure replacement, a second \n",
        "effort to migrate and/or replace significant portions of CASA science functionality is planned as an additional follow-on project (ngCASA).  \n",
        "\n",
        "Although roughly analogous to the current separation of CASA and casacore, the new ngCASA / CNGI separation will include more capabilities \n",
        "in CNGI than existed in casacore.  An additional distinction is being made between ngCASA as a library of Python functions, and the user \n",
        "applications built around those functions (i.e. PlotMS).\n",
        "\n",
        "The following diagram illustrates the scope of CNGI and ngCASA, and the ramifications for subsequent development.\n",
        "\n",
        "![singlemachinearchitecture](https://raw.githubusercontent.com/casangi/cngi_prototype/master/docs/_media/scope.png)\n",
        "\n"
      ]
    },
    {
      "cell_type": "markdown",
      "metadata": {
        "id": "Z04V_DXc-aXl"
      },
      "source": [
        "### CASA Next Generation Infrastructure (CNGI)\n",
        "The CASA Next Generation Infrastructure (CNGI) project will provide a replacement to the infrastructure and middleware layers of CASA \n",
        "using largely off-the-shelf products that are dramatically simpler to use and scalable to a variety of computing environments.  This \n",
        "will take the form of a processing package that includes a programming language, API, and hardware interface drivers.  This package \n",
        "will be functionally equivalent to the MeasurementSet and Image data manipulation capabilities of the base and middleware layers it \n",
        "replaces, but realized in an entirely new paradigm.\n",
        "\n"
      ]
    },
    {
      "cell_type": "markdown",
      "metadata": {
        "id": "Z3Pw84OG-c4p"
      },
      "source": [
        "### Future Next Generation CASA (ngCASA)\n",
        "The future Next Generation CASA project will use visibility and image manipulation methods from CNGI to implement a data analysis package \n",
        "that replaces the scientific application layer of CASA. This package will provide a set of functions that may be used either as stand-alone \n",
        "building blocks or strung together in a series (internally forming a DAG) to implement operations such as synthesis calibration and image\n",
        "reconstruction.  A user of ngCASA may choose to implement their own analysis task, use a pre-packaged task similar to one in current CASA, \n",
        "or embed ngCASA methods in a custom pipeline DAG.\n",
        "\n"
      ]
    },
    {
      "cell_type": "markdown",
      "metadata": {
        "id": "zvRd2G0T-ffr"
      },
      "source": [
        "### High Level Separation\n",
        "The main purpose behind separating layers of the code base into individual CNGI and ngCASA packages (and then further separating ngCASA \n",
        "with an additional Application layer) is to better support a diverse and wide ranging user base.  Global partnerships and collaborative \n",
        "agreements may be formed over the basic data types and processing engine in CNGI, with more observatory specific tailoring appearing the \n",
        "further up you go in the preceding diagram.  An important but often overlooked distinction exists between the needs of interactive human \n",
        "users, automated pipelines, and other applications wishing to build in CASA capabilities.  The addition of an application layer allows \n",
        "for better tailoring of the user experience to each different category of user.\n",
        "\n"
      ]
    },
    {
      "cell_type": "markdown",
      "metadata": {
        "id": "efDlcbuC-hei"
      },
      "source": [
        "### Prototype Demonstration Package\n",
        "This cngi_prototype demonstration package is a pilot effort to assess the technology choices made to date for the CNGI Project. It is\n",
        "primarily focused on prototyping CNGI-layer functionality to see how well it can work and perform against the goals of the project. A\n",
        "second objective is to show how technology choices are likely to satisfy future scientific and engineering needs of the ngCASA project. \n",
        "As such, some preliminary ngCASA layer components are included to build confidence that the infrastructure framework can handle the \n",
        "performance and complexity demands, and to illustrate how such functionality may look in the future.\n",
        "\n",
        "A detailed explanation of the design and technology choices, including xarray, dask, zarr, data structure formats, and functional\n",
        "programming style can be found in the [Development](development.ipynb) section.\n",
        "\n",
        "A bottom-up strategy that begins with these prototype building blocks while emphasizing scalability, simplicity and flexibility ensures\n",
        "meaningful work can proceed in the absence of a detailed requirements specification of future ngCASA needs. This package is likely to \n",
        "form the starting point for full production development of CNGI and ngCASA at a later date. As such a high degree of code reuse is \n",
        "anticipated.\n",
        "\n"
      ]
    },
    {
      "cell_type": "markdown",
      "metadata": {
        "id": "wVPDJMy3-jdW"
      },
      "source": [
        "## Installation\n",
        "The CNGI_Prototype demonstration package is available as a pypi package for user installation and assessment. Note this is a demonstration\n",
        "prototype only and **not intended for science**.  \n",
        "\n",
        "This is a source distribution package, and should work on most recent OS and Python versions >= 3.6.  However the functions to convert\n",
        "MS and Image data structures from current CASA format to the new format requires the CASA 6.2 casatools module. CASA 6 also requires \n",
        "FORTRAN libraries be installed in the OS. These are not included in the dependency list so that the rest of CNGI functionality may be used \n",
        "without these constraints.\n",
        "\n",
        "In the future, the conversion module may be moved outside of the CNGI package and distributed separately.\n",
        "\n"
      ]
    },
    {
      "cell_type": "markdown",
      "metadata": {
        "id": "9E6UavO68vf3"
      },
      "source": [
        "### Pip Installation\n",
        "\n",
        "**Mac Users** may encounter an installation error with the python-casacore dependency. See the Conda installation method instead\n",
        "\n",
        "```sh\n",
        "bash$: python3 -m venv cngi\n",
        "bash$: source cngi/bin/activate\n",
        "(cngi) bash$: pip install --upgrade pip wheel\n",
        "(cngi) bash$: pip install cngi-prototype\n",
        "```\n",
        "\n",
        "Sanity Check\n",
        "\n",
        "```\n",
        "(cngi) bash$: gdown --id 1ui6KxXivE0SRFW8na_ry1Blw-Zk5YDDH\n",
        "(cngi) bash$: tar -xf M100.vis.zarr.tar\n",
        "(cngi) bash$: python\n",
        "\n",
        ">>> from cngi.dio import read_vis\n",
        ">>>\n",
        ">>> mxds = read_vis('M100.vis.zarr')\n",
        ">>>\n",
        ">>> print(mxds)\n",
        ">>> print(mxds.xds0)\n",
        "```"
      ]
    },
    {
      "cell_type": "markdown",
      "metadata": {
        "id": "sIh6Ek43-l_q"
      },
      "source": [
        "### Pip Installation - Full CASA6 + CNGI\n",
        "\n",
        "```sh\n",
        "bash$: python3 -m venv cngi\n",
        "bash$: source cngi/bin/activate\n",
        "# [ubuntu only] sudo apt-get install libgfortran3\n",
        "(cngi) bash$: pip install --upgrade pip wheel\n",
        "(cngi) bash$: pip install casatools==6.2.0.124\n",
        "(cngi) bash$: pip install casadata\n",
        "(cngi) bash$: pip install cngi-prototype\n",
        "```\n",
        "\n",
        "Sanity check\n",
        "\n",
        "```\n",
        "(cngi) bash$: gdown --id 15HfB4rJKqEH7df088Ge5YLrCTXBIax6R\n",
        "(cngi) bash$: tar -xf M100.ms.tar\n",
        "(cngi) bash$: python\n",
        "\n",
        ">>> from cngi.conversion import convert_ms\n",
        ">>> \n",
        ">>> mxds = convert_ms('M100.ms')\n",
        ">>> print(mxds)\n",
        ">>> print(mxds.xds0)\n",
        "```"
      ]
    },
    {
      "cell_type": "markdown",
      "metadata": {
        "id": "OsU_39Le-oIB"
      },
      "source": [
        "### Conda Installation\n",
        "\n",
        "```sh\n",
        "bash$: conda create -n cngi python=3.6\n",
        "bash$: conda activate cngi\n",
        "bash$: conda install -c conda-forge python-casacore\n",
        "bash$: pip install cngi-prototype\n",
        "```\n",
        "\n"
      ]
    },
    {
      "cell_type": "markdown",
      "metadata": {
        "id": "OhWH2X6d-p4W"
      },
      "source": [
        "### Installation from Source\n",
        "\n",
        "```sh\n",
        "bash$: git clone https://github.com/casangi/cngi_prototype.git\n",
        "bash$: cd cngi_prototype\n",
        "bash$: python3 -m venv venv\n",
        "bash$: source venv/bin/activate\n",
        "bash$: pip install --upgrade pip wheel\n",
        "bash$: pip install -r requirements.txt\n",
        "bash$: python setup.py install --root=.\n",
        "```\n",
        "\n"
      ]
    },
    {
      "cell_type": "markdown",
      "metadata": {
        "id": "JiXda8cK-rtB"
      },
      "source": [
        "### Configure dask.distributed\n",
        "To avoid thread collisions, when using the Dask.distributed Client, set the following environment variables.\n",
        "\n",
        "```sh\n",
        "export OMP_NUM_THREADS=1 \n",
        "export MKL_NUM_THREADS=1\n",
        "export OPENBLAS_NUM_THREADS=1 \n",
        "```\n",
        "\n"
      ]
    },
    {
      "cell_type": "markdown",
      "metadata": {
        "id": "u_VpBpT0-tUi"
      },
      "source": [
        "###  Building Documentation from Source\n",
        "Follow steps to install cngi from source. Then navigate to the docs folder and execute the following:\n",
        "\n",
        "```sh\n",
        "sphinx-build -b html . ./build\n",
        "```\n",
        "View the documentation in your browser by navigating to:\n",
        "\n",
        " ```sh\n",
        "file:///path/to/cngi/cngi_prototype/docs/build/index.html\n",
        "```\n",
        "\n"
      ]
    },
    {
      "cell_type": "markdown",
      "metadata": {
        "id": "8Lvwe-IK-wl3"
      },
      "source": [
        "## Usage\n",
        "You can import things several different ways.  For example:\n",
        "```python\n",
        ">>> from cngi import dio\n",
        ">>> xds = dio.read_image(...)\n",
        "```\n",
        "or\n",
        "```python\n",
        ">>> from cngi.dio import read_image\n",
        ">>> xds = read_image(...)\n",
        "```\n",
        "or\n",
        "```python\n",
        ">>> import cngi.dio as cdio\n",
        ">>> xds = cdio.read_image(...)\n",
        "```\n",
        "\n",
        "Throughout the documentation we use the variable name `xds` to refer to Xarray DataSets.  \n",
        "`xda` may be used to refer to Xarray DataArrays.  This is a \"loose\" convention only. \n"
      ]
    }
  ]
}