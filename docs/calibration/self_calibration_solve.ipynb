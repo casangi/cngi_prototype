{
 "cells": [
  {
   "cell_type": "markdown",
   "metadata": {
    "colab_type": "text",
    "id": "view-in-github"
   },
   "source": [
    "<a href=\"https://colab.research.google.com/github/casangi/cngi_prototype/blob/master/docs/calibration/self_calibration_solve.ipynb\" target=\"_parent\"><img src=\"https://colab.research.google.com/assets/colab-badge.svg\" alt=\"Open In Colab\"/></a>"
   ]
  },
  {
   "cell_type": "markdown",
   "metadata": {
    "id": "scU9JVUodThH"
   },
   "source": [
    "# In Development\n",
    "\n",
    "(https://casaguides.nrao.edu/index.php/First_Look_at_Imaging) will be used. \n",
    "\n",
    "This walkthrough is designed to be run in a Jupyter notebook on Google Colaboratory. To open the notebook in colab, go [here](https://colab.research.google.com/github/casangi/cngi_prototype/blob/master/docs/calibration/self_calibration_solve.ipynb)."
   ]
  },
  {
   "cell_type": "markdown",
   "metadata": {
    "id": "znAYKj-Ym-xK"
   },
   "source": [
    "## Installation and Dataset Download\n"
   ]
  },
  {
   "cell_type": "code",
   "execution_count": 2,
   "metadata": {
    "colab": {
     "base_uri": "https://localhost:8080/",
     "height": 34
    },
    "id": "SwzBGY3JdThK",
    "outputId": "3c097749-04b2-4924-ce1b-7f35baf4a55d"
   },
   "outputs": [
    {
     "name": "stdout",
     "output_type": "stream",
     "text": [
      "complete\n"
     ]
    }
   ],
   "source": [
    "import os\n",
    "#os.system(\"pip install --extra-index-url https://test.pypi.org/simple/ cngi-prototype==0.0.70\")\n",
    "\n",
    "#sis14_twhya_field_5_lsrk.vis.zarr https://drive.google.com/file/d/1QRHqrYN_9jhGx0s0URzTYUVu5JsjJCEl/view?usp=sharing\n",
    "id = '1QRHqrYN_9jhGx0s0URzTYUVu5JsjJCEl'\n",
    "os.system('curl -c ./cookie -s -L \"https://drive.google.com/uc?export=download&id=%s\"' % id)\n",
    "os.system('curl -Lb ./cookie \"https://drive.google.com/uc?export=download&confirm=`awk \\'/download/ {print $NF}\\' ./cookie`&id=%s\" -o vis.zarr.zip' % id)\n",
    "os.system('unzip vis.zarr.zip')\n",
    "\n",
    "\n",
    "\n",
    "print('complete') "
   ]
  },
  {
   "cell_type": "markdown",
   "metadata": {
    "id": "aKxdfrzAsAox"
   },
   "source": [
    "## Dataset\n",
    "\n",
    "https://casaguides.nrao.edu/index.php?title=First_Look_at_Self_Calibration_CASA_6\n",
    "\n",
    "How to recreate data:\n",
    "\n",
    "https://bulk.cv.nrao.edu/almadata/public/working/sis14_twhya_calibrated_flagged.ms.tar\n",
    "\n",
    "```python\n",
    "mstransform('sis14_twhya_calibrated_flagged.ms',\n",
    "             outputvis='sis14_twhya_field_5_lsrk.ms',\n",
    "             regridms=True, outframe='LSRK', datacolumn='corrected', field='5')\n",
    "\n",
    "tclean(vis='sis14_twhya_field_5_lsrk.ms/',\n",
    "       imagename='first_image',\n",
    "       spw='',\n",
    "       specmode='mfs',\n",
    "       deconvolver='hogbom',\n",
    "       nterms=1,\n",
    "       gridder='standard',\n",
    "       imsize=[250,250],\n",
    "       cell=['0.1arcsec'],\n",
    "       weighting='natural',\n",
    "       threshold='0mJy',\n",
    "       niter=5000,\n",
    "       savemodel='modelcolumn')\n",
    "\n",
    "from cngi.conversion import convert_ms\n",
    "vis_mxds = convert_ms('sis14_twhya_field_5_lsrk.ms/',chunks=(27,21,32,2))\n",
    "```"
   ]
  },
  {
   "cell_type": "code",
   "execution_count": 10,
   "metadata": {},
   "outputs": [
    {
     "name": "stdout",
     "output_type": "stream",
     "text": [
      "The autoreload extension is already loaded. To reload it, use:\n",
      "  %reload_ext autoreload\n"
     ]
    }
   ],
   "source": [
    "#Reload modules\n",
    "%load_ext autoreload\n",
    "%autoreload 2"
   ]
  },
  {
   "cell_type": "code",
   "execution_count": 13,
   "metadata": {
    "colab": {
     "base_uri": "https://localhost:8080/",
     "height": 785
    },
    "id": "pHP_zBN4sAoy",
    "outputId": "14675060-55f8-4b94-cd1a-ed3f8b478897",
    "scrolled": true
   },
   "outputs": [
    {
     "name": "stderr",
     "output_type": "stream",
     "text": [
      "/Users/jsteeb/anaconda3/lib/python3.7/site-packages/dask/array/numpy_compat.py:40: RuntimeWarning: invalid value encountered in true_divide\n",
      "  x = np.divide(x1, x2, out)\n",
      "/Users/jsteeb/anaconda3/lib/python3.7/site-packages/dask/core.py:121: RuntimeWarning: invalid value encountered in greater\n",
      "  return func(*(_execute_task(a, cache) for a in args))\n"
     ]
    },
    {
     "name": "stdout",
     "output_type": "stream",
     "text": [
      "<xarray.Dataset>\n",
      "Dimensions:         (baseline: 210, chan: 384, pol: 2, pol_id: 1, spw_id: 1, time: 11, uvw_index: 3)\n",
      "Coordinates:\n",
      "  * chan            (chan) float64 3.725e+11 3.725e+11 ... 3.728e+11 3.728e+11\n",
      "    chan_width      (chan) float64 dask.array<chunksize=(384,), meta=np.ndarray>\n",
      "    effective_bw    (chan) float64 dask.array<chunksize=(384,), meta=np.ndarray>\n",
      "  * pol             (pol) int32 9 12\n",
      "  * pol_id          (pol_id) int32 0\n",
      "    resolution      (chan) float64 dask.array<chunksize=(384,), meta=np.ndarray>\n",
      "  * spw_id          (spw_id) int32 0\n",
      "  * time            (time) datetime64[ns] 2012-11-19T07:57:59.892000062 ... 2...\n",
      "  * baseline        (baseline) int64 0 1 2 3 4 5 6 ... 204 205 206 207 208 209\n",
      "Dimensions without coordinates: uvw_index\n",
      "Data variables:\n",
      "    ANTENNA1        (time, baseline) int32 dask.array<chunksize=(1, 210), meta=np.ndarray>\n",
      "    ANTENNA2        (time, baseline) int32 dask.array<chunksize=(1, 210), meta=np.ndarray>\n",
      "    ARRAY_ID        (time, baseline) int32 dask.array<chunksize=(1, 210), meta=np.ndarray>\n",
      "    EXPOSURE        (time, baseline) float64 dask.array<chunksize=(1, 210), meta=np.ndarray>\n",
      "    FEED1           (time, baseline) int32 dask.array<chunksize=(1, 210), meta=np.ndarray>\n",
      "    FEED2           (time, baseline) int32 dask.array<chunksize=(1, 210), meta=np.ndarray>\n",
      "    FIELD_ID        (time, baseline) int32 dask.array<chunksize=(1, 210), meta=np.ndarray>\n",
      "    FLAG            (time, baseline, chan, pol) bool dask.array<chunksize=(1, 210, 384, 2), meta=np.ndarray>\n",
      "    INTERVAL        (time, baseline) float64 dask.array<chunksize=(1, 210), meta=np.ndarray>\n",
      "    MODEL_DATA      (time, baseline, chan, pol) complex128 dask.array<chunksize=(1, 210, 384, 2), meta=np.ndarray>\n",
      "    OBSERVATION_ID  (time, baseline) int32 dask.array<chunksize=(1, 210), meta=np.ndarray>\n",
      "    PROCESSOR_ID    (time, baseline) int32 dask.array<chunksize=(1, 210), meta=np.ndarray>\n",
      "    SCAN_NUMBER     (time, baseline) int32 dask.array<chunksize=(1, 210), meta=np.ndarray>\n",
      "    STATE_ID        (time, baseline) int32 dask.array<chunksize=(1, 210), meta=np.ndarray>\n",
      "    TIME_CENTROID   (time, baseline) float64 dask.array<chunksize=(1, 210), meta=np.ndarray>\n",
      "    UVW             (time, baseline, uvw_index) float64 dask.array<chunksize=(1, 210, 3), meta=np.ndarray>\n",
      "    WEIGHT          (time, baseline, chan, pol) float64 dask.array<chunksize=(1, 210, 384, 2), meta=np.ndarray>\n",
      "    DATA            (time, baseline, chan, pol) complex128 dask.array<chunksize=(1, 210, 384, 2), meta=np.ndarray>\n",
      "Attributes:\n",
      "    bbc_no:           2\n",
      "    corr_product:     [[0, 0], [1, 1]]\n",
      "    data_groups:      [{'1': {'data': 'DATA', 'flag': 'FLAG', 'id': '1', 'uvw...\n",
      "    freq_group:       0\n",
      "    freq_group_name:  \n",
      "    if_conv_chain:    0\n",
      "    meas_freq_ref:    1\n",
      "    name:             ALMA_RB_07#BB_2#SW-01#FULL_RES\n",
      "    net_sideband:     2\n",
      "    num_chan:         384\n",
      "    num_corr:         2\n",
      "    ref_frequency:    372520022603.63745\n",
      "    total_bandwidth:  234366781.0546875\n"
     ]
    }
   ],
   "source": [
    "import xarray as xr\n",
    "from cngi.dio import read_vis, read_image\n",
    "from ngcasa.calibration import solve_calibration\n",
    "from cngi.vis import chan_average, time_average\n",
    "#from cngi.vis import apply_flag\n",
    "\n",
    "xr.set_options(display_style=\"html\")\n",
    "# 270, 210, 384, 2\n",
    "vis_mxds = read_vis(\"sis14_twhya_field_5_lsrk.vis.zarr\",chunks={'time':27,'baseline':210,'chan':384,'pol':2})\n",
    "\n",
    "x = time_average(vis_mxds, 'xds0', bin=28)\n",
    "#(mxds, vis, bin=1, width=None, span='state', maxuvwdistance=None)[source]\n",
    "print(x.xds0)\n",
    "\n",
    "#print(vis_mxds.xds0)\n",
    "\n",
    "cal_xds = None\n",
    "sel_parms = {}\n",
    "sel_parms['xds'] = 'xds0'\n",
    "sel_parms['data_group_in'] = {'data':'DATA','model_data':'MODEL_DATA','weight':'WEIGHT'}\n",
    "\n",
    "solve_parms= {}\n",
    "\n",
    "\n",
    "\n",
    "#cal_solution = solve_calibration(vis_mxds, cal_xds, solve_parms, sel_parms)\n",
    "\n",
    "\n",
    "#cal_solution.compute()\n"
   ]
  },
  {
   "cell_type": "code",
   "execution_count": null,
   "metadata": {},
   "outputs": [],
   "source": []
  }
 ],
 "metadata": {
  "colab": {
   "collapsed_sections": [],
   "include_colab_link": true,
   "name": "continuum_imaging_example.ipynb",
   "provenance": [],
   "toc_visible": true
  },
  "kernelspec": {
   "display_name": "Python 3",
   "language": "python",
   "name": "python3"
  },
  "language_info": {
   "codemirror_mode": {
    "name": "ipython",
    "version": 3
   },
   "file_extension": ".py",
   "mimetype": "text/x-python",
   "name": "python",
   "nbconvert_exporter": "python",
   "pygments_lexer": "ipython3",
   "version": "3.7.3"
  }
 },
 "nbformat": 4,
 "nbformat_minor": 1
}
